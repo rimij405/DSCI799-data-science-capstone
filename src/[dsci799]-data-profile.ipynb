{
 "cells": [
  {
   "cell_type": "markdown",
   "metadata": {},
   "source": [
    "Course: DSCI 799\n",
    "Student: Ian Effendi (iae2784@rit.edu)\n",
    "\n",
    "# Data Profile\n",
    "\n",
    "> This notebook is used to perform the data profiling on the NFT marektplace dataset."
   ]
  },
  {
   "cell_type": "code",
   "execution_count": 1,
   "metadata": {},
   "outputs": [],
   "source": [
    "# Import python for processing the data.\n",
    "import pandas as pd\n",
    "import numpy as np\n",
    "from tqdm import tqdm\n",
    "from wordcloud import WordCloud\n",
    "import matplotlib.pyplot as plt"
   ]
  },
  {
   "cell_type": "code",
   "execution_count": 2,
   "metadata": {},
   "outputs": [],
   "source": [
    "# Settings\n",
    "URI = \"../data/ext/Data_API.csv.gz\"\n",
    "chunksize = 40000\n",
    "dtypes = {\n",
    "    'Smart_contract': \"\",\n",
    "    'ID_token': \"\",\n",
    "    'Transaction_hash': \"\",\n",
    "    'Seller_address': \"\",\n",
    "    'Seller_username': \"\",\n",
    "    'Buyer_address': \"\",\n",
    "    'Buyer_username': \"\",\n",
    "    'Image_url_1': \"\",\n",
    "    'Image_url_2': \"\",\n",
    "    'Image_url_3': \"\",\n",
    "    'Image_url_4': \"\",\n",
    "    'Price_Crypto': \"\",\n",
    "    'Crypto': \"\",\n",
    "    'Price_USD': \"\",\n",
    "    'Name': \"\",\n",
    "    'Description': \"\",\n",
    "    'Collection': \"\",\n",
    "    'Market': \"\",\n",
    "    'Datetime_updated': \"\",\n",
    "    'Datetime_updated_seconds': \"\",\n",
    "    'Permanent_link': \"\",\n",
    "    'Unique_id_collection': \"\",\n",
    "    'Collection_cleaned': \"\",\n",
    "    'Category': \"\"    \n",
    "}"
   ]
  },
  {
   "cell_type": "code",
   "execution_count": 3,
   "metadata": {},
   "outputs": [
    {
     "name": "stdout",
     "output_type": "stream",
     "text": [
      "CPU times: user 2.07 ms, sys: 12.2 ms, total: 14.2 ms\n",
      "Wall time: 15.8 ms\n"
     ]
    }
   ],
   "source": [
    "time header = pd.read_csv(URI, compression=\"gzip\", nrows=1)"
   ]
  },
  {
   "cell_type": "code",
   "execution_count": 4,
   "metadata": {},
   "outputs": [
    {
     "data": {
      "text/html": [
       "<div>\n",
       "<style scoped>\n",
       "    .dataframe tbody tr th:only-of-type {\n",
       "        vertical-align: middle;\n",
       "    }\n",
       "\n",
       "    .dataframe tbody tr th {\n",
       "        vertical-align: top;\n",
       "    }\n",
       "\n",
       "    .dataframe thead th {\n",
       "        text-align: right;\n",
       "    }\n",
       "</style>\n",
       "<table border=\"1\" class=\"dataframe\">\n",
       "  <thead>\n",
       "    <tr style=\"text-align: right;\">\n",
       "      <th></th>\n",
       "      <th>Smart_contract</th>\n",
       "      <th>ID_token</th>\n",
       "      <th>Transaction_hash</th>\n",
       "      <th>Seller_address</th>\n",
       "      <th>Seller_username</th>\n",
       "      <th>Buyer_address</th>\n",
       "      <th>Buyer_username</th>\n",
       "      <th>Image_url_1</th>\n",
       "      <th>Image_url_2</th>\n",
       "      <th>Image_url_3</th>\n",
       "      <th>...</th>\n",
       "      <th>Name</th>\n",
       "      <th>Description</th>\n",
       "      <th>Collection</th>\n",
       "      <th>Market</th>\n",
       "      <th>Datetime_updated</th>\n",
       "      <th>Datetime_updated_seconds</th>\n",
       "      <th>Permanent_link</th>\n",
       "      <th>Unique_id_collection</th>\n",
       "      <th>Collection_cleaned</th>\n",
       "      <th>Category</th>\n",
       "    </tr>\n",
       "  </thead>\n",
       "  <tbody>\n",
       "    <tr>\n",
       "      <th>0</th>\n",
       "      <td>NaN</td>\n",
       "      <td>87094722.0</td>\n",
       "      <td>0xed9ff1c311a611e5c457ce0a49bbbb7ed55efca98842...</td>\n",
       "      <td>0x76481caa104b5f6bccb540dae4cefaf1c398ebea</td>\n",
       "      <td>NaN</td>\n",
       "      <td>0xe0fb7622091e3d9ef9b438471b10b9ea88c7cf6b</td>\n",
       "      <td>NaN</td>\n",
       "      <td>https://card.godsunchained.com/?id=33&amp;q=4</td>\n",
       "      <td>NaN</td>\n",
       "      <td>NaN</td>\n",
       "      <td>...</td>\n",
       "      <td>NaN</td>\n",
       "      <td>NaN</td>\n",
       "      <td>Godsunchained</td>\n",
       "      <td>Godsunchained</td>\n",
       "      <td>2019-11-30 00:00:00</td>\n",
       "      <td>2019-11-30 23:59:33</td>\n",
       "      <td>NaN</td>\n",
       "      <td>('Godsunchained', '87094722.0')</td>\n",
       "      <td>Godsunchained</td>\n",
       "      <td>Games</td>\n",
       "    </tr>\n",
       "  </tbody>\n",
       "</table>\n",
       "<p>1 rows × 24 columns</p>\n",
       "</div>"
      ],
      "text/plain": [
       "   Smart_contract    ID_token  \\\n",
       "0             NaN  87094722.0   \n",
       "\n",
       "                                    Transaction_hash  \\\n",
       "0  0xed9ff1c311a611e5c457ce0a49bbbb7ed55efca98842...   \n",
       "\n",
       "                               Seller_address  Seller_username  \\\n",
       "0  0x76481caa104b5f6bccb540dae4cefaf1c398ebea              NaN   \n",
       "\n",
       "                                Buyer_address  Buyer_username  \\\n",
       "0  0xe0fb7622091e3d9ef9b438471b10b9ea88c7cf6b             NaN   \n",
       "\n",
       "                                 Image_url_1  Image_url_2  Image_url_3  ...  \\\n",
       "0  https://card.godsunchained.com/?id=33&q=4          NaN          NaN  ...   \n",
       "\n",
       "   Name  Description     Collection         Market     Datetime_updated  \\\n",
       "0   NaN          NaN  Godsunchained  Godsunchained  2019-11-30 00:00:00   \n",
       "\n",
       "   Datetime_updated_seconds Permanent_link             Unique_id_collection  \\\n",
       "0       2019-11-30 23:59:33            NaN  ('Godsunchained', '87094722.0')   \n",
       "\n",
       "  Collection_cleaned Category  \n",
       "0      Godsunchained    Games  \n",
       "\n",
       "[1 rows x 24 columns]"
      ]
     },
     "execution_count": 4,
     "metadata": {},
     "output_type": "execute_result"
    }
   ],
   "source": [
    "header"
   ]
  },
  {
   "cell_type": "code",
   "execution_count": 5,
   "metadata": {},
   "outputs": [
    {
     "data": {
      "text/plain": [
       "['Smart_contract',\n",
       " 'ID_token',\n",
       " 'Transaction_hash',\n",
       " 'Seller_address',\n",
       " 'Seller_username',\n",
       " 'Buyer_address',\n",
       " 'Buyer_username',\n",
       " 'Image_url_1',\n",
       " 'Image_url_2',\n",
       " 'Image_url_3',\n",
       " 'Image_url_4',\n",
       " 'Price_Crypto',\n",
       " 'Crypto',\n",
       " 'Price_USD',\n",
       " 'Name',\n",
       " 'Description',\n",
       " 'Collection',\n",
       " 'Market',\n",
       " 'Datetime_updated',\n",
       " 'Datetime_updated_seconds',\n",
       " 'Permanent_link',\n",
       " 'Unique_id_collection',\n",
       " 'Collection_cleaned',\n",
       " 'Category']"
      ]
     },
     "execution_count": 5,
     "metadata": {},
     "output_type": "execute_result"
    }
   ],
   "source": [
    "list(header.columns)"
   ]
  },
  {
   "cell_type": "code",
   "execution_count": 6,
   "metadata": {},
   "outputs": [
    {
     "name": "stderr",
     "output_type": "stream",
     "text": [
      "152it [00:52,  2.91it/s]"
     ]
    },
    {
     "name": "stdout",
     "output_type": "stream",
     "text": [
      "Found 6071027 row(s) of data.\n"
     ]
    },
    {
     "name": "stderr",
     "output_type": "stream",
     "text": [
      "\n"
     ]
    }
   ],
   "source": [
    "lines = 0\n",
    "cols = list(dtypes.keys())\n",
    "for df_chunk in tqdm(pd.read_csv(URI, usecols=cols, chunksize=chunksize, low_memory=False)):\n",
    "    lines = lines + df_chunk.shape[0]\n",
    "print(f'Found {lines} row(s) of data.');"
   ]
  },
  {
   "cell_type": "code",
   "execution_count": 7,
   "metadata": {},
   "outputs": [
    {
     "name": "stderr",
     "output_type": "stream",
     "text": [
      "152it [00:51,  2.95it/s]\n"
     ]
    },
    {
     "name": "stdout",
     "output_type": "stream",
     "text": [
      "Found 6071027 row(s) of data.\n"
     ]
    }
   ],
   "source": [
    "df_list = []\n",
    "lines = 0\n",
    "for df_chunk in tqdm(pd.read_csv(URI, usecols=cols, chunksize=chunksize, low_memory=False)):\n",
    "    lines = lines + df_chunk.shape[0];\n",
    "    df_list.append(df_chunk);\n",
    "del df_chunk\n",
    "X = pd.concat(df_list);\n",
    "del df_list    \n",
    "print(f'Found {lines} row(s) of data.')"
   ]
  },
  {
   "cell_type": "code",
   "execution_count": 8,
   "metadata": {},
   "outputs": [
    {
     "name": "stdout",
     "output_type": "stream",
     "text": [
      "Art\n",
      "Utility\n",
      "['Games' 'Art' 'Other' 'Collectible' 'Metaverse' 'Utility']\n",
      "count     6071027\n",
      "unique          6\n",
      "top         Games\n",
      "freq      2643014\n",
      "Name: Category, dtype: object\n"
     ]
    }
   ],
   "source": [
    "print(X['Category'].min())\n",
    "print(X['Category'].max())\n",
    "print(X['Category'].unique())\n",
    "print(X['Category'].describe())"
   ]
  },
  {
   "cell_type": "code",
   "execution_count": 53,
   "metadata": {},
   "outputs": [
    {
     "name": "stdout",
     "output_type": "stream",
     "text": [
      "['Godsunchained' 'Cryptokittie' 'Oghodlergang' ... 'Cryptobullrun'\n",
      " 'Szabotage' 'Ataricapsulecollection']\n",
      "count     6071027\n",
      "unique       4624\n",
      "top         Alien\n",
      "freq      1290146\n",
      "Name: Collection_cleaned, dtype: object\n"
     ]
    }
   ],
   "source": [
    "print(X['Collection_cleaned'].unique())\n",
    "print(X['Collection_cleaned'].describe())"
   ]
  },
  {
   "cell_type": "code",
   "execution_count": 54,
   "metadata": {},
   "outputs": [
    {
     "name": "stdout",
     "output_type": "stream",
     "text": [
      "['Godsunchained' 'Cryptokitties' 'Atomic' 'Decentraland' 'OpenSea']\n",
      "count     6071027\n",
      "unique          5\n",
      "top        Atomic\n",
      "freq      3185292\n",
      "Name: Market, dtype: object\n"
     ]
    }
   ],
   "source": [
    "print(X['Market'].unique())\n",
    "print(X['Market'].describe())"
   ]
  },
  {
   "cell_type": "code",
   "execution_count": 9,
   "metadata": {},
   "outputs": [
    {
     "name": "stdout",
     "output_type": "stream",
     "text": [
      "2017-11-23 00:00:00\n",
      "2021-04-27 00:00:00\n",
      "count                 6071027\n",
      "unique                   1252\n",
      "top       2021-04-27 00:00:00\n",
      "freq                   154445\n",
      "Name: Datetime_updated, dtype: object\n"
     ]
    }
   ],
   "source": [
    "print(X['Datetime_updated'].min())\n",
    "print(X['Datetime_updated'].max())\n",
    "print(X['Datetime_updated'].describe())"
   ]
  },
  {
   "cell_type": "code",
   "execution_count": 10,
   "metadata": {},
   "outputs": [
    {
     "name": "stdout",
     "output_type": "stream",
     "text": [
      "count     6071027\n",
      "unique    4747954\n",
      "top             0\n",
      "freq         8206\n",
      "Name: ID_token, dtype: object\n",
      "6071027\n"
     ]
    }
   ],
   "source": [
    "# print(X['ID_token'].min())\n",
    "print(X['ID_token'].describe())\n",
    "print(X['ID_token'].count())"
   ]
  },
  {
   "cell_type": "code",
   "execution_count": 11,
   "metadata": {},
   "outputs": [
    {
     "data": {
      "text/plain": [
       "['Smart_contract',\n",
       " 'ID_token',\n",
       " 'Transaction_hash',\n",
       " 'Seller_address',\n",
       " 'Seller_username',\n",
       " 'Buyer_address',\n",
       " 'Buyer_username',\n",
       " 'Image_url_1',\n",
       " 'Image_url_2',\n",
       " 'Image_url_3',\n",
       " 'Image_url_4',\n",
       " 'Price_Crypto',\n",
       " 'Crypto',\n",
       " 'Price_USD',\n",
       " 'Name',\n",
       " 'Description',\n",
       " 'Collection',\n",
       " 'Market',\n",
       " 'Datetime_updated',\n",
       " 'Datetime_updated_seconds',\n",
       " 'Permanent_link',\n",
       " 'Unique_id_collection',\n",
       " 'Collection_cleaned',\n",
       " 'Category']"
      ]
     },
     "execution_count": 11,
     "metadata": {},
     "output_type": "execute_result"
    }
   ],
   "source": [
    "list(X.columns)"
   ]
  },
  {
   "cell_type": "code",
   "execution_count": 12,
   "metadata": {},
   "outputs": [
    {
     "name": "stdout",
     "output_type": "stream",
     "text": [
      "<class 'pandas.core.frame.DataFrame'>\n",
      "RangeIndex: 6071027 entries, 0 to 6071026\n",
      "Data columns (total 24 columns):\n",
      " #   Column                    Dtype  \n",
      "---  ------                    -----  \n",
      " 0   Smart_contract            object \n",
      " 1   ID_token                  object \n",
      " 2   Transaction_hash          object \n",
      " 3   Seller_address            object \n",
      " 4   Seller_username           object \n",
      " 5   Buyer_address             object \n",
      " 6   Buyer_username            object \n",
      " 7   Image_url_1               object \n",
      " 8   Image_url_2               object \n",
      " 9   Image_url_3               object \n",
      " 10  Image_url_4               object \n",
      " 11  Price_Crypto              float64\n",
      " 12  Crypto                    object \n",
      " 13  Price_USD                 float64\n",
      " 14  Name                      object \n",
      " 15  Description               object \n",
      " 16  Collection                object \n",
      " 17  Market                    object \n",
      " 18  Datetime_updated          object \n",
      " 19  Datetime_updated_seconds  object \n",
      " 20  Permanent_link            object \n",
      " 21  Unique_id_collection      object \n",
      " 22  Collection_cleaned        object \n",
      " 23  Category                  object \n",
      "dtypes: float64(2), object(22)\n",
      "memory usage: 1.1+ GB\n"
     ]
    }
   ],
   "source": [
    "X.info()"
   ]
  },
  {
   "cell_type": "code",
   "execution_count": 13,
   "metadata": {},
   "outputs": [
    {
     "name": "stderr",
     "output_type": "stream",
     "text": [
      "  4%|▍         | 1/24 [00:00<00:07,  3.11it/s]"
     ]
    },
    {
     "name": "stdout",
     "output_type": "stream",
     "text": [
      "count          5109417\n",
      "unique            1895\n",
      "top       atomicassets\n",
      "freq           3185292\n",
      "Name: Smart_contract, dtype: object\n"
     ]
    },
    {
     "name": "stderr",
     "output_type": "stream",
     "text": [
      "  8%|▊         | 2/24 [00:05<01:10,  3.19s/it]"
     ]
    },
    {
     "name": "stdout",
     "output_type": "stream",
     "text": [
      "count     6071027\n",
      "unique    4747954\n",
      "top             0\n",
      "freq         8206\n",
      "Name: ID_token, dtype: object\n"
     ]
    },
    {
     "name": "stderr",
     "output_type": "stream",
     "text": [
      " 12%|█▎        | 3/24 [00:07<00:58,  2.76s/it]"
     ]
    },
    {
     "name": "stdout",
     "output_type": "stream",
     "text": [
      "count                                               2885387\n",
      "unique                                              2180960\n",
      "top       0xd037bb2c6d635f36a4e7a0a771d9dfebeb97ddcaf921...\n",
      "freq                                                     36\n",
      "Name: Transaction_hash, dtype: object\n"
     ]
    },
    {
     "name": "stderr",
     "output_type": "stream",
     "text": [
      " 17%|█▋        | 4/24 [00:08<00:38,  1.93s/it]"
     ]
    },
    {
     "name": "stdout",
     "output_type": "stream",
     "text": [
      "count                                        6071027\n",
      "unique                                        312920\n",
      "top       0x76481caa104b5f6bccb540dae4cefaf1c398ebea\n",
      "freq                                          192586\n",
      "Name: Seller_address, dtype: object\n"
     ]
    },
    {
     "name": "stderr",
     "output_type": "stream",
     "text": [
      " 21%|██        | 5/24 [00:08<00:25,  1.33s/it]"
     ]
    },
    {
     "name": "stdout",
     "output_type": "stream",
     "text": [
      "count      1093254\n",
      "unique       34488\n",
      "top       0x4FabDA\n",
      "freq         24294\n",
      "Name: Seller_username, dtype: object\n"
     ]
    },
    {
     "name": "stderr",
     "output_type": "stream",
     "text": [
      " 25%|██▌       | 6/24 [00:09<00:19,  1.10s/it]"
     ]
    },
    {
     "name": "stdout",
     "output_type": "stream",
     "text": [
      "count                                        6071027\n",
      "unique                                        358348\n",
      "top       0x76481caa104b5f6bccb540dae4cefaf1c398ebea\n",
      "freq                                          130231\n",
      "Name: Buyer_address, dtype: object\n"
     ]
    },
    {
     "name": "stderr",
     "output_type": "stream",
     "text": [
      " 29%|██▉       | 7/24 [00:09<00:14,  1.20it/s]"
     ]
    },
    {
     "name": "stdout",
     "output_type": "stream",
     "text": [
      "count          892863\n",
      "unique          59068\n",
      "top       StrongHands\n",
      "freq            29469\n",
      "Name: Buyer_username, dtype: object\n"
     ]
    },
    {
     "name": "stderr",
     "output_type": "stream",
     "text": [
      " 33%|███▎      | 8/24 [00:11<00:20,  1.26s/it]"
     ]
    },
    {
     "name": "stdout",
     "output_type": "stream",
     "text": [
      "count                                            6016229\n",
      "unique                                           1602953\n",
      "top       QmYm1FG7LxhF3mFUaVmVEVqRztEmByVbHwL6ZWXwVY2dvb\n",
      "freq                                              306327\n",
      "Name: Image_url_1, dtype: object\n"
     ]
    },
    {
     "name": "stderr",
     "output_type": "stream",
     "text": [
      " 38%|███▊      | 9/24 [00:13<00:19,  1.30s/it]"
     ]
    },
    {
     "name": "stdout",
     "output_type": "stream",
     "text": [
      "count                                               4949005\n",
      "unique                                              1186551\n",
      "top       https://ipfs.io/ipfs/QmYm1FG7LxhF3mFUaVmVEVqRz...\n",
      "freq                                                 306327\n",
      "Name: Image_url_2, dtype: object\n"
     ]
    },
    {
     "name": "stderr",
     "output_type": "stream",
     "text": [
      " 42%|████▏     | 10/24 [00:14<00:18,  1.29s/it]"
     ]
    },
    {
     "name": "stdout",
     "output_type": "stream",
     "text": [
      "count                                               5038697\n",
      "unique                                               995183\n",
      "top       https://ipfs.atomichub.io/ipfs/QmYm1FG7LxhF3mF...\n",
      "freq                                                 306327\n",
      "Name: Image_url_3, dtype: object\n"
     ]
    },
    {
     "name": "stderr",
     "output_type": "stream",
     "text": [
      " 50%|█████     | 12/24 [00:15<00:11,  1.06it/s]"
     ]
    },
    {
     "name": "stdout",
     "output_type": "stream",
     "text": [
      "count                                               5034085\n",
      "unique                                               990833\n",
      "top       https://wax.atomichub.io/ipfs/QmYm1FG7LxhF3mFU...\n",
      "freq                                                 306327\n",
      "Name: Image_url_4, dtype: object\n",
      "count    6.071027e+06\n",
      "mean     6.574200e+02\n",
      "std      1.217706e+06\n",
      "min      0.000000e+00\n",
      "25%      2.400000e-02\n",
      "50%      4.100000e-01\n",
      "75%      5.000000e+00\n",
      "max      3.000000e+09\n",
      "Name: Price_Crypto, dtype: float64\n"
     ]
    },
    {
     "name": "stderr",
     "output_type": "stream",
     "text": [
      " 58%|█████▊    | 14/24 [00:16<00:05,  1.73it/s]"
     ]
    },
    {
     "name": "stdout",
     "output_type": "stream",
     "text": [
      "count     6071027\n",
      "unique        160\n",
      "top           WAX\n",
      "freq      3185292\n",
      "Name: Crypto, dtype: object\n",
      "count    6.062744e+06\n",
      "mean     1.463413e+02\n",
      "std      5.488389e+03\n",
      "min      1.514250e-16\n",
      "25%      2.277600e-01\n",
      "50%      1.426470e+00\n",
      "75%      1.385100e+01\n",
      "max      7.501893e+06\n",
      "Name: Price_USD, dtype: float64\n"
     ]
    },
    {
     "name": "stderr",
     "output_type": "stream",
     "text": [
      " 62%|██████▎   | 15/24 [00:17<00:06,  1.36it/s]"
     ]
    },
    {
     "name": "stdout",
     "output_type": "stream",
     "text": [
      "count          1851964\n",
      "unique         1219345\n",
      "top       NFT Yourself\n",
      "freq              5337\n",
      "Name: Name, dtype: object\n"
     ]
    },
    {
     "name": "stderr",
     "output_type": "stream",
     "text": [
      " 67%|██████▋   | 16/24 [00:18<00:05,  1.44it/s]"
     ]
    },
    {
     "name": "stdout",
     "output_type": "stream",
     "text": [
      "count                                               1730729\n",
      "unique                                               489235\n",
      "top       Rare Player Cards are only issued at 100 editi...\n",
      "freq                                                 275588\n",
      "Name: Description, dtype: object\n"
     ]
    },
    {
     "name": "stderr",
     "output_type": "stream",
     "text": [
      " 71%|███████   | 17/24 [00:18<00:04,  1.73it/s]"
     ]
    },
    {
     "name": "stdout",
     "output_type": "stream",
     "text": [
      "count          6071027\n",
      "unique            6283\n",
      "top       alien.worlds\n",
      "freq           1288810\n",
      "Name: Collection, dtype: object\n"
     ]
    },
    {
     "name": "stderr",
     "output_type": "stream",
     "text": [
      " 75%|███████▌  | 18/24 [00:18<00:03,  1.95it/s]"
     ]
    },
    {
     "name": "stdout",
     "output_type": "stream",
     "text": [
      "count     6071027\n",
      "unique          5\n",
      "top        Atomic\n",
      "freq      3185292\n",
      "Name: Market, dtype: object\n"
     ]
    },
    {
     "name": "stderr",
     "output_type": "stream",
     "text": [
      " 79%|███████▉  | 19/24 [00:19<00:02,  2.16it/s]"
     ]
    },
    {
     "name": "stdout",
     "output_type": "stream",
     "text": [
      "count                 6071027\n",
      "unique                   1252\n",
      "top       2021-04-27 00:00:00\n",
      "freq                   154445\n",
      "Name: Datetime_updated, dtype: object\n"
     ]
    },
    {
     "name": "stderr",
     "output_type": "stream",
     "text": [
      " 83%|████████▎ | 20/24 [00:22<00:05,  1.41s/it]"
     ]
    },
    {
     "name": "stdout",
     "output_type": "stream",
     "text": [
      "count                 6071027\n",
      "unique                4008050\n",
      "top       2021-04-21 17:17:36\n",
      "freq                       87\n",
      "Name: Datetime_updated_seconds, dtype: object\n"
     ]
    },
    {
     "name": "stderr",
     "output_type": "stream",
     "text": [
      " 88%|████████▊ | 21/24 [00:24<00:04,  1.37s/it]"
     ]
    },
    {
     "name": "stdout",
     "output_type": "stream",
     "text": [
      "count                                               1907262\n",
      "unique                                              1437009\n",
      "top       https://opensea.io/assets/0x557430421f8f3ed0a9...\n",
      "freq                                                   5151\n",
      "Name: Permanent_link, dtype: object\n"
     ]
    },
    {
     "name": "stderr",
     "output_type": "stream",
     "text": [
      " 92%|█████████▏| 22/24 [00:28<00:04,  2.30s/it]"
     ]
    },
    {
     "name": "stdout",
     "output_type": "stream",
     "text": [
      "count                                6071027\n",
      "unique                               4678242\n",
      "top       ('Kings-of-leon-yellowheart', '0')\n",
      "freq                                    5420\n",
      "Name: Unique_id_collection, dtype: object\n"
     ]
    },
    {
     "name": "stderr",
     "output_type": "stream",
     "text": [
      " 96%|█████████▌| 23/24 [00:28<00:01,  1.72s/it]"
     ]
    },
    {
     "name": "stdout",
     "output_type": "stream",
     "text": [
      "count     6071027\n",
      "unique       4624\n",
      "top         Alien\n",
      "freq      1290146\n",
      "Name: Collection_cleaned, dtype: object\n"
     ]
    },
    {
     "name": "stderr",
     "output_type": "stream",
     "text": [
      "100%|██████████| 24/24 [00:29<00:00,  1.22s/it]"
     ]
    },
    {
     "name": "stdout",
     "output_type": "stream",
     "text": [
      "count     6071027\n",
      "unique          6\n",
      "top         Games\n",
      "freq      2643014\n",
      "Name: Category, dtype: object\n"
     ]
    },
    {
     "name": "stderr",
     "output_type": "stream",
     "text": [
      "\n"
     ]
    }
   ],
   "source": [
    "for col in tqdm(X.columns):\n",
    "    print(X[col].describe())"
   ]
  },
  {
   "cell_type": "code",
   "execution_count": 14,
   "metadata": {},
   "outputs": [
    {
     "data": {
      "text/html": [
       "<div>\n",
       "<style scoped>\n",
       "    .dataframe tbody tr th:only-of-type {\n",
       "        vertical-align: middle;\n",
       "    }\n",
       "\n",
       "    .dataframe tbody tr th {\n",
       "        vertical-align: top;\n",
       "    }\n",
       "\n",
       "    .dataframe thead th {\n",
       "        text-align: right;\n",
       "    }\n",
       "</style>\n",
       "<table border=\"1\" class=\"dataframe\">\n",
       "  <thead>\n",
       "    <tr style=\"text-align: right;\">\n",
       "      <th></th>\n",
       "      <th>Smart_contract</th>\n",
       "      <th>ID_token</th>\n",
       "      <th>Transaction_hash</th>\n",
       "      <th>Seller_address</th>\n",
       "      <th>Seller_username</th>\n",
       "      <th>Buyer_address</th>\n",
       "      <th>Buyer_username</th>\n",
       "      <th>Image_url_1</th>\n",
       "      <th>Image_url_2</th>\n",
       "      <th>Image_url_3</th>\n",
       "      <th>...</th>\n",
       "      <th>Name</th>\n",
       "      <th>Description</th>\n",
       "      <th>Collection</th>\n",
       "      <th>Market</th>\n",
       "      <th>Datetime_updated</th>\n",
       "      <th>Datetime_updated_seconds</th>\n",
       "      <th>Permanent_link</th>\n",
       "      <th>Unique_id_collection</th>\n",
       "      <th>Collection_cleaned</th>\n",
       "      <th>Category</th>\n",
       "    </tr>\n",
       "  </thead>\n",
       "  <tbody>\n",
       "    <tr>\n",
       "      <th>0</th>\n",
       "      <td>NaN</td>\n",
       "      <td>87094722.0</td>\n",
       "      <td>0xed9ff1c311a611e5c457ce0a49bbbb7ed55efca98842...</td>\n",
       "      <td>0x76481caa104b5f6bccb540dae4cefaf1c398ebea</td>\n",
       "      <td>NaN</td>\n",
       "      <td>0xe0fb7622091e3d9ef9b438471b10b9ea88c7cf6b</td>\n",
       "      <td>NaN</td>\n",
       "      <td>https://card.godsunchained.com/?id=33&amp;q=4</td>\n",
       "      <td>NaN</td>\n",
       "      <td>NaN</td>\n",
       "      <td>...</td>\n",
       "      <td>NaN</td>\n",
       "      <td>NaN</td>\n",
       "      <td>Godsunchained</td>\n",
       "      <td>Godsunchained</td>\n",
       "      <td>2019-11-30 00:00:00</td>\n",
       "      <td>2019-11-30 23:59:33</td>\n",
       "      <td>NaN</td>\n",
       "      <td>('Godsunchained', '87094722.0')</td>\n",
       "      <td>Godsunchained</td>\n",
       "      <td>Games</td>\n",
       "    </tr>\n",
       "    <tr>\n",
       "      <th>1</th>\n",
       "      <td>NaN</td>\n",
       "      <td>73044643.0</td>\n",
       "      <td>0xbc8412594ffa7382e8306215ece5b4e041fc641b1813...</td>\n",
       "      <td>0x76481caa104b5f6bccb540dae4cefaf1c398ebea</td>\n",
       "      <td>NaN</td>\n",
       "      <td>0x2c00d05ff7ffe93d77145dfe12aa56e622ae6f40</td>\n",
       "      <td>NaN</td>\n",
       "      <td>https://card.godsunchained.com/?id=79&amp;q=4</td>\n",
       "      <td>NaN</td>\n",
       "      <td>NaN</td>\n",
       "      <td>...</td>\n",
       "      <td>NaN</td>\n",
       "      <td>NaN</td>\n",
       "      <td>Godsunchained</td>\n",
       "      <td>Godsunchained</td>\n",
       "      <td>2019-11-30 00:00:00</td>\n",
       "      <td>2019-11-30 23:59:33</td>\n",
       "      <td>NaN</td>\n",
       "      <td>('Godsunchained', '73044643.0')</td>\n",
       "      <td>Godsunchained</td>\n",
       "      <td>Games</td>\n",
       "    </tr>\n",
       "    <tr>\n",
       "      <th>2</th>\n",
       "      <td>NaN</td>\n",
       "      <td>17107482.0</td>\n",
       "      <td>0x92672baf5e9e23de230dee8e57ddf443ab6d5a336341...</td>\n",
       "      <td>0x76481caa104b5f6bccb540dae4cefaf1c398ebea</td>\n",
       "      <td>NaN</td>\n",
       "      <td>0xe0fb7622091e3d9ef9b438471b10b9ea88c7cf6b</td>\n",
       "      <td>NaN</td>\n",
       "      <td>https://card.godsunchained.com/?id=33&amp;q=4</td>\n",
       "      <td>NaN</td>\n",
       "      <td>NaN</td>\n",
       "      <td>...</td>\n",
       "      <td>NaN</td>\n",
       "      <td>NaN</td>\n",
       "      <td>Godsunchained</td>\n",
       "      <td>Godsunchained</td>\n",
       "      <td>2019-11-30 00:00:00</td>\n",
       "      <td>2019-11-30 23:59:33</td>\n",
       "      <td>NaN</td>\n",
       "      <td>('Godsunchained', '17107482.0')</td>\n",
       "      <td>Godsunchained</td>\n",
       "      <td>Games</td>\n",
       "    </tr>\n",
       "    <tr>\n",
       "      <th>3</th>\n",
       "      <td>NaN</td>\n",
       "      <td>82230857.0</td>\n",
       "      <td>0x3d157249e3083622c2d756f07a05caa3a76687288b32...</td>\n",
       "      <td>0x76481caa104b5f6bccb540dae4cefaf1c398ebea</td>\n",
       "      <td>NaN</td>\n",
       "      <td>0x2c00d05ff7ffe93d77145dfe12aa56e622ae6f40</td>\n",
       "      <td>NaN</td>\n",
       "      <td>https://card.godsunchained.com/?id=227&amp;q=4</td>\n",
       "      <td>NaN</td>\n",
       "      <td>NaN</td>\n",
       "      <td>...</td>\n",
       "      <td>NaN</td>\n",
       "      <td>NaN</td>\n",
       "      <td>Godsunchained</td>\n",
       "      <td>Godsunchained</td>\n",
       "      <td>2019-11-30 00:00:00</td>\n",
       "      <td>2019-11-30 23:59:33</td>\n",
       "      <td>NaN</td>\n",
       "      <td>('Godsunchained', '82230857.0')</td>\n",
       "      <td>Godsunchained</td>\n",
       "      <td>Games</td>\n",
       "    </tr>\n",
       "    <tr>\n",
       "      <th>4</th>\n",
       "      <td>NaN</td>\n",
       "      <td>40925443.0</td>\n",
       "      <td>0xa892b3569dc8e6b3c7db93aade62372637ebbc61fb63...</td>\n",
       "      <td>0x76481caa104b5f6bccb540dae4cefaf1c398ebea</td>\n",
       "      <td>NaN</td>\n",
       "      <td>0x2c00d05ff7ffe93d77145dfe12aa56e622ae6f40</td>\n",
       "      <td>NaN</td>\n",
       "      <td>https://card.godsunchained.com/?id=62&amp;q=4</td>\n",
       "      <td>NaN</td>\n",
       "      <td>NaN</td>\n",
       "      <td>...</td>\n",
       "      <td>NaN</td>\n",
       "      <td>NaN</td>\n",
       "      <td>Godsunchained</td>\n",
       "      <td>Godsunchained</td>\n",
       "      <td>2019-11-30 00:00:00</td>\n",
       "      <td>2019-11-30 23:58:44</td>\n",
       "      <td>NaN</td>\n",
       "      <td>('Godsunchained', '40925443.0')</td>\n",
       "      <td>Godsunchained</td>\n",
       "      <td>Games</td>\n",
       "    </tr>\n",
       "  </tbody>\n",
       "</table>\n",
       "<p>5 rows × 24 columns</p>\n",
       "</div>"
      ],
      "text/plain": [
       "  Smart_contract    ID_token  \\\n",
       "0            NaN  87094722.0   \n",
       "1            NaN  73044643.0   \n",
       "2            NaN  17107482.0   \n",
       "3            NaN  82230857.0   \n",
       "4            NaN  40925443.0   \n",
       "\n",
       "                                    Transaction_hash  \\\n",
       "0  0xed9ff1c311a611e5c457ce0a49bbbb7ed55efca98842...   \n",
       "1  0xbc8412594ffa7382e8306215ece5b4e041fc641b1813...   \n",
       "2  0x92672baf5e9e23de230dee8e57ddf443ab6d5a336341...   \n",
       "3  0x3d157249e3083622c2d756f07a05caa3a76687288b32...   \n",
       "4  0xa892b3569dc8e6b3c7db93aade62372637ebbc61fb63...   \n",
       "\n",
       "                               Seller_address Seller_username  \\\n",
       "0  0x76481caa104b5f6bccb540dae4cefaf1c398ebea             NaN   \n",
       "1  0x76481caa104b5f6bccb540dae4cefaf1c398ebea             NaN   \n",
       "2  0x76481caa104b5f6bccb540dae4cefaf1c398ebea             NaN   \n",
       "3  0x76481caa104b5f6bccb540dae4cefaf1c398ebea             NaN   \n",
       "4  0x76481caa104b5f6bccb540dae4cefaf1c398ebea             NaN   \n",
       "\n",
       "                                Buyer_address Buyer_username  \\\n",
       "0  0xe0fb7622091e3d9ef9b438471b10b9ea88c7cf6b            NaN   \n",
       "1  0x2c00d05ff7ffe93d77145dfe12aa56e622ae6f40            NaN   \n",
       "2  0xe0fb7622091e3d9ef9b438471b10b9ea88c7cf6b            NaN   \n",
       "3  0x2c00d05ff7ffe93d77145dfe12aa56e622ae6f40            NaN   \n",
       "4  0x2c00d05ff7ffe93d77145dfe12aa56e622ae6f40            NaN   \n",
       "\n",
       "                                  Image_url_1 Image_url_2 Image_url_3  ...  \\\n",
       "0   https://card.godsunchained.com/?id=33&q=4         NaN         NaN  ...   \n",
       "1   https://card.godsunchained.com/?id=79&q=4         NaN         NaN  ...   \n",
       "2   https://card.godsunchained.com/?id=33&q=4         NaN         NaN  ...   \n",
       "3  https://card.godsunchained.com/?id=227&q=4         NaN         NaN  ...   \n",
       "4   https://card.godsunchained.com/?id=62&q=4         NaN         NaN  ...   \n",
       "\n",
       "  Name  Description     Collection         Market     Datetime_updated  \\\n",
       "0  NaN          NaN  Godsunchained  Godsunchained  2019-11-30 00:00:00   \n",
       "1  NaN          NaN  Godsunchained  Godsunchained  2019-11-30 00:00:00   \n",
       "2  NaN          NaN  Godsunchained  Godsunchained  2019-11-30 00:00:00   \n",
       "3  NaN          NaN  Godsunchained  Godsunchained  2019-11-30 00:00:00   \n",
       "4  NaN          NaN  Godsunchained  Godsunchained  2019-11-30 00:00:00   \n",
       "\n",
       "  Datetime_updated_seconds Permanent_link             Unique_id_collection  \\\n",
       "0      2019-11-30 23:59:33            NaN  ('Godsunchained', '87094722.0')   \n",
       "1      2019-11-30 23:59:33            NaN  ('Godsunchained', '73044643.0')   \n",
       "2      2019-11-30 23:59:33            NaN  ('Godsunchained', '17107482.0')   \n",
       "3      2019-11-30 23:59:33            NaN  ('Godsunchained', '82230857.0')   \n",
       "4      2019-11-30 23:58:44            NaN  ('Godsunchained', '40925443.0')   \n",
       "\n",
       "  Collection_cleaned Category  \n",
       "0      Godsunchained    Games  \n",
       "1      Godsunchained    Games  \n",
       "2      Godsunchained    Games  \n",
       "3      Godsunchained    Games  \n",
       "4      Godsunchained    Games  \n",
       "\n",
       "[5 rows x 24 columns]"
      ]
     },
     "execution_count": 14,
     "metadata": {},
     "output_type": "execute_result"
    }
   ],
   "source": [
    "X.head()"
   ]
  },
  {
   "cell_type": "code",
   "execution_count": 15,
   "metadata": {},
   "outputs": [
    {
     "data": {
      "text/html": [
       "<div>\n",
       "<style scoped>\n",
       "    .dataframe tbody tr th:only-of-type {\n",
       "        vertical-align: middle;\n",
       "    }\n",
       "\n",
       "    .dataframe tbody tr th {\n",
       "        vertical-align: top;\n",
       "    }\n",
       "\n",
       "    .dataframe thead th {\n",
       "        text-align: right;\n",
       "    }\n",
       "</style>\n",
       "<table border=\"1\" class=\"dataframe\">\n",
       "  <thead>\n",
       "    <tr style=\"text-align: right;\">\n",
       "      <th></th>\n",
       "      <th>Smart_contract</th>\n",
       "      <th>ID_token</th>\n",
       "      <th>Transaction_hash</th>\n",
       "      <th>Seller_address</th>\n",
       "      <th>Seller_username</th>\n",
       "      <th>Buyer_address</th>\n",
       "      <th>Buyer_username</th>\n",
       "      <th>Image_url_1</th>\n",
       "      <th>Image_url_2</th>\n",
       "      <th>Image_url_3</th>\n",
       "      <th>...</th>\n",
       "      <th>Name</th>\n",
       "      <th>Description</th>\n",
       "      <th>Collection</th>\n",
       "      <th>Market</th>\n",
       "      <th>Datetime_updated</th>\n",
       "      <th>Datetime_updated_seconds</th>\n",
       "      <th>Permanent_link</th>\n",
       "      <th>Unique_id_collection</th>\n",
       "      <th>Collection_cleaned</th>\n",
       "      <th>Category</th>\n",
       "    </tr>\n",
       "  </thead>\n",
       "  <tbody>\n",
       "    <tr>\n",
       "      <th>6071022</th>\n",
       "      <td>0xb932a70a57673d89f4acffbe830e8ed7f75fb9e0</td>\n",
       "      <td>16412</td>\n",
       "      <td>0x346561b3f7a233c4245f91c68940b2d750df26ef1b04...</td>\n",
       "      <td>0x9f37284b3a538be8eea2d401b595f44c96d39b70</td>\n",
       "      <td>NaN</td>\n",
       "      <td>0xa353401738e7ec6a4db9c0ee4c66eb5252f681c4</td>\n",
       "      <td>NaN</td>\n",
       "      <td>https://lh3.googleusercontent.com/isSUPEsJJWpF...</td>\n",
       "      <td>https://ipfs.pixura.io/ipfs/QmSHxximuHUZV54pAA...</td>\n",
       "      <td>https://lh3.googleusercontent.com/isSUPEsJJWpF...</td>\n",
       "      <td>...</td>\n",
       "      <td>Pájaro Doctor 13/40</td>\n",
       "      <td>Digital piece made by using a variety of softw...</td>\n",
       "      <td>Superrare</td>\n",
       "      <td>OpenSea</td>\n",
       "      <td>2021-04-01 00:00:00</td>\n",
       "      <td>2021-04-01 00:00:52</td>\n",
       "      <td>https://opensea.io/assets/0xb932a70a57673d89f4...</td>\n",
       "      <td>('Superrare', '16412')</td>\n",
       "      <td>Superrare</td>\n",
       "      <td>Art</td>\n",
       "    </tr>\n",
       "    <tr>\n",
       "      <th>6071023</th>\n",
       "      <td>0x495f947276749ce646f68ac8c248420045cb7b5e</td>\n",
       "      <td>1062274196422536302774639391540663457511117433...</td>\n",
       "      <td>0xd507715bb835252a65d572037ac8eb36854b05ecc672...</td>\n",
       "      <td>0xeada96bf164643bdfe3e657a9f380854694a49dd</td>\n",
       "      <td>Mistcop</td>\n",
       "      <td>0xe2fe53f9bcb33e3e0fc65f2f627ca4eb8e958347</td>\n",
       "      <td>NaN</td>\n",
       "      <td>https://lh3.googleusercontent.com/qdzZDtYHHVdi...</td>\n",
       "      <td>NaN</td>\n",
       "      <td>https://lh3.googleusercontent.com/qdzZDtYHHVdi...</td>\n",
       "      <td>...</td>\n",
       "      <td>Kawaii Monster #2</td>\n",
       "      <td>NaN</td>\n",
       "      <td>Kawaii-monsters</td>\n",
       "      <td>OpenSea</td>\n",
       "      <td>2021-04-01 00:00:00</td>\n",
       "      <td>2021-04-01 00:00:50</td>\n",
       "      <td>https://opensea.io/assets/0x495f947276749ce646...</td>\n",
       "      <td>('Kawaii-monsters', '1062274196422536302774639...</td>\n",
       "      <td>Kawaiimonster</td>\n",
       "      <td>Other</td>\n",
       "    </tr>\n",
       "    <tr>\n",
       "      <th>6071024</th>\n",
       "      <td>0x495f947276749ce646f68ac8c248420045cb7b5e</td>\n",
       "      <td>4602588071276327231659212203812866312085457052...</td>\n",
       "      <td>0x4cb90a775619a9483c003050de47c403fae957e5352b...</td>\n",
       "      <td>0x65c1b9ae4e4d8dcccfd3dc41b940840fe8570f2a</td>\n",
       "      <td>International_Megadigital</td>\n",
       "      <td>0x220d20310f52d97e353028ebd742d2c690eaf0a1</td>\n",
       "      <td>WanderlustNFT</td>\n",
       "      <td>https://lh3.googleusercontent.com/SoTAV8k4UC90...</td>\n",
       "      <td>NaN</td>\n",
       "      <td>https://lh3.googleusercontent.com/SoTAV8k4UC90...</td>\n",
       "      <td>...</td>\n",
       "      <td>Bishoujo Originals - #4977</td>\n",
       "      <td>The original source for collectible Bishoujo h...</td>\n",
       "      <td>Moe-tokens</td>\n",
       "      <td>OpenSea</td>\n",
       "      <td>2021-04-01 00:00:00</td>\n",
       "      <td>2021-04-01 00:00:51</td>\n",
       "      <td>https://opensea.io/assets/0x495f947276749ce646...</td>\n",
       "      <td>('Moe-tokens', '460258807127632723165921220381...</td>\n",
       "      <td>Moetoken</td>\n",
       "      <td>Other</td>\n",
       "    </tr>\n",
       "    <tr>\n",
       "      <th>6071025</th>\n",
       "      <td>0x495f947276749ce646f68ac8c248420045cb7b5e</td>\n",
       "      <td>8060875342503467325201444233539848397816312727...</td>\n",
       "      <td>0x76068e84592753bb1e076c5320c7e3ecfe41e4da8ebe...</td>\n",
       "      <td>0xb236f00808a9f88b3117af95c881966288dfbcbb</td>\n",
       "      <td>TheOfficialGarrett</td>\n",
       "      <td>0xd543a0be0684f0556786586b83f4c9fd16a4dc35</td>\n",
       "      <td>kittylord</td>\n",
       "      <td>https://lh3.googleusercontent.com/AWwjq0cuTjHF...</td>\n",
       "      <td>NaN</td>\n",
       "      <td>https://lh3.googleusercontent.com/AWwjq0cuTjHF...</td>\n",
       "      <td>...</td>\n",
       "      <td>Smile 0066</td>\n",
       "      <td>Coming to you hot!  Not Fun Tokens or (NFT's)!...</td>\n",
       "      <td>Not-fun-tokens</td>\n",
       "      <td>OpenSea</td>\n",
       "      <td>2021-04-01 00:00:00</td>\n",
       "      <td>2021-04-01 00:00:40</td>\n",
       "      <td>https://opensea.io/assets/0x495f947276749ce646...</td>\n",
       "      <td>('Not-fun-tokens', '80608753425034673252014442...</td>\n",
       "      <td>Notfuntoken</td>\n",
       "      <td>Other</td>\n",
       "    </tr>\n",
       "    <tr>\n",
       "      <th>6071026</th>\n",
       "      <td>0x495f947276749ce646f68ac8c248420045cb7b5e</td>\n",
       "      <td>8060875342503467325201444233539848397816312727...</td>\n",
       "      <td>0x6efdcfde266760201767ba099c1f10f47937a8098720...</td>\n",
       "      <td>0xb236f00808a9f88b3117af95c881966288dfbcbb</td>\n",
       "      <td>TheOfficialGarrett</td>\n",
       "      <td>0xd543a0be0684f0556786586b83f4c9fd16a4dc35</td>\n",
       "      <td>kittylord</td>\n",
       "      <td>https://lh3.googleusercontent.com/1PSAAdTKWB5p...</td>\n",
       "      <td>NaN</td>\n",
       "      <td>https://lh3.googleusercontent.com/1PSAAdTKWB5p...</td>\n",
       "      <td>...</td>\n",
       "      <td>Smile 0023</td>\n",
       "      <td>Coming to you hot!  Not Fun Tokens or (NFT's)!...</td>\n",
       "      <td>Not-fun-tokens</td>\n",
       "      <td>OpenSea</td>\n",
       "      <td>2021-04-01 00:00:00</td>\n",
       "      <td>2021-04-01 00:00:40</td>\n",
       "      <td>https://opensea.io/assets/0x495f947276749ce646...</td>\n",
       "      <td>('Not-fun-tokens', '80608753425034673252014442...</td>\n",
       "      <td>Notfuntoken</td>\n",
       "      <td>Other</td>\n",
       "    </tr>\n",
       "  </tbody>\n",
       "</table>\n",
       "<p>5 rows × 24 columns</p>\n",
       "</div>"
      ],
      "text/plain": [
       "                                     Smart_contract  \\\n",
       "6071022  0xb932a70a57673d89f4acffbe830e8ed7f75fb9e0   \n",
       "6071023  0x495f947276749ce646f68ac8c248420045cb7b5e   \n",
       "6071024  0x495f947276749ce646f68ac8c248420045cb7b5e   \n",
       "6071025  0x495f947276749ce646f68ac8c248420045cb7b5e   \n",
       "6071026  0x495f947276749ce646f68ac8c248420045cb7b5e   \n",
       "\n",
       "                                                  ID_token  \\\n",
       "6071022                                              16412   \n",
       "6071023  1062274196422536302774639391540663457511117433...   \n",
       "6071024  4602588071276327231659212203812866312085457052...   \n",
       "6071025  8060875342503467325201444233539848397816312727...   \n",
       "6071026  8060875342503467325201444233539848397816312727...   \n",
       "\n",
       "                                          Transaction_hash  \\\n",
       "6071022  0x346561b3f7a233c4245f91c68940b2d750df26ef1b04...   \n",
       "6071023  0xd507715bb835252a65d572037ac8eb36854b05ecc672...   \n",
       "6071024  0x4cb90a775619a9483c003050de47c403fae957e5352b...   \n",
       "6071025  0x76068e84592753bb1e076c5320c7e3ecfe41e4da8ebe...   \n",
       "6071026  0x6efdcfde266760201767ba099c1f10f47937a8098720...   \n",
       "\n",
       "                                     Seller_address  \\\n",
       "6071022  0x9f37284b3a538be8eea2d401b595f44c96d39b70   \n",
       "6071023  0xeada96bf164643bdfe3e657a9f380854694a49dd   \n",
       "6071024  0x65c1b9ae4e4d8dcccfd3dc41b940840fe8570f2a   \n",
       "6071025  0xb236f00808a9f88b3117af95c881966288dfbcbb   \n",
       "6071026  0xb236f00808a9f88b3117af95c881966288dfbcbb   \n",
       "\n",
       "                   Seller_username  \\\n",
       "6071022                        NaN   \n",
       "6071023                    Mistcop   \n",
       "6071024  International_Megadigital   \n",
       "6071025         TheOfficialGarrett   \n",
       "6071026         TheOfficialGarrett   \n",
       "\n",
       "                                      Buyer_address Buyer_username  \\\n",
       "6071022  0xa353401738e7ec6a4db9c0ee4c66eb5252f681c4            NaN   \n",
       "6071023  0xe2fe53f9bcb33e3e0fc65f2f627ca4eb8e958347            NaN   \n",
       "6071024  0x220d20310f52d97e353028ebd742d2c690eaf0a1  WanderlustNFT   \n",
       "6071025  0xd543a0be0684f0556786586b83f4c9fd16a4dc35      kittylord   \n",
       "6071026  0xd543a0be0684f0556786586b83f4c9fd16a4dc35      kittylord   \n",
       "\n",
       "                                               Image_url_1  \\\n",
       "6071022  https://lh3.googleusercontent.com/isSUPEsJJWpF...   \n",
       "6071023  https://lh3.googleusercontent.com/qdzZDtYHHVdi...   \n",
       "6071024  https://lh3.googleusercontent.com/SoTAV8k4UC90...   \n",
       "6071025  https://lh3.googleusercontent.com/AWwjq0cuTjHF...   \n",
       "6071026  https://lh3.googleusercontent.com/1PSAAdTKWB5p...   \n",
       "\n",
       "                                               Image_url_2  \\\n",
       "6071022  https://ipfs.pixura.io/ipfs/QmSHxximuHUZV54pAA...   \n",
       "6071023                                                NaN   \n",
       "6071024                                                NaN   \n",
       "6071025                                                NaN   \n",
       "6071026                                                NaN   \n",
       "\n",
       "                                               Image_url_3  ...  \\\n",
       "6071022  https://lh3.googleusercontent.com/isSUPEsJJWpF...  ...   \n",
       "6071023  https://lh3.googleusercontent.com/qdzZDtYHHVdi...  ...   \n",
       "6071024  https://lh3.googleusercontent.com/SoTAV8k4UC90...  ...   \n",
       "6071025  https://lh3.googleusercontent.com/AWwjq0cuTjHF...  ...   \n",
       "6071026  https://lh3.googleusercontent.com/1PSAAdTKWB5p...  ...   \n",
       "\n",
       "                               Name  \\\n",
       "6071022         Pájaro Doctor 13/40   \n",
       "6071023           Kawaii Monster #2   \n",
       "6071024  Bishoujo Originals - #4977   \n",
       "6071025                  Smile 0066   \n",
       "6071026                  Smile 0023   \n",
       "\n",
       "                                               Description       Collection  \\\n",
       "6071022  Digital piece made by using a variety of softw...        Superrare   \n",
       "6071023                                                NaN  Kawaii-monsters   \n",
       "6071024  The original source for collectible Bishoujo h...       Moe-tokens   \n",
       "6071025  Coming to you hot!  Not Fun Tokens or (NFT's)!...   Not-fun-tokens   \n",
       "6071026  Coming to you hot!  Not Fun Tokens or (NFT's)!...   Not-fun-tokens   \n",
       "\n",
       "          Market     Datetime_updated Datetime_updated_seconds  \\\n",
       "6071022  OpenSea  2021-04-01 00:00:00      2021-04-01 00:00:52   \n",
       "6071023  OpenSea  2021-04-01 00:00:00      2021-04-01 00:00:50   \n",
       "6071024  OpenSea  2021-04-01 00:00:00      2021-04-01 00:00:51   \n",
       "6071025  OpenSea  2021-04-01 00:00:00      2021-04-01 00:00:40   \n",
       "6071026  OpenSea  2021-04-01 00:00:00      2021-04-01 00:00:40   \n",
       "\n",
       "                                            Permanent_link  \\\n",
       "6071022  https://opensea.io/assets/0xb932a70a57673d89f4...   \n",
       "6071023  https://opensea.io/assets/0x495f947276749ce646...   \n",
       "6071024  https://opensea.io/assets/0x495f947276749ce646...   \n",
       "6071025  https://opensea.io/assets/0x495f947276749ce646...   \n",
       "6071026  https://opensea.io/assets/0x495f947276749ce646...   \n",
       "\n",
       "                                      Unique_id_collection Collection_cleaned  \\\n",
       "6071022                             ('Superrare', '16412')          Superrare   \n",
       "6071023  ('Kawaii-monsters', '1062274196422536302774639...      Kawaiimonster   \n",
       "6071024  ('Moe-tokens', '460258807127632723165921220381...           Moetoken   \n",
       "6071025  ('Not-fun-tokens', '80608753425034673252014442...        Notfuntoken   \n",
       "6071026  ('Not-fun-tokens', '80608753425034673252014442...        Notfuntoken   \n",
       "\n",
       "        Category  \n",
       "6071022      Art  \n",
       "6071023    Other  \n",
       "6071024    Other  \n",
       "6071025    Other  \n",
       "6071026    Other  \n",
       "\n",
       "[5 rows x 24 columns]"
      ]
     },
     "execution_count": 15,
     "metadata": {},
     "output_type": "execute_result"
    }
   ],
   "source": [
    "X.tail()"
   ]
  },
  {
   "cell_type": "markdown",
   "metadata": {},
   "source": [
    "## Categories"
   ]
  },
  {
   "cell_type": "code",
   "execution_count": 16,
   "metadata": {},
   "outputs": [],
   "source": [
    "# Groupby by country\n",
    "categories = X.groupby(\"Category\")"
   ]
  },
  {
   "cell_type": "code",
   "execution_count": 17,
   "metadata": {},
   "outputs": [
    {
     "data": {
      "text/html": [
       "<div>\n",
       "<style scoped>\n",
       "    .dataframe tbody tr th:only-of-type {\n",
       "        vertical-align: middle;\n",
       "    }\n",
       "\n",
       "    .dataframe tbody tr th {\n",
       "        vertical-align: top;\n",
       "    }\n",
       "\n",
       "    .dataframe thead tr th {\n",
       "        text-align: left;\n",
       "    }\n",
       "\n",
       "    .dataframe thead tr:last-of-type th {\n",
       "        text-align: right;\n",
       "    }\n",
       "</style>\n",
       "<table border=\"1\" class=\"dataframe\">\n",
       "  <thead>\n",
       "    <tr>\n",
       "      <th></th>\n",
       "      <th colspan=\"8\" halign=\"left\">Price_Crypto</th>\n",
       "      <th colspan=\"8\" halign=\"left\">Price_USD</th>\n",
       "    </tr>\n",
       "    <tr>\n",
       "      <th></th>\n",
       "      <th>count</th>\n",
       "      <th>mean</th>\n",
       "      <th>std</th>\n",
       "      <th>min</th>\n",
       "      <th>25%</th>\n",
       "      <th>50%</th>\n",
       "      <th>75%</th>\n",
       "      <th>max</th>\n",
       "      <th>count</th>\n",
       "      <th>mean</th>\n",
       "      <th>std</th>\n",
       "      <th>min</th>\n",
       "      <th>25%</th>\n",
       "      <th>50%</th>\n",
       "      <th>75%</th>\n",
       "      <th>max</th>\n",
       "    </tr>\n",
       "    <tr>\n",
       "      <th>Category</th>\n",
       "      <th></th>\n",
       "      <th></th>\n",
       "      <th></th>\n",
       "      <th></th>\n",
       "      <th></th>\n",
       "      <th></th>\n",
       "      <th></th>\n",
       "      <th></th>\n",
       "      <th></th>\n",
       "      <th></th>\n",
       "      <th></th>\n",
       "      <th></th>\n",
       "      <th></th>\n",
       "      <th></th>\n",
       "      <th></th>\n",
       "      <th></th>\n",
       "    </tr>\n",
       "  </thead>\n",
       "  <tbody>\n",
       "    <tr>\n",
       "      <th>Art</th>\n",
       "      <td>1472515.0</td>\n",
       "      <td>9.073167</td>\n",
       "      <td>4.943859e+02</td>\n",
       "      <td>0.000000e+00</td>\n",
       "      <td>0.005</td>\n",
       "      <td>0.019566</td>\n",
       "      <td>0.128859</td>\n",
       "      <td>4.300000e+05</td>\n",
       "      <td>1470669.0</td>\n",
       "      <td>413.237412</td>\n",
       "      <td>10582.695914</td>\n",
       "      <td>2.264600e-16</td>\n",
       "      <td>1.090125</td>\n",
       "      <td>5.662232</td>\n",
       "      <td>34.414774</td>\n",
       "      <td>7.501893e+06</td>\n",
       "    </tr>\n",
       "    <tr>\n",
       "      <th>Collectible</th>\n",
       "      <td>1605657.0</td>\n",
       "      <td>189.678992</td>\n",
       "      <td>1.668442e+04</td>\n",
       "      <td>4.000000e-18</td>\n",
       "      <td>0.578</td>\n",
       "      <td>4.500000</td>\n",
       "      <td>20.000000</td>\n",
       "      <td>9.000000e+06</td>\n",
       "      <td>1604886.0</td>\n",
       "      <td>68.438628</td>\n",
       "      <td>706.913629</td>\n",
       "      <td>9.558400e-16</td>\n",
       "      <td>0.546300</td>\n",
       "      <td>2.090800</td>\n",
       "      <td>22.049829</td>\n",
       "      <td>4.291656e+05</td>\n",
       "    </tr>\n",
       "    <tr>\n",
       "      <th>Games</th>\n",
       "      <td>2643014.0</td>\n",
       "      <td>47.352587</td>\n",
       "      <td>2.598335e+03</td>\n",
       "      <td>0.000000e+00</td>\n",
       "      <td>0.042</td>\n",
       "      <td>0.450000</td>\n",
       "      <td>2.400000</td>\n",
       "      <td>2.000000e+06</td>\n",
       "      <td>2641093.0</td>\n",
       "      <td>26.797056</td>\n",
       "      <td>842.789368</td>\n",
       "      <td>1.514250e-16</td>\n",
       "      <td>0.087723</td>\n",
       "      <td>0.350370</td>\n",
       "      <td>3.702300</td>\n",
       "      <td>5.149742e+05</td>\n",
       "    </tr>\n",
       "    <tr>\n",
       "      <th>Metaverse</th>\n",
       "      <td>68372.0</td>\n",
       "      <td>5776.098898</td>\n",
       "      <td>1.160912e+05</td>\n",
       "      <td>3.960000e-07</td>\n",
       "      <td>0.490</td>\n",
       "      <td>4.000000</td>\n",
       "      <td>300.000000</td>\n",
       "      <td>2.894062e+07</td>\n",
       "      <td>68160.0</td>\n",
       "      <td>1000.340103</td>\n",
       "      <td>14740.808833</td>\n",
       "      <td>1.619323e-04</td>\n",
       "      <td>1.627800</td>\n",
       "      <td>54.295967</td>\n",
       "      <td>517.290088</td>\n",
       "      <td>2.684347e+06</td>\n",
       "    </tr>\n",
       "    <tr>\n",
       "      <th>Other</th>\n",
       "      <td>272772.0</td>\n",
       "      <td>11559.110424</td>\n",
       "      <td>5.744339e+06</td>\n",
       "      <td>2.000000e-16</td>\n",
       "      <td>0.060</td>\n",
       "      <td>0.890000</td>\n",
       "      <td>9.900000</td>\n",
       "      <td>3.000000e+09</td>\n",
       "      <td>269239.0</td>\n",
       "      <td>81.552627</td>\n",
       "      <td>571.256249</td>\n",
       "      <td>3.831500e-10</td>\n",
       "      <td>0.188800</td>\n",
       "      <td>1.914250</td>\n",
       "      <td>19.209325</td>\n",
       "      <td>9.984975e+04</td>\n",
       "    </tr>\n",
       "  </tbody>\n",
       "</table>\n",
       "</div>"
      ],
      "text/plain": [
       "            Price_Crypto                                                   \\\n",
       "                   count          mean           std           min    25%   \n",
       "Category                                                                    \n",
       "Art            1472515.0      9.073167  4.943859e+02  0.000000e+00  0.005   \n",
       "Collectible    1605657.0    189.678992  1.668442e+04  4.000000e-18  0.578   \n",
       "Games          2643014.0     47.352587  2.598335e+03  0.000000e+00  0.042   \n",
       "Metaverse        68372.0   5776.098898  1.160912e+05  3.960000e-07  0.490   \n",
       "Other           272772.0  11559.110424  5.744339e+06  2.000000e-16  0.060   \n",
       "\n",
       "                                                 Price_USD               \\\n",
       "                  50%         75%           max      count         mean   \n",
       "Category                                                                  \n",
       "Art          0.019566    0.128859  4.300000e+05  1470669.0   413.237412   \n",
       "Collectible  4.500000   20.000000  9.000000e+06  1604886.0    68.438628   \n",
       "Games        0.450000    2.400000  2.000000e+06  2641093.0    26.797056   \n",
       "Metaverse    4.000000  300.000000  2.894062e+07    68160.0  1000.340103   \n",
       "Other        0.890000    9.900000  3.000000e+09   269239.0    81.552627   \n",
       "\n",
       "                                                                          \\\n",
       "                      std           min       25%        50%         75%   \n",
       "Category                                                                   \n",
       "Art          10582.695914  2.264600e-16  1.090125   5.662232   34.414774   \n",
       "Collectible    706.913629  9.558400e-16  0.546300   2.090800   22.049829   \n",
       "Games          842.789368  1.514250e-16  0.087723   0.350370    3.702300   \n",
       "Metaverse    14740.808833  1.619323e-04  1.627800  54.295967  517.290088   \n",
       "Other          571.256249  3.831500e-10  0.188800   1.914250   19.209325   \n",
       "\n",
       "                           \n",
       "                      max  \n",
       "Category                   \n",
       "Art          7.501893e+06  \n",
       "Collectible  4.291656e+05  \n",
       "Games        5.149742e+05  \n",
       "Metaverse    2.684347e+06  \n",
       "Other        9.984975e+04  "
      ]
     },
     "execution_count": 17,
     "metadata": {},
     "output_type": "execute_result"
    }
   ],
   "source": [
    "# Summary statistic of all countries\n",
    "categories.describe().head()"
   ]
  },
  {
   "cell_type": "code",
   "execution_count": 18,
   "metadata": {},
   "outputs": [
    {
     "data": {
      "text/html": [
       "<div>\n",
       "<style scoped>\n",
       "    .dataframe tbody tr th:only-of-type {\n",
       "        vertical-align: middle;\n",
       "    }\n",
       "\n",
       "    .dataframe tbody tr th {\n",
       "        vertical-align: top;\n",
       "    }\n",
       "\n",
       "    .dataframe thead th {\n",
       "        text-align: right;\n",
       "    }\n",
       "</style>\n",
       "<table border=\"1\" class=\"dataframe\">\n",
       "  <thead>\n",
       "    <tr style=\"text-align: right;\">\n",
       "      <th></th>\n",
       "      <th>Price_Crypto</th>\n",
       "      <th>Price_USD</th>\n",
       "    </tr>\n",
       "    <tr>\n",
       "      <th>Category</th>\n",
       "      <th></th>\n",
       "      <th></th>\n",
       "    </tr>\n",
       "  </thead>\n",
       "  <tbody>\n",
       "    <tr>\n",
       "      <th>Utility</th>\n",
       "      <td>24.822977</td>\n",
       "      <td>1005.444300</td>\n",
       "    </tr>\n",
       "    <tr>\n",
       "      <th>Metaverse</th>\n",
       "      <td>5776.098898</td>\n",
       "      <td>1000.340103</td>\n",
       "    </tr>\n",
       "    <tr>\n",
       "      <th>Art</th>\n",
       "      <td>9.073167</td>\n",
       "      <td>413.237412</td>\n",
       "    </tr>\n",
       "    <tr>\n",
       "      <th>Other</th>\n",
       "      <td>11559.110424</td>\n",
       "      <td>81.552627</td>\n",
       "    </tr>\n",
       "    <tr>\n",
       "      <th>Collectible</th>\n",
       "      <td>189.678992</td>\n",
       "      <td>68.438628</td>\n",
       "    </tr>\n",
       "    <tr>\n",
       "      <th>Games</th>\n",
       "      <td>47.352587</td>\n",
       "      <td>26.797056</td>\n",
       "    </tr>\n",
       "  </tbody>\n",
       "</table>\n",
       "</div>"
      ],
      "text/plain": [
       "             Price_Crypto    Price_USD\n",
       "Category                              \n",
       "Utility         24.822977  1005.444300\n",
       "Metaverse     5776.098898  1000.340103\n",
       "Art              9.073167   413.237412\n",
       "Other        11559.110424    81.552627\n",
       "Collectible    189.678992    68.438628\n",
       "Games           47.352587    26.797056"
      ]
     },
     "execution_count": 18,
     "metadata": {},
     "output_type": "execute_result"
    }
   ],
   "source": [
    "categories.mean().sort_values(by=\"Price_USD\",ascending=False)"
   ]
  },
  {
   "cell_type": "code",
   "execution_count": 19,
   "metadata": {},
   "outputs": [
    {
     "data": {
      "text/plain": [
       "array([[<AxesSubplot:title={'center':'Price_Crypto'}>,\n",
       "        <AxesSubplot:title={'center':'Price_USD'}>]], dtype=object)"
      ]
     },
     "execution_count": 19,
     "metadata": {},
     "output_type": "execute_result"
    },
    {
     "data": {
      "image/png": "[encoded data removed]",
      "text/plain": [
       "<Figure size 432x288 with 2 Axes>"
      ]
     },
     "metadata": {
      "needs_background": "light"
     },
     "output_type": "display_data"
    }
   ],
   "source": [
    "categories.mean().sort_values(by=\"Price_USD\",ascending=False).hist()"
   ]
  },
  {
   "cell_type": "code",
   "execution_count": 20,
   "metadata": {},
   "outputs": [
    {
     "data": {
      "text/html": [
       "<div>\n",
       "<style scoped>\n",
       "    .dataframe tbody tr th:only-of-type {\n",
       "        vertical-align: middle;\n",
       "    }\n",
       "\n",
       "    .dataframe tbody tr th {\n",
       "        vertical-align: top;\n",
       "    }\n",
       "\n",
       "    .dataframe thead th {\n",
       "        text-align: right;\n",
       "    }\n",
       "</style>\n",
       "<table border=\"1\" class=\"dataframe\">\n",
       "  <thead>\n",
       "    <tr style=\"text-align: right;\">\n",
       "      <th></th>\n",
       "      <th>Smart_contract</th>\n",
       "      <th>ID_token</th>\n",
       "      <th>Transaction_hash</th>\n",
       "      <th>Seller_address</th>\n",
       "      <th>Seller_username</th>\n",
       "      <th>Buyer_address</th>\n",
       "      <th>Buyer_username</th>\n",
       "      <th>Image_url_1</th>\n",
       "      <th>Image_url_2</th>\n",
       "      <th>Image_url_3</th>\n",
       "      <th>...</th>\n",
       "      <th>Price_USD</th>\n",
       "      <th>Name</th>\n",
       "      <th>Description</th>\n",
       "      <th>Collection</th>\n",
       "      <th>Market</th>\n",
       "      <th>Datetime_updated</th>\n",
       "      <th>Datetime_updated_seconds</th>\n",
       "      <th>Permanent_link</th>\n",
       "      <th>Unique_id_collection</th>\n",
       "      <th>Collection_cleaned</th>\n",
       "    </tr>\n",
       "    <tr>\n",
       "      <th>Category</th>\n",
       "      <th></th>\n",
       "      <th></th>\n",
       "      <th></th>\n",
       "      <th></th>\n",
       "      <th></th>\n",
       "      <th></th>\n",
       "      <th></th>\n",
       "      <th></th>\n",
       "      <th></th>\n",
       "      <th></th>\n",
       "      <th></th>\n",
       "      <th></th>\n",
       "      <th></th>\n",
       "      <th></th>\n",
       "      <th></th>\n",
       "      <th></th>\n",
       "      <th></th>\n",
       "      <th></th>\n",
       "      <th></th>\n",
       "      <th></th>\n",
       "      <th></th>\n",
       "    </tr>\n",
       "  </thead>\n",
       "  <tbody>\n",
       "    <tr>\n",
       "      <th>Art</th>\n",
       "      <td>747115</td>\n",
       "      <td>1472515</td>\n",
       "      <td>1358545</td>\n",
       "      <td>1472515</td>\n",
       "      <td>368256</td>\n",
       "      <td>1472515</td>\n",
       "      <td>346480</td>\n",
       "      <td>1470651</td>\n",
       "      <td>718098</td>\n",
       "      <td>745257</td>\n",
       "      <td>...</td>\n",
       "      <td>1470669</td>\n",
       "      <td>586247</td>\n",
       "      <td>588520</td>\n",
       "      <td>1472515</td>\n",
       "      <td>1472515</td>\n",
       "      <td>1472515</td>\n",
       "      <td>1472515</td>\n",
       "      <td>633493</td>\n",
       "      <td>1472515</td>\n",
       "      <td>1472515</td>\n",
       "    </tr>\n",
       "    <tr>\n",
       "      <th>Collectible</th>\n",
       "      <td>1605657</td>\n",
       "      <td>1605657</td>\n",
       "      <td>380269</td>\n",
       "      <td>1605657</td>\n",
       "      <td>72712</td>\n",
       "      <td>1605657</td>\n",
       "      <td>69064</td>\n",
       "      <td>1572732</td>\n",
       "      <td>1566655</td>\n",
       "      <td>1572628</td>\n",
       "      <td>...</td>\n",
       "      <td>1604886</td>\n",
       "      <td>374222</td>\n",
       "      <td>362060</td>\n",
       "      <td>1605657</td>\n",
       "      <td>1605657</td>\n",
       "      <td>1605657</td>\n",
       "      <td>1605657</td>\n",
       "      <td>380269</td>\n",
       "      <td>1605657</td>\n",
       "      <td>1605657</td>\n",
       "    </tr>\n",
       "    <tr>\n",
       "      <th>Games</th>\n",
       "      <td>2406804</td>\n",
       "      <td>2643014</td>\n",
       "      <td>985516</td>\n",
       "      <td>2643014</td>\n",
       "      <td>522828</td>\n",
       "      <td>2643014</td>\n",
       "      <td>361485</td>\n",
       "      <td>2628321</td>\n",
       "      <td>2389527</td>\n",
       "      <td>2392304</td>\n",
       "      <td>...</td>\n",
       "      <td>2641093</td>\n",
       "      <td>747412</td>\n",
       "      <td>656882</td>\n",
       "      <td>2643014</td>\n",
       "      <td>2643014</td>\n",
       "      <td>2643014</td>\n",
       "      <td>2643014</td>\n",
       "      <td>749306</td>\n",
       "      <td>2643014</td>\n",
       "      <td>2643014</td>\n",
       "    </tr>\n",
       "    <tr>\n",
       "      <th>Metaverse</th>\n",
       "      <td>68372</td>\n",
       "      <td>68372</td>\n",
       "      <td>57894</td>\n",
       "      <td>68372</td>\n",
       "      <td>33759</td>\n",
       "      <td>68372</td>\n",
       "      <td>32253</td>\n",
       "      <td>67530</td>\n",
       "      <td>50088</td>\n",
       "      <td>51481</td>\n",
       "      <td>...</td>\n",
       "      <td>68160</td>\n",
       "      <td>40996</td>\n",
       "      <td>34032</td>\n",
       "      <td>68372</td>\n",
       "      <td>68372</td>\n",
       "      <td>68372</td>\n",
       "      <td>68372</td>\n",
       "      <td>41031</td>\n",
       "      <td>68372</td>\n",
       "      <td>68372</td>\n",
       "    </tr>\n",
       "    <tr>\n",
       "      <th>Other</th>\n",
       "      <td>272772</td>\n",
       "      <td>272772</td>\n",
       "      <td>94482</td>\n",
       "      <td>272772</td>\n",
       "      <td>88669</td>\n",
       "      <td>272772</td>\n",
       "      <td>77156</td>\n",
       "      <td>268303</td>\n",
       "      <td>218584</td>\n",
       "      <td>268335</td>\n",
       "      <td>...</td>\n",
       "      <td>269239</td>\n",
       "      <td>94426</td>\n",
       "      <td>80574</td>\n",
       "      <td>272772</td>\n",
       "      <td>272772</td>\n",
       "      <td>272772</td>\n",
       "      <td>272772</td>\n",
       "      <td>94482</td>\n",
       "      <td>272772</td>\n",
       "      <td>272772</td>\n",
       "    </tr>\n",
       "    <tr>\n",
       "      <th>Utility</th>\n",
       "      <td>8697</td>\n",
       "      <td>8697</td>\n",
       "      <td>8681</td>\n",
       "      <td>8697</td>\n",
       "      <td>7030</td>\n",
       "      <td>8697</td>\n",
       "      <td>6425</td>\n",
       "      <td>8692</td>\n",
       "      <td>6053</td>\n",
       "      <td>8692</td>\n",
       "      <td>...</td>\n",
       "      <td>8697</td>\n",
       "      <td>8661</td>\n",
       "      <td>8661</td>\n",
       "      <td>8697</td>\n",
       "      <td>8697</td>\n",
       "      <td>8697</td>\n",
       "      <td>8697</td>\n",
       "      <td>8681</td>\n",
       "      <td>8697</td>\n",
       "      <td>8697</td>\n",
       "    </tr>\n",
       "  </tbody>\n",
       "</table>\n",
       "<p>6 rows × 23 columns</p>\n",
       "</div>"
      ],
      "text/plain": [
       "             Smart_contract  ID_token  Transaction_hash  Seller_address  \\\n",
       "Category                                                                  \n",
       "Art                  747115   1472515           1358545         1472515   \n",
       "Collectible         1605657   1605657            380269         1605657   \n",
       "Games               2406804   2643014            985516         2643014   \n",
       "Metaverse             68372     68372             57894           68372   \n",
       "Other                272772    272772             94482          272772   \n",
       "Utility                8697      8697              8681            8697   \n",
       "\n",
       "             Seller_username  Buyer_address  Buyer_username  Image_url_1  \\\n",
       "Category                                                                   \n",
       "Art                   368256        1472515          346480      1470651   \n",
       "Collectible            72712        1605657           69064      1572732   \n",
       "Games                 522828        2643014          361485      2628321   \n",
       "Metaverse              33759          68372           32253        67530   \n",
       "Other                  88669         272772           77156       268303   \n",
       "Utility                 7030           8697            6425         8692   \n",
       "\n",
       "             Image_url_2  Image_url_3  ...  Price_USD    Name  Description  \\\n",
       "Category                               ...                                   \n",
       "Art               718098       745257  ...    1470669  586247       588520   \n",
       "Collectible      1566655      1572628  ...    1604886  374222       362060   \n",
       "Games            2389527      2392304  ...    2641093  747412       656882   \n",
       "Metaverse          50088        51481  ...      68160   40996        34032   \n",
       "Other             218584       268335  ...     269239   94426        80574   \n",
       "Utility             6053         8692  ...       8697    8661         8661   \n",
       "\n",
       "             Collection   Market  Datetime_updated  Datetime_updated_seconds  \\\n",
       "Category                                                                       \n",
       "Art             1472515  1472515           1472515                   1472515   \n",
       "Collectible     1605657  1605657           1605657                   1605657   \n",
       "Games           2643014  2643014           2643014                   2643014   \n",
       "Metaverse         68372    68372             68372                     68372   \n",
       "Other            272772   272772            272772                    272772   \n",
       "Utility            8697     8697              8697                      8697   \n",
       "\n",
       "             Permanent_link  Unique_id_collection  Collection_cleaned  \n",
       "Category                                                               \n",
       "Art                  633493               1472515             1472515  \n",
       "Collectible          380269               1605657             1605657  \n",
       "Games                749306               2643014             2643014  \n",
       "Metaverse             41031                 68372               68372  \n",
       "Other                 94482                272772              272772  \n",
       "Utility                8681                  8697                8697  \n",
       "\n",
       "[6 rows x 23 columns]"
      ]
     },
     "execution_count": 20,
     "metadata": {},
     "output_type": "execute_result"
    }
   ],
   "source": [
    "categories.count()"
   ]
  },
  {
   "cell_type": "code",
   "execution_count": 21,
   "metadata": {},
   "outputs": [
    {
     "data": {
      "image/png": "[encoded data removed]",
      "text/plain": [
       "<Figure size 1080x720 with 1 Axes>"
      ]
     },
     "metadata": {
      "needs_background": "light"
     },
     "output_type": "display_data"
    }
   ],
   "source": [
    "fig = plt.figure(figsize=(15,10))\n",
    "categories.size().sort_values(ascending=False).plot.bar()\n",
    "plt.xticks(rotation=50)\n",
    "plt.xlabel(\"NFT Category\")\n",
    "plt.ylabel(\"Number of Transactions\")\n",
    "plt.savefig('../figures/01-category-sales.jpg', bbox_inches='tight', dpi=150)\n",
    "plt.show()"
   ]
  },
  {
   "cell_type": "code",
   "execution_count": 22,
   "metadata": {},
   "outputs": [
    {
     "data": {
      "text/plain": [
       "['Art', 'Collectible', 'Games', 'Metaverse', 'Other', 'Utility']"
      ]
     },
     "execution_count": 22,
     "metadata": {},
     "output_type": "execute_result"
    }
   ],
   "source": [
    "list(categories.groups.keys())"
   ]
  },
  {
   "cell_type": "code",
   "execution_count": 23,
   "metadata": {},
   "outputs": [
    {
     "data": {
      "image/png": "[encoded data removed]",
      "text/plain": [
       "<Figure size 432x288 with 1 Axes>"
      ]
     },
     "metadata": {
      "needs_background": "light"
     },
     "output_type": "display_data"
    }
   ],
   "source": [
    "# Show wordcloud for NFT categories.\n",
    "text = X['Category'].value_counts().to_dict()\n",
    "wc = WordCloud(max_font_size=100, background_color=\"white\").generate_from_frequencies(text)\n",
    "\n",
    "# Save file.\n",
    "wc.to_file(\"../figures/01-category-cloud.png\")\n",
    "\n",
    "# Display the generated image:\n",
    "plt.imshow(wc, interpolation='bilinear')\n",
    "plt.axis(\"off\")\n",
    "plt.show()"
   ]
  },
  {
   "cell_type": "markdown",
   "metadata": {},
   "source": [
    "## Markets"
   ]
  },
  {
   "cell_type": "code",
   "execution_count": 24,
   "metadata": {},
   "outputs": [
    {
     "data": {
      "text/html": [
       "<div>\n",
       "<style scoped>\n",
       "    .dataframe tbody tr th:only-of-type {\n",
       "        vertical-align: middle;\n",
       "    }\n",
       "\n",
       "    .dataframe tbody tr th {\n",
       "        vertical-align: top;\n",
       "    }\n",
       "\n",
       "    .dataframe thead tr th {\n",
       "        text-align: left;\n",
       "    }\n",
       "\n",
       "    .dataframe thead tr:last-of-type th {\n",
       "        text-align: right;\n",
       "    }\n",
       "</style>\n",
       "<table border=\"1\" class=\"dataframe\">\n",
       "  <thead>\n",
       "    <tr>\n",
       "      <th></th>\n",
       "      <th colspan=\"8\" halign=\"left\">Price_Crypto</th>\n",
       "      <th colspan=\"8\" halign=\"left\">Price_USD</th>\n",
       "    </tr>\n",
       "    <tr>\n",
       "      <th></th>\n",
       "      <th>count</th>\n",
       "      <th>mean</th>\n",
       "      <th>std</th>\n",
       "      <th>min</th>\n",
       "      <th>25%</th>\n",
       "      <th>50%</th>\n",
       "      <th>75%</th>\n",
       "      <th>max</th>\n",
       "      <th>count</th>\n",
       "      <th>mean</th>\n",
       "      <th>std</th>\n",
       "      <th>min</th>\n",
       "      <th>25%</th>\n",
       "      <th>50%</th>\n",
       "      <th>75%</th>\n",
       "      <th>max</th>\n",
       "    </tr>\n",
       "    <tr>\n",
       "      <th>Market</th>\n",
       "      <th></th>\n",
       "      <th></th>\n",
       "      <th></th>\n",
       "      <th></th>\n",
       "      <th></th>\n",
       "      <th></th>\n",
       "      <th></th>\n",
       "      <th></th>\n",
       "      <th></th>\n",
       "      <th></th>\n",
       "      <th></th>\n",
       "      <th></th>\n",
       "      <th></th>\n",
       "      <th></th>\n",
       "      <th></th>\n",
       "      <th></th>\n",
       "    </tr>\n",
       "  </thead>\n",
       "  <tbody>\n",
       "    <tr>\n",
       "      <th>Atomic</th>\n",
       "      <td>3185292.0</td>\n",
       "      <td>85.648723</td>\n",
       "      <td>1.784508e+03</td>\n",
       "      <td>1.000000e-08</td>\n",
       "      <td>0.60000</td>\n",
       "      <td>3.980000</td>\n",
       "      <td>20.000000</td>\n",
       "      <td>1.500000e+06</td>\n",
       "      <td>3185292.0</td>\n",
       "      <td>10.802309</td>\n",
       "      <td>172.903316</td>\n",
       "      <td>3.680000e-10</td>\n",
       "      <td>0.105780</td>\n",
       "      <td>0.515150</td>\n",
       "      <td>2.381438</td>\n",
       "      <td>9.006872e+04</td>\n",
       "    </tr>\n",
       "    <tr>\n",
       "      <th>Cryptokitties</th>\n",
       "      <td>725400.0</td>\n",
       "      <td>0.087890</td>\n",
       "      <td>1.499275e+00</td>\n",
       "      <td>1.000000e-18</td>\n",
       "      <td>0.00454</td>\n",
       "      <td>0.010000</td>\n",
       "      <td>0.044336</td>\n",
       "      <td>6.000000e+02</td>\n",
       "      <td>725052.0</td>\n",
       "      <td>43.360742</td>\n",
       "      <td>735.493245</td>\n",
       "      <td>8.477850e-16</td>\n",
       "      <td>1.313813</td>\n",
       "      <td>5.508609</td>\n",
       "      <td>20.076020</td>\n",
       "      <td>1.735590e+05</td>\n",
       "    </tr>\n",
       "    <tr>\n",
       "      <th>Decentraland</th>\n",
       "      <td>16863.0</td>\n",
       "      <td>14003.936488</td>\n",
       "      <td>5.060384e+04</td>\n",
       "      <td>1.000000e+00</td>\n",
       "      <td>59.00000</td>\n",
       "      <td>850.000000</td>\n",
       "      <td>13800.000000</td>\n",
       "      <td>2.772000e+06</td>\n",
       "      <td>16863.0</td>\n",
       "      <td>1393.293620</td>\n",
       "      <td>6521.464164</td>\n",
       "      <td>2.042500e-02</td>\n",
       "      <td>2.295100</td>\n",
       "      <td>56.751500</td>\n",
       "      <td>927.491250</td>\n",
       "      <td>2.963550e+05</td>\n",
       "    </tr>\n",
       "    <tr>\n",
       "      <th>Godsunchained</th>\n",
       "      <td>236210.0</td>\n",
       "      <td>0.039006</td>\n",
       "      <td>2.593025e-01</td>\n",
       "      <td>1.000000e-18</td>\n",
       "      <td>0.00090</td>\n",
       "      <td>0.002500</td>\n",
       "      <td>0.023000</td>\n",
       "      <td>2.700000e+01</td>\n",
       "      <td>236210.0</td>\n",
       "      <td>8.947059</td>\n",
       "      <td>147.472215</td>\n",
       "      <td>1.514250e-16</td>\n",
       "      <td>0.129609</td>\n",
       "      <td>0.385574</td>\n",
       "      <td>3.592800</td>\n",
       "      <td>2.250568e+04</td>\n",
       "    </tr>\n",
       "    <tr>\n",
       "      <th>OpenSea</th>\n",
       "      <td>1907262.0</td>\n",
       "      <td>1825.746422</td>\n",
       "      <td>2.172536e+06</td>\n",
       "      <td>0.000000e+00</td>\n",
       "      <td>0.00500</td>\n",
       "      <td>0.032989</td>\n",
       "      <td>0.125000</td>\n",
       "      <td>3.000000e+09</td>\n",
       "      <td>1899327.0</td>\n",
       "      <td>418.976851</td>\n",
       "      <td>9766.779771</td>\n",
       "      <td>2.264600e-16</td>\n",
       "      <td>1.146930</td>\n",
       "      <td>13.720350</td>\n",
       "      <td>85.229095</td>\n",
       "      <td>7.501893e+06</td>\n",
       "    </tr>\n",
       "  </tbody>\n",
       "</table>\n",
       "</div>"
      ],
      "text/plain": [
       "              Price_Crypto                                            \\\n",
       "                     count          mean           std           min   \n",
       "Market                                                                 \n",
       "Atomic           3185292.0     85.648723  1.784508e+03  1.000000e-08   \n",
       "Cryptokitties     725400.0      0.087890  1.499275e+00  1.000000e-18   \n",
       "Decentraland       16863.0  14003.936488  5.060384e+04  1.000000e+00   \n",
       "Godsunchained     236210.0      0.039006  2.593025e-01  1.000000e-18   \n",
       "OpenSea          1907262.0   1825.746422  2.172536e+06  0.000000e+00   \n",
       "\n",
       "                                                                 Price_USD  \\\n",
       "                    25%         50%           75%           max      count   \n",
       "Market                                                                       \n",
       "Atomic          0.60000    3.980000     20.000000  1.500000e+06  3185292.0   \n",
       "Cryptokitties   0.00454    0.010000      0.044336  6.000000e+02   725052.0   \n",
       "Decentraland   59.00000  850.000000  13800.000000  2.772000e+06    16863.0   \n",
       "Godsunchained   0.00090    0.002500      0.023000  2.700000e+01   236210.0   \n",
       "OpenSea         0.00500    0.032989      0.125000  3.000000e+09  1899327.0   \n",
       "\n",
       "                                                                            \\\n",
       "                      mean          std           min       25%        50%   \n",
       "Market                                                                       \n",
       "Atomic           10.802309   172.903316  3.680000e-10  0.105780   0.515150   \n",
       "Cryptokitties    43.360742   735.493245  8.477850e-16  1.313813   5.508609   \n",
       "Decentraland   1393.293620  6521.464164  2.042500e-02  2.295100  56.751500   \n",
       "Godsunchained     8.947059   147.472215  1.514250e-16  0.129609   0.385574   \n",
       "OpenSea         418.976851  9766.779771  2.264600e-16  1.146930  13.720350   \n",
       "\n",
       "                                         \n",
       "                      75%           max  \n",
       "Market                                   \n",
       "Atomic           2.381438  9.006872e+04  \n",
       "Cryptokitties   20.076020  1.735590e+05  \n",
       "Decentraland   927.491250  2.963550e+05  \n",
       "Godsunchained    3.592800  2.250568e+04  \n",
       "OpenSea         85.229095  7.501893e+06  "
      ]
     },
     "execution_count": 24,
     "metadata": {},
     "output_type": "execute_result"
    }
   ],
   "source": [
    "# Groupby by market\n",
    "market = X.groupby(\"Market\")\n",
    "\n",
    "# Summary statistic of all marktes\n",
    "market.describe().head()"
   ]
  },
  {
   "cell_type": "code",
   "execution_count": 25,
   "metadata": {},
   "outputs": [
    {
     "data": {
      "text/html": [
       "<div>\n",
       "<style scoped>\n",
       "    .dataframe tbody tr th:only-of-type {\n",
       "        vertical-align: middle;\n",
       "    }\n",
       "\n",
       "    .dataframe tbody tr th {\n",
       "        vertical-align: top;\n",
       "    }\n",
       "\n",
       "    .dataframe thead th {\n",
       "        text-align: right;\n",
       "    }\n",
       "</style>\n",
       "<table border=\"1\" class=\"dataframe\">\n",
       "  <thead>\n",
       "    <tr style=\"text-align: right;\">\n",
       "      <th></th>\n",
       "      <th>Price_Crypto</th>\n",
       "      <th>Price_USD</th>\n",
       "    </tr>\n",
       "    <tr>\n",
       "      <th>Market</th>\n",
       "      <th></th>\n",
       "      <th></th>\n",
       "    </tr>\n",
       "  </thead>\n",
       "  <tbody>\n",
       "    <tr>\n",
       "      <th>Decentraland</th>\n",
       "      <td>14003.936488</td>\n",
       "      <td>1393.293620</td>\n",
       "    </tr>\n",
       "    <tr>\n",
       "      <th>OpenSea</th>\n",
       "      <td>1825.746422</td>\n",
       "      <td>418.976851</td>\n",
       "    </tr>\n",
       "    <tr>\n",
       "      <th>Cryptokitties</th>\n",
       "      <td>0.087890</td>\n",
       "      <td>43.360742</td>\n",
       "    </tr>\n",
       "    <tr>\n",
       "      <th>Atomic</th>\n",
       "      <td>85.648723</td>\n",
       "      <td>10.802309</td>\n",
       "    </tr>\n",
       "    <tr>\n",
       "      <th>Godsunchained</th>\n",
       "      <td>0.039006</td>\n",
       "      <td>8.947059</td>\n",
       "    </tr>\n",
       "  </tbody>\n",
       "</table>\n",
       "</div>"
      ],
      "text/plain": [
       "               Price_Crypto    Price_USD\n",
       "Market                                  \n",
       "Decentraland   14003.936488  1393.293620\n",
       "OpenSea         1825.746422   418.976851\n",
       "Cryptokitties      0.087890    43.360742\n",
       "Atomic            85.648723    10.802309\n",
       "Godsunchained      0.039006     8.947059"
      ]
     },
     "execution_count": 25,
     "metadata": {},
     "output_type": "execute_result"
    }
   ],
   "source": [
    "market.mean().sort_values(by=\"Price_USD\",ascending=False)"
   ]
  },
  {
   "cell_type": "code",
   "execution_count": 26,
   "metadata": {},
   "outputs": [
    {
     "data": {
      "text/plain": [
       "array([[<AxesSubplot:title={'center':'Price_Crypto'}>,\n",
       "        <AxesSubplot:title={'center':'Price_USD'}>]], dtype=object)"
      ]
     },
     "execution_count": 26,
     "metadata": {},
     "output_type": "execute_result"
    },
    {
     "data": {
      "image/png": "[encoded data removed]",
      "text/plain": [
       "<Figure size 432x288 with 2 Axes>"
      ]
     },
     "metadata": {
      "needs_background": "light"
     },
     "output_type": "display_data"
    }
   ],
   "source": [
    "market.mean().sort_values(by=\"Price_USD\",ascending=False).hist()"
   ]
  },
  {
   "cell_type": "code",
   "execution_count": 27,
   "metadata": {},
   "outputs": [
    {
     "data": {
      "text/html": [
       "<div>\n",
       "<style scoped>\n",
       "    .dataframe tbody tr th:only-of-type {\n",
       "        vertical-align: middle;\n",
       "    }\n",
       "\n",
       "    .dataframe tbody tr th {\n",
       "        vertical-align: top;\n",
       "    }\n",
       "\n",
       "    .dataframe thead th {\n",
       "        text-align: right;\n",
       "    }\n",
       "</style>\n",
       "<table border=\"1\" class=\"dataframe\">\n",
       "  <thead>\n",
       "    <tr style=\"text-align: right;\">\n",
       "      <th></th>\n",
       "      <th>Price_Crypto</th>\n",
       "      <th>Price_USD</th>\n",
       "    </tr>\n",
       "    <tr>\n",
       "      <th>Market</th>\n",
       "      <th></th>\n",
       "      <th></th>\n",
       "    </tr>\n",
       "  </thead>\n",
       "  <tbody>\n",
       "    <tr>\n",
       "      <th>Decentraland</th>\n",
       "      <td>850.000000</td>\n",
       "      <td>56.751500</td>\n",
       "    </tr>\n",
       "    <tr>\n",
       "      <th>OpenSea</th>\n",
       "      <td>0.032989</td>\n",
       "      <td>13.720350</td>\n",
       "    </tr>\n",
       "    <tr>\n",
       "      <th>Cryptokitties</th>\n",
       "      <td>0.010000</td>\n",
       "      <td>5.508609</td>\n",
       "    </tr>\n",
       "    <tr>\n",
       "      <th>Atomic</th>\n",
       "      <td>3.980000</td>\n",
       "      <td>0.515150</td>\n",
       "    </tr>\n",
       "    <tr>\n",
       "      <th>Godsunchained</th>\n",
       "      <td>0.002500</td>\n",
       "      <td>0.385574</td>\n",
       "    </tr>\n",
       "  </tbody>\n",
       "</table>\n",
       "</div>"
      ],
      "text/plain": [
       "               Price_Crypto  Price_USD\n",
       "Market                                \n",
       "Decentraland     850.000000  56.751500\n",
       "OpenSea            0.032989  13.720350\n",
       "Cryptokitties      0.010000   5.508609\n",
       "Atomic             3.980000   0.515150\n",
       "Godsunchained      0.002500   0.385574"
      ]
     },
     "execution_count": 27,
     "metadata": {},
     "output_type": "execute_result"
    }
   ],
   "source": [
    "market.median().sort_values(by=\"Price_USD\",ascending=False)"
   ]
  },
  {
   "cell_type": "code",
   "execution_count": 28,
   "metadata": {},
   "outputs": [
    {
     "data": {
      "text/plain": [
       "array([[<AxesSubplot:title={'center':'Price_Crypto'}>,\n",
       "        <AxesSubplot:title={'center':'Price_USD'}>]], dtype=object)"
      ]
     },
     "execution_count": 28,
     "metadata": {},
     "output_type": "execute_result"
    },
    {
     "data": {
      "image/png": "[encoded data removed]",
      "text/plain": [
       "<Figure size 432x288 with 2 Axes>"
      ]
     },
     "metadata": {
      "needs_background": "light"
     },
     "output_type": "display_data"
    }
   ],
   "source": [
    "market.median().sort_values(by=\"Price_USD\",ascending=False).hist()"
   ]
  },
  {
   "cell_type": "code",
   "execution_count": 29,
   "metadata": {},
   "outputs": [
    {
     "data": {
      "text/plain": [
       "<AxesSubplot:xlabel='Market'>"
      ]
     },
     "execution_count": 29,
     "metadata": {},
     "output_type": "execute_result"
    },
    {
     "data": {
      "image/png": "[encoded data removed]",
      "text/plain": [
       "<Figure size 432x288 with 1 Axes>"
      ]
     },
     "metadata": {
      "needs_background": "light"
     },
     "output_type": "display_data"
    }
   ],
   "source": [
    "ax = market['Category'].count().sort_values(ascending=False).plot.bar()\n",
    "ax.figure.savefig('../figures/02-market-freq.jpg', bbox_inches='tight', dpi=300)\n",
    "ax"
   ]
  },
  {
   "cell_type": "code",
   "execution_count": 30,
   "metadata": {},
   "outputs": [
    {
     "data": {
      "image/png": "[encoded data removed]",
      "text/plain": [
       "<Figure size 1080x720 with 1 Axes>"
      ]
     },
     "metadata": {
      "needs_background": "light"
     },
     "output_type": "display_data"
    }
   ],
   "source": [
    "fig = plt.figure(figsize=(15,10))\n",
    "market.size().sort_values(ascending=False).plot.bar()\n",
    "plt.xticks(rotation=50)\n",
    "plt.xlabel(\"NFT Marketplace\")\n",
    "plt.ylabel(\"Number of Transactions\")\n",
    "plt.savefig('../figures/02-market-sales.jpg', bbox_inches='tight', dpi=150)\n",
    "plt.show()"
   ]
  },
  {
   "cell_type": "code",
   "execution_count": 31,
   "metadata": {},
   "outputs": [
    {
     "data": {
      "image/png": "[encoded data removed]",
      "text/plain": [
       "<Figure size 432x288 with 1 Axes>"
      ]
     },
     "metadata": {
      "needs_background": "light"
     },
     "output_type": "display_data"
    }
   ],
   "source": [
    "# Show wordcloud for NFT categories.\n",
    "text = X['Market'].value_counts().to_dict()\n",
    "wc = WordCloud(max_font_size=100, background_color=\"white\").generate_from_frequencies(text)\n",
    "\n",
    "# Save file.\n",
    "wc.to_file(\"../figures/02-market-cloud.png\")\n",
    "\n",
    "# Display the generated image:\n",
    "plt.imshow(wc, interpolation='bilinear')\n",
    "plt.axis(\"off\")\n",
    "plt.show()"
   ]
  },
  {
   "cell_type": "markdown",
   "metadata": {},
   "source": [
    "## NFT Collections"
   ]
  },
  {
   "cell_type": "code",
   "execution_count": 32,
   "metadata": {},
   "outputs": [
    {
     "data": {
      "text/html": [
       "<div>\n",
       "<style scoped>\n",
       "    .dataframe tbody tr th:only-of-type {\n",
       "        vertical-align: middle;\n",
       "    }\n",
       "\n",
       "    .dataframe tbody tr th {\n",
       "        vertical-align: top;\n",
       "    }\n",
       "\n",
       "    .dataframe thead tr th {\n",
       "        text-align: left;\n",
       "    }\n",
       "\n",
       "    .dataframe thead tr:last-of-type th {\n",
       "        text-align: right;\n",
       "    }\n",
       "</style>\n",
       "<table border=\"1\" class=\"dataframe\">\n",
       "  <thead>\n",
       "    <tr>\n",
       "      <th></th>\n",
       "      <th colspan=\"8\" halign=\"left\">Price_Crypto</th>\n",
       "      <th colspan=\"8\" halign=\"left\">Price_USD</th>\n",
       "    </tr>\n",
       "    <tr>\n",
       "      <th></th>\n",
       "      <th>count</th>\n",
       "      <th>mean</th>\n",
       "      <th>std</th>\n",
       "      <th>min</th>\n",
       "      <th>25%</th>\n",
       "      <th>50%</th>\n",
       "      <th>75%</th>\n",
       "      <th>max</th>\n",
       "      <th>count</th>\n",
       "      <th>mean</th>\n",
       "      <th>std</th>\n",
       "      <th>min</th>\n",
       "      <th>25%</th>\n",
       "      <th>50%</th>\n",
       "      <th>75%</th>\n",
       "      <th>max</th>\n",
       "    </tr>\n",
       "    <tr>\n",
       "      <th>Collection_cleaned</th>\n",
       "      <th></th>\n",
       "      <th></th>\n",
       "      <th></th>\n",
       "      <th></th>\n",
       "      <th></th>\n",
       "      <th></th>\n",
       "      <th></th>\n",
       "      <th></th>\n",
       "      <th></th>\n",
       "      <th></th>\n",
       "      <th></th>\n",
       "      <th></th>\n",
       "      <th></th>\n",
       "      <th></th>\n",
       "      <th></th>\n",
       "      <th></th>\n",
       "    </tr>\n",
       "  </thead>\n",
       "  <tbody>\n",
       "    <tr>\n",
       "      <th>Aaronsartistry</th>\n",
       "      <td>57.0</td>\n",
       "      <td>0.055439</td>\n",
       "      <td>0.043263</td>\n",
       "      <td>0.0200</td>\n",
       "      <td>0.030000</td>\n",
       "      <td>0.04000</td>\n",
       "      <td>0.060000</td>\n",
       "      <td>0.30000</td>\n",
       "      <td>57.0</td>\n",
       "      <td>95.626105</td>\n",
       "      <td>76.737298</td>\n",
       "      <td>36.367000</td>\n",
       "      <td>50.608200</td>\n",
       "      <td>73.398600</td>\n",
       "      <td>106.958100</td>\n",
       "      <td>534.790500</td>\n",
       "    </tr>\n",
       "    <tr>\n",
       "      <th>Aasgard</th>\n",
       "      <td>10.0</td>\n",
       "      <td>6.012350</td>\n",
       "      <td>12.642603</td>\n",
       "      <td>0.0010</td>\n",
       "      <td>0.011875</td>\n",
       "      <td>0.02000</td>\n",
       "      <td>0.023750</td>\n",
       "      <td>30.00000</td>\n",
       "      <td>10.0</td>\n",
       "      <td>25.991802</td>\n",
       "      <td>12.737412</td>\n",
       "      <td>1.592530</td>\n",
       "      <td>16.445850</td>\n",
       "      <td>30.226944</td>\n",
       "      <td>35.566625</td>\n",
       "      <td>38.260500</td>\n",
       "    </tr>\n",
       "    <tr>\n",
       "      <th>Aavegotchi</th>\n",
       "      <td>2388.0</td>\n",
       "      <td>3.218020</td>\n",
       "      <td>54.181806</td>\n",
       "      <td>0.0001</td>\n",
       "      <td>0.055000</td>\n",
       "      <td>0.14920</td>\n",
       "      <td>0.440000</td>\n",
       "      <td>2200.00000</td>\n",
       "      <td>2383.0</td>\n",
       "      <td>646.522806</td>\n",
       "      <td>2545.506470</td>\n",
       "      <td>0.136482</td>\n",
       "      <td>41.721365</td>\n",
       "      <td>100.216640</td>\n",
       "      <td>351.888074</td>\n",
       "      <td>74820.750000</td>\n",
       "    </tr>\n",
       "    <tr>\n",
       "      <th>Abacu</th>\n",
       "      <td>142.0</td>\n",
       "      <td>0.027373</td>\n",
       "      <td>0.012251</td>\n",
       "      <td>0.0100</td>\n",
       "      <td>0.019000</td>\n",
       "      <td>0.03000</td>\n",
       "      <td>0.030000</td>\n",
       "      <td>0.06000</td>\n",
       "      <td>142.0</td>\n",
       "      <td>44.681707</td>\n",
       "      <td>20.449487</td>\n",
       "      <td>13.667050</td>\n",
       "      <td>30.298540</td>\n",
       "      <td>44.892450</td>\n",
       "      <td>55.981035</td>\n",
       "      <td>113.087700</td>\n",
       "    </tr>\n",
       "    <tr>\n",
       "      <th>Abeautifulthingawaitsusall</th>\n",
       "      <td>2.0</td>\n",
       "      <td>0.125610</td>\n",
       "      <td>0.163497</td>\n",
       "      <td>0.0100</td>\n",
       "      <td>0.067805</td>\n",
       "      <td>0.12561</td>\n",
       "      <td>0.183415</td>\n",
       "      <td>0.24122</td>\n",
       "      <td>2.0</td>\n",
       "      <td>218.326839</td>\n",
       "      <td>300.565975</td>\n",
       "      <td>5.794600</td>\n",
       "      <td>112.060720</td>\n",
       "      <td>218.326839</td>\n",
       "      <td>324.592959</td>\n",
       "      <td>430.859079</td>\n",
       "    </tr>\n",
       "  </tbody>\n",
       "</table>\n",
       "</div>"
      ],
      "text/plain": [
       "                           Price_Crypto                               \\\n",
       "                                  count      mean        std     min   \n",
       "Collection_cleaned                                                     \n",
       "Aaronsartistry                     57.0  0.055439   0.043263  0.0200   \n",
       "Aasgard                            10.0  6.012350  12.642603  0.0010   \n",
       "Aavegotchi                       2388.0  3.218020  54.181806  0.0001   \n",
       "Abacu                             142.0  0.027373   0.012251  0.0100   \n",
       "Abeautifulthingawaitsusall          2.0  0.125610   0.163497  0.0100   \n",
       "\n",
       "                                                                    Price_USD  \\\n",
       "                                 25%      50%       75%         max     count   \n",
       "Collection_cleaned                                                              \n",
       "Aaronsartistry              0.030000  0.04000  0.060000     0.30000      57.0   \n",
       "Aasgard                     0.011875  0.02000  0.023750    30.00000      10.0   \n",
       "Aavegotchi                  0.055000  0.14920  0.440000  2200.00000    2383.0   \n",
       "Abacu                       0.019000  0.03000  0.030000     0.06000     142.0   \n",
       "Abeautifulthingawaitsusall  0.067805  0.12561  0.183415     0.24122       2.0   \n",
       "\n",
       "                                                                            \\\n",
       "                                  mean          std        min         25%   \n",
       "Collection_cleaned                                                           \n",
       "Aaronsartistry               95.626105    76.737298  36.367000   50.608200   \n",
       "Aasgard                      25.991802    12.737412   1.592530   16.445850   \n",
       "Aavegotchi                  646.522806  2545.506470   0.136482   41.721365   \n",
       "Abacu                        44.681707    20.449487  13.667050   30.298540   \n",
       "Abeautifulthingawaitsusall  218.326839   300.565975   5.794600  112.060720   \n",
       "\n",
       "                                                                  \n",
       "                                   50%         75%           max  \n",
       "Collection_cleaned                                                \n",
       "Aaronsartistry               73.398600  106.958100    534.790500  \n",
       "Aasgard                      30.226944   35.566625     38.260500  \n",
       "Aavegotchi                  100.216640  351.888074  74820.750000  \n",
       "Abacu                        44.892450   55.981035    113.087700  \n",
       "Abeautifulthingawaitsusall  218.326839  324.592959    430.859079  "
      ]
     },
     "execution_count": 32,
     "metadata": {},
     "output_type": "execute_result"
    }
   ],
   "source": [
    "# Groupby\n",
    "collections = X.groupby(\"Collection_cleaned\")\n",
    "\n",
    "# Summary statistics\n",
    "collections.describe().head()"
   ]
  },
  {
   "cell_type": "code",
   "execution_count": 33,
   "metadata": {},
   "outputs": [
    {
     "data": {
      "image/png": "[encoded data removed]",
      "text/plain": [
       "<Figure size 1080x720 with 1 Axes>"
      ]
     },
     "metadata": {
      "needs_background": "light"
     },
     "output_type": "display_data"
    }
   ],
   "source": [
    "# Plot by sales.\n",
    "fig = plt.figure(figsize=(15,10))\n",
    "market.size().sort_values(ascending=False).plot.bar()\n",
    "plt.xticks(rotation=50)\n",
    "plt.xlabel(\"NFT Collection\")\n",
    "plt.ylabel(\"Number of Transactions\")\n",
    "plt.savefig('../figures/03-collection-sales.jpg', bbox_inches='tight', dpi=150)\n",
    "plt.show()"
   ]
  },
  {
   "cell_type": "code",
   "execution_count": 34,
   "metadata": {},
   "outputs": [
    {
     "data": {
      "image/png": "[encoded data removed]",
      "text/plain": [
       "<Figure size 432x288 with 1 Axes>"
      ]
     },
     "metadata": {
      "needs_background": "light"
     },
     "output_type": "display_data"
    }
   ],
   "source": [
    "# Display frequency word cloud.\n",
    "text = X['Collection_cleaned'].value_counts().to_dict()\n",
    "wc = WordCloud(max_font_size=100, max_words=100, background_color=\"white\").generate_from_frequencies(text)\n",
    "\n",
    "# Save file.\n",
    "wc.to_file(\"../figures/03-collection-cloud.png\")\n",
    "\n",
    "# Display the generated image:\n",
    "plt.imshow(wc, interpolation='bilinear')\n",
    "plt.axis(\"off\")\n",
    "plt.show()"
   ]
  },
  {
   "cell_type": "markdown",
   "metadata": {},
   "source": [
    "## Crypto"
   ]
  },
  {
   "cell_type": "code",
   "execution_count": 35,
   "metadata": {},
   "outputs": [
    {
     "data": {
      "text/html": [
       "<div>\n",
       "<style scoped>\n",
       "    .dataframe tbody tr th:only-of-type {\n",
       "        vertical-align: middle;\n",
       "    }\n",
       "\n",
       "    .dataframe tbody tr th {\n",
       "        vertical-align: top;\n",
       "    }\n",
       "\n",
       "    .dataframe thead tr th {\n",
       "        text-align: left;\n",
       "    }\n",
       "\n",
       "    .dataframe thead tr:last-of-type th {\n",
       "        text-align: right;\n",
       "    }\n",
       "</style>\n",
       "<table border=\"1\" class=\"dataframe\">\n",
       "  <thead>\n",
       "    <tr>\n",
       "      <th></th>\n",
       "      <th colspan=\"8\" halign=\"left\">Price_Crypto</th>\n",
       "      <th colspan=\"8\" halign=\"left\">Price_USD</th>\n",
       "    </tr>\n",
       "    <tr>\n",
       "      <th></th>\n",
       "      <th>count</th>\n",
       "      <th>mean</th>\n",
       "      <th>std</th>\n",
       "      <th>min</th>\n",
       "      <th>25%</th>\n",
       "      <th>50%</th>\n",
       "      <th>75%</th>\n",
       "      <th>max</th>\n",
       "      <th>count</th>\n",
       "      <th>mean</th>\n",
       "      <th>std</th>\n",
       "      <th>min</th>\n",
       "      <th>25%</th>\n",
       "      <th>50%</th>\n",
       "      <th>75%</th>\n",
       "      <th>max</th>\n",
       "    </tr>\n",
       "    <tr>\n",
       "      <th>Crypto</th>\n",
       "      <th></th>\n",
       "      <th></th>\n",
       "      <th></th>\n",
       "      <th></th>\n",
       "      <th></th>\n",
       "      <th></th>\n",
       "      <th></th>\n",
       "      <th></th>\n",
       "      <th></th>\n",
       "      <th></th>\n",
       "      <th></th>\n",
       "      <th></th>\n",
       "      <th></th>\n",
       "      <th></th>\n",
       "      <th></th>\n",
       "      <th></th>\n",
       "    </tr>\n",
       "  </thead>\n",
       "  <tbody>\n",
       "    <tr>\n",
       "      <th>0xBTC</th>\n",
       "      <td>175.0</td>\n",
       "      <td>18.791245</td>\n",
       "      <td>39.339234</td>\n",
       "      <td>0.01</td>\n",
       "      <td>5.00</td>\n",
       "      <td>10.0</td>\n",
       "      <td>15.5</td>\n",
       "      <td>420.0</td>\n",
       "      <td>0.0</td>\n",
       "      <td>NaN</td>\n",
       "      <td>NaN</td>\n",
       "      <td>NaN</td>\n",
       "      <td>NaN</td>\n",
       "      <td>NaN</td>\n",
       "      <td>NaN</td>\n",
       "      <td>NaN</td>\n",
       "    </tr>\n",
       "    <tr>\n",
       "      <th>1MT</th>\n",
       "      <td>33.0</td>\n",
       "      <td>93.348556</td>\n",
       "      <td>91.823929</td>\n",
       "      <td>1.00</td>\n",
       "      <td>40.00</td>\n",
       "      <td>45.0</td>\n",
       "      <td>120.0</td>\n",
       "      <td>375.0</td>\n",
       "      <td>0.0</td>\n",
       "      <td>NaN</td>\n",
       "      <td>NaN</td>\n",
       "      <td>NaN</td>\n",
       "      <td>NaN</td>\n",
       "      <td>NaN</td>\n",
       "      <td>NaN</td>\n",
       "      <td>NaN</td>\n",
       "    </tr>\n",
       "    <tr>\n",
       "      <th>2XDN</th>\n",
       "      <td>4.0</td>\n",
       "      <td>275.000000</td>\n",
       "      <td>184.842275</td>\n",
       "      <td>50.00</td>\n",
       "      <td>200.00</td>\n",
       "      <td>275.0</td>\n",
       "      <td>350.0</td>\n",
       "      <td>500.0</td>\n",
       "      <td>0.0</td>\n",
       "      <td>NaN</td>\n",
       "      <td>NaN</td>\n",
       "      <td>NaN</td>\n",
       "      <td>NaN</td>\n",
       "      <td>NaN</td>\n",
       "      <td>NaN</td>\n",
       "      <td>NaN</td>\n",
       "    </tr>\n",
       "    <tr>\n",
       "      <th>ABST</th>\n",
       "      <td>283.0</td>\n",
       "      <td>1191.360777</td>\n",
       "      <td>1201.190253</td>\n",
       "      <td>0.10</td>\n",
       "      <td>400.00</td>\n",
       "      <td>1000.0</td>\n",
       "      <td>1000.0</td>\n",
       "      <td>9000.0</td>\n",
       "      <td>0.0</td>\n",
       "      <td>NaN</td>\n",
       "      <td>NaN</td>\n",
       "      <td>NaN</td>\n",
       "      <td>NaN</td>\n",
       "      <td>NaN</td>\n",
       "      <td>NaN</td>\n",
       "      <td>NaN</td>\n",
       "    </tr>\n",
       "    <tr>\n",
       "      <th>AMPL</th>\n",
       "      <td>4.0</td>\n",
       "      <td>2.750000</td>\n",
       "      <td>0.500000</td>\n",
       "      <td>2.00</td>\n",
       "      <td>2.75</td>\n",
       "      <td>3.0</td>\n",
       "      <td>3.0</td>\n",
       "      <td>3.0</td>\n",
       "      <td>4.0</td>\n",
       "      <td>1.973525</td>\n",
       "      <td>1.128538</td>\n",
       "      <td>1.0913</td>\n",
       "      <td>1.425838</td>\n",
       "      <td>1.58715</td>\n",
       "      <td>2.134837</td>\n",
       "      <td>3.6285</td>\n",
       "    </tr>\n",
       "  </tbody>\n",
       "</table>\n",
       "</div>"
      ],
      "text/plain": [
       "       Price_Crypto                                                           \\\n",
       "              count         mean          std    min     25%     50%     75%   \n",
       "Crypto                                                                         \n",
       "0xBTC         175.0    18.791245    39.339234   0.01    5.00    10.0    15.5   \n",
       "1MT            33.0    93.348556    91.823929   1.00   40.00    45.0   120.0   \n",
       "2XDN            4.0   275.000000   184.842275  50.00  200.00   275.0   350.0   \n",
       "ABST          283.0  1191.360777  1201.190253   0.10  400.00  1000.0  1000.0   \n",
       "AMPL            4.0     2.750000     0.500000   2.00    2.75     3.0     3.0   \n",
       "\n",
       "               Price_USD                                                 \\\n",
       "           max     count      mean       std     min       25%      50%   \n",
       "Crypto                                                                    \n",
       "0xBTC    420.0       0.0       NaN       NaN     NaN       NaN      NaN   \n",
       "1MT      375.0       0.0       NaN       NaN     NaN       NaN      NaN   \n",
       "2XDN     500.0       0.0       NaN       NaN     NaN       NaN      NaN   \n",
       "ABST    9000.0       0.0       NaN       NaN     NaN       NaN      NaN   \n",
       "AMPL       3.0       4.0  1.973525  1.128538  1.0913  1.425838  1.58715   \n",
       "\n",
       "                          \n",
       "             75%     max  \n",
       "Crypto                    \n",
       "0xBTC        NaN     NaN  \n",
       "1MT          NaN     NaN  \n",
       "2XDN         NaN     NaN  \n",
       "ABST         NaN     NaN  \n",
       "AMPL    2.134837  3.6285  "
      ]
     },
     "execution_count": 35,
     "metadata": {},
     "output_type": "execute_result"
    }
   ],
   "source": [
    "# Groupby\n",
    "crypto = X.groupby(\"Crypto\")\n",
    "\n",
    "# Summary statistics\n",
    "crypto.describe().head()"
   ]
  },
  {
   "cell_type": "code",
   "execution_count": 36,
   "metadata": {},
   "outputs": [
    {
     "data": {
      "image/png": "[encoded data removed]",
      "text/plain": [
       "<Figure size 1080x720 with 1 Axes>"
      ]
     },
     "metadata": {
      "needs_background": "light"
     },
     "output_type": "display_data"
    }
   ],
   "source": [
    "# Plot by sales.\n",
    "fig = plt.figure(figsize=(15,10))\n",
    "crypto.size().sort_values(ascending=False).head(n=10).plot.bar()\n",
    "plt.xticks(rotation=50)\n",
    "plt.xlabel(\"Cryptocurrency Exchange\")\n",
    "plt.ylabel(\"Number of Transactions\")\n",
    "plt.savefig('../figures/04-crypto-sales.jpg', bbox_inches='tight', dpi=150)\n",
    "plt.show()"
   ]
  },
  {
   "cell_type": "code",
   "execution_count": 37,
   "metadata": {},
   "outputs": [
    {
     "data": {
      "image/png": "[encoded data removed]",
      "text/plain": [
       "<Figure size 432x288 with 1 Axes>"
      ]
     },
     "metadata": {
      "needs_background": "light"
     },
     "output_type": "display_data"
    }
   ],
   "source": [
    "# Display frequency word cloud.\n",
    "text = X['Crypto'].value_counts().to_dict()\n",
    "wc = WordCloud(max_font_size=100, max_words=100, background_color=\"white\").generate_from_frequencies(text)\n",
    "\n",
    "# Save file.\n",
    "wc.to_file(\"../figures/04-crypto-cloud.png\")\n",
    "\n",
    "# Display the generated image:\n",
    "plt.imshow(wc, interpolation='bilinear')\n",
    "plt.axis(\"off\")\n",
    "plt.show()"
   ]
  },
  {
   "cell_type": "markdown",
   "metadata": {},
   "source": [
    "## NFT Names"
   ]
  },
  {
   "cell_type": "code",
   "execution_count": 38,
   "metadata": {},
   "outputs": [
    {
     "data": {
      "text/plain": [
       "count          1851964\n",
       "unique         1219345\n",
       "top       NFT Yourself\n",
       "freq              5337\n",
       "Name: Name, dtype: object"
      ]
     },
     "execution_count": 38,
     "metadata": {},
     "output_type": "execute_result"
    }
   ],
   "source": [
    "X['Name'].describe()"
   ]
  },
  {
   "cell_type": "code",
   "execution_count": 39,
   "metadata": {},
   "outputs": [
    {
     "name": "stdout",
     "output_type": "stream",
     "text": [
      "There are 59444576 words in the combination of all names from NFT sales.\n"
     ]
    },
    {
     "data": {
      "image/png": "[encoded data removed]",
      "text/plain": [
       "<Figure size 432x288 with 1 Axes>"
      ]
     },
     "metadata": {
      "needs_background": "light"
     },
     "output_type": "display_data"
    }
   ],
   "source": [
    "# Display frequency word cloud.\n",
    "text = \" \".join(str(name) for name in X['Name'])\n",
    "print (\"There are {} words in the combination of all names from NFT sales.\".format(len(text)))\n",
    "wc = WordCloud(max_font_size=150, max_words=100, background_color=\"white\").generate(text)\n",
    "\n",
    "# Save file.\n",
    "wc.to_file(\"../figures/05-name-cloud.png\")\n",
    "\n",
    "# Display the generated image:\n",
    "plt.imshow(wc, interpolation='bilinear')\n",
    "plt.axis(\"off\")\n",
    "plt.show()"
   ]
  },
  {
   "cell_type": "markdown",
   "metadata": {},
   "source": [
    "## NFT Descriptions"
   ]
  },
  {
   "cell_type": "code",
   "execution_count": 40,
   "metadata": {},
   "outputs": [
    {
     "data": {
      "text/plain": [
       "count                                               1730729\n",
       "unique                                               489235\n",
       "top       Rare Player Cards are only issued at 100 editi...\n",
       "freq                                                 275588\n",
       "Name: Description, dtype: object"
      ]
     },
     "execution_count": 40,
     "metadata": {},
     "output_type": "execute_result"
    }
   ],
   "source": [
    "X['Description'].describe()"
   ]
  },
  {
   "cell_type": "markdown",
   "metadata": {},
   "source": [
    "## Unique ID Collection"
   ]
  },
  {
   "cell_type": "code",
   "execution_count": 41,
   "metadata": {},
   "outputs": [
    {
     "data": {
      "text/plain": [
       "count                                6071027\n",
       "unique                               4678242\n",
       "top       ('Kings-of-leon-yellowheart', '0')\n",
       "freq                                    5420\n",
       "Name: Unique_id_collection, dtype: object"
      ]
     },
     "execution_count": 41,
     "metadata": {},
     "output_type": "execute_result"
    }
   ],
   "source": [
    "X['Unique_id_collection'].describe()"
   ]
  },
  {
   "cell_type": "code",
   "execution_count": 42,
   "metadata": {},
   "outputs": [
    {
     "data": {
      "text/html": [
       "<div>\n",
       "<style scoped>\n",
       "    .dataframe tbody tr th:only-of-type {\n",
       "        vertical-align: middle;\n",
       "    }\n",
       "\n",
       "    .dataframe tbody tr th {\n",
       "        vertical-align: top;\n",
       "    }\n",
       "\n",
       "    .dataframe thead th {\n",
       "        text-align: right;\n",
       "    }\n",
       "</style>\n",
       "<table border=\"1\" class=\"dataframe\">\n",
       "  <thead>\n",
       "    <tr style=\"text-align: right;\">\n",
       "      <th></th>\n",
       "      <th>Smart_contract</th>\n",
       "      <th>ID_token</th>\n",
       "      <th>Transaction_hash</th>\n",
       "      <th>Seller_address</th>\n",
       "      <th>Seller_username</th>\n",
       "      <th>Buyer_address</th>\n",
       "      <th>Buyer_username</th>\n",
       "      <th>Image_url_1</th>\n",
       "      <th>Image_url_2</th>\n",
       "      <th>Image_url_3</th>\n",
       "      <th>...</th>\n",
       "      <th>Name</th>\n",
       "      <th>Description</th>\n",
       "      <th>Collection</th>\n",
       "      <th>Market</th>\n",
       "      <th>Datetime_updated</th>\n",
       "      <th>Datetime_updated_seconds</th>\n",
       "      <th>Permanent_link</th>\n",
       "      <th>Unique_id_collection</th>\n",
       "      <th>Collection_cleaned</th>\n",
       "      <th>Category</th>\n",
       "    </tr>\n",
       "  </thead>\n",
       "  <tbody>\n",
       "    <tr>\n",
       "      <th>5445927</th>\n",
       "      <td>0x4d3f1e20711694c975af89326dee177148f19876</td>\n",
       "      <td>16</td>\n",
       "      <td>0xba017344dca1474d1abfd9dcc10f2cdc8666324b561f...</td>\n",
       "      <td>0x0031a2d5ea5b69bcb8e191f5f0ae7919e9c9f0db</td>\n",
       "      <td>EthereumDomains</td>\n",
       "      <td>0xadd18b6c8a77cb7a119bfb2d70a29b89bb8ba1a5</td>\n",
       "      <td>DigitalArt</td>\n",
       "      <td>https://lh3.googleusercontent.com/m2xDPqqjbNrs...</td>\n",
       "      <td>NaN</td>\n",
       "      <td>https://lh3.googleusercontent.com/m2xDPqqjbNrs...</td>\n",
       "      <td>...</td>\n",
       "      <td>o.0</td>\n",
       "      <td>NaN</td>\n",
       "      <td>0-domains</td>\n",
       "      <td>OpenSea</td>\n",
       "      <td>2020-11-06 00:00:00</td>\n",
       "      <td>2020-11-06 05:42:28</td>\n",
       "      <td>https://opensea.io/assets/0x4d3f1e20711694c975...</td>\n",
       "      <td>('0-domains', '16')</td>\n",
       "      <td>Domain</td>\n",
       "      <td>Other</td>\n",
       "    </tr>\n",
       "    <tr>\n",
       "      <th>5105530</th>\n",
       "      <td>0x4d3f1e20711694c975af89326dee177148f19876</td>\n",
       "      <td>2</td>\n",
       "      <td>0x78cec95dc409293f22e179c18bb8470fb8c1931e314b...</td>\n",
       "      <td>0x0031a2d5ea5b69bcb8e191f5f0ae7919e9c9f0db</td>\n",
       "      <td>EthereumDomains</td>\n",
       "      <td>0x122b0eaa0a4252cefcb877f0bf608bae2cf7ca9e</td>\n",
       "      <td>Wilson83</td>\n",
       "      <td>https://lh3.googleusercontent.com/m2xDPqqjbNrs...</td>\n",
       "      <td>NaN</td>\n",
       "      <td>https://lh3.googleusercontent.com/m2xDPqqjbNrs...</td>\n",
       "      <td>...</td>\n",
       "      <td>b.0</td>\n",
       "      <td>NaN</td>\n",
       "      <td>0-domains</td>\n",
       "      <td>OpenSea</td>\n",
       "      <td>2020-04-09 00:00:00</td>\n",
       "      <td>2020-04-09 09:35:34</td>\n",
       "      <td>https://opensea.io/assets/0x4d3f1e20711694c975...</td>\n",
       "      <td>('0-domains', '2')</td>\n",
       "      <td>Domain</td>\n",
       "      <td>Other</td>\n",
       "    </tr>\n",
       "    <tr>\n",
       "      <th>5469259</th>\n",
       "      <td>0xab173f5dff2966d83289f047cf4840e15f9d8992</td>\n",
       "      <td>24</td>\n",
       "      <td>0xfbc075dc51b55b8a0ec67fd537cba37136aaa55a93d3...</td>\n",
       "      <td>0x9327775e225a703125167eb423d246915bdc37e7</td>\n",
       "      <td>Starry</td>\n",
       "      <td>0x3e86eac93a2dbb4faeb8709d77d451aeda710ef9</td>\n",
       "      <td>Mercy66</td>\n",
       "      <td>https://lh3.googleusercontent.com/yJBf5K02dMyT...</td>\n",
       "      <td>NaN</td>\n",
       "      <td>https://lh3.googleusercontent.com/yJBf5K02dMyT...</td>\n",
       "      <td>...</td>\n",
       "      <td>0x meets imToken #24</td>\n",
       "      <td>NaN</td>\n",
       "      <td>0x-meets-imtoken</td>\n",
       "      <td>OpenSea</td>\n",
       "      <td>2020-12-26 00:00:00</td>\n",
       "      <td>2020-12-26 07:47:28</td>\n",
       "      <td>https://opensea.io/assets/0xab173f5dff2966d832...</td>\n",
       "      <td>('0x-meets-imtoken', '24')</td>\n",
       "      <td>Xmeetsimtoken</td>\n",
       "      <td>Other</td>\n",
       "    </tr>\n",
       "    <tr>\n",
       "      <th>5424072</th>\n",
       "      <td>0x001ba7dc2ddfa893c17b6b478c9853b83fc8594c</td>\n",
       "      <td>1</td>\n",
       "      <td>0xc17eae8a03d4495521fe1e13c0dfc0520feb43ab6488...</td>\n",
       "      <td>0x5e9cb317d6ca6de25797a1cccca87849571d7cd4</td>\n",
       "      <td>NaN</td>\n",
       "      <td>0x2fec5d8835b39f314187dc1da933b273f32f18c3</td>\n",
       "      <td>theblackfractal</td>\n",
       "      <td>https://lh3.googleusercontent.com/pr_1auWg_BuG...</td>\n",
       "      <td>https://ipfs.io/ipfs/QmebtnmaUuU1vpV4uT9erVY5f...</td>\n",
       "      <td>https://lh3.googleusercontent.com/pr_1auWg_BuG...</td>\n",
       "      <td>...</td>\n",
       "      <td>TEXHN GLITCH 1</td>\n",
       "      <td>ネオンの伝説\\nTEXHN GLITCH 1</td>\n",
       "      <td>0x001ba7dc2ddfa893c17b6b478c9853b83fc8594c</td>\n",
       "      <td>OpenSea</td>\n",
       "      <td>2020-11-13 00:00:00</td>\n",
       "      <td>2020-11-13 19:44:51</td>\n",
       "      <td>https://opensea.io/assets/0x001ba7dc2ddfa893c1...</td>\n",
       "      <td>('0x001ba7dc2ddfa893c17b6b478c9853b83fc8594c',...</td>\n",
       "      <td>Xbadcddfacbbcbfcc</td>\n",
       "      <td>Other</td>\n",
       "    </tr>\n",
       "    <tr>\n",
       "      <th>5513935</th>\n",
       "      <td>0x001ba7dc2ddfa893c17b6b478c9853b83fc8594c</td>\n",
       "      <td>6</td>\n",
       "      <td>0x573401db22e279e1554126d9e746a7ed8d7c208cd578...</td>\n",
       "      <td>0x5e9cb317d6ca6de25797a1cccca87849571d7cd4</td>\n",
       "      <td>NaN</td>\n",
       "      <td>0x3a2da971984d61759a8a8518e85b9f7feb5d013b</td>\n",
       "      <td>NaN</td>\n",
       "      <td>https://lh3.googleusercontent.com/cHompyLpfvFs...</td>\n",
       "      <td>https://ipfs.io/ipfs/QmQv2kVfDjpKnsKE29yMThNXD...</td>\n",
       "      <td>https://lh3.googleusercontent.com/cHompyLpfvFs...</td>\n",
       "      <td>...</td>\n",
       "      <td>攻殻機動隊 KUSANAGI</td>\n",
       "      <td>攻殻機動隊 KUSANAGI</td>\n",
       "      <td>0x001ba7dc2ddfa893c17b6b478c9853b83fc8594c</td>\n",
       "      <td>OpenSea</td>\n",
       "      <td>2020-12-06 00:00:00</td>\n",
       "      <td>2020-12-06 10:19:44</td>\n",
       "      <td>https://opensea.io/assets/0x001ba7dc2ddfa893c1...</td>\n",
       "      <td>('0x001ba7dc2ddfa893c17b6b478c9853b83fc8594c',...</td>\n",
       "      <td>Xbadcddfacbbcbfcc</td>\n",
       "      <td>Other</td>\n",
       "    </tr>\n",
       "    <tr>\n",
       "      <th>...</th>\n",
       "      <td>...</td>\n",
       "      <td>...</td>\n",
       "      <td>...</td>\n",
       "      <td>...</td>\n",
       "      <td>...</td>\n",
       "      <td>...</td>\n",
       "      <td>...</td>\n",
       "      <td>...</td>\n",
       "      <td>...</td>\n",
       "      <td>...</td>\n",
       "      <td>...</td>\n",
       "      <td>...</td>\n",
       "      <td>...</td>\n",
       "      <td>...</td>\n",
       "      <td>...</td>\n",
       "      <td>...</td>\n",
       "      <td>...</td>\n",
       "      <td>...</td>\n",
       "      <td>...</td>\n",
       "      <td>...</td>\n",
       "      <td>...</td>\n",
       "    </tr>\n",
       "    <tr>\n",
       "      <th>3046889</th>\n",
       "      <td>atomicassets</td>\n",
       "      <td>1099521575043</td>\n",
       "      <td>NaN</td>\n",
       "      <td>xgyaw.wam</td>\n",
       "      <td>NaN</td>\n",
       "      <td>ynnra.wam</td>\n",
       "      <td>NaN</td>\n",
       "      <td>QmV5vWVi7EFiNrb63WF52BJPm6f3J3pwS7AXrFxTSJYzsr</td>\n",
       "      <td>https://ipfs.io/ipfs/QmV5vWVi7EFiNrb63WF52BJPm...</td>\n",
       "      <td>https://ipfs.atomichub.io/ipfs/QmV5vWVi7EFiNrb...</td>\n",
       "      <td>...</td>\n",
       "      <td>NaN</td>\n",
       "      <td>NaN</td>\n",
       "      <td>zombieartist</td>\n",
       "      <td>Atomic</td>\n",
       "      <td>2021-04-02 00:00:00</td>\n",
       "      <td>2021-04-02 03:53:36</td>\n",
       "      <td>NaN</td>\n",
       "      <td>('zombieartist', '1099521575043')</td>\n",
       "      <td>Zombie</td>\n",
       "      <td>Other</td>\n",
       "    </tr>\n",
       "    <tr>\n",
       "      <th>3288493</th>\n",
       "      <td>atomicassets</td>\n",
       "      <td>1099521133207</td>\n",
       "      <td>NaN</td>\n",
       "      <td>j5pr2.wam</td>\n",
       "      <td>NaN</td>\n",
       "      <td>czdqw.wam</td>\n",
       "      <td>NaN</td>\n",
       "      <td>QmNgQTP39KHA9HRobUaM5iivujifeTeDJGiD4MPcu2J68D</td>\n",
       "      <td>https://ipfs.io/ipfs/QmNgQTP39KHA9HRobUaM5iivu...</td>\n",
       "      <td>https://ipfs.atomichub.io/ipfs/QmNgQTP39KHA9HR...</td>\n",
       "      <td>...</td>\n",
       "      <td>NaN</td>\n",
       "      <td>NaN</td>\n",
       "      <td>zombiesperks</td>\n",
       "      <td>Atomic</td>\n",
       "      <td>2021-04-11 00:00:00</td>\n",
       "      <td>2021-04-11 20:01:22</td>\n",
       "      <td>NaN</td>\n",
       "      <td>('zombiesperks', '1099521133207')</td>\n",
       "      <td>Zombie</td>\n",
       "      <td>Other</td>\n",
       "    </tr>\n",
       "    <tr>\n",
       "      <th>3288105</th>\n",
       "      <td>atomicassets</td>\n",
       "      <td>1099523337339</td>\n",
       "      <td>NaN</td>\n",
       "      <td>fuqr4.wam</td>\n",
       "      <td>NaN</td>\n",
       "      <td>f11ay.wam</td>\n",
       "      <td>NaN</td>\n",
       "      <td>QmasKbQ2tKugnTdkGrGzJNhRSBL31KzW26BBnwtwWsyojk</td>\n",
       "      <td>https://ipfs.io/ipfs/QmasKbQ2tKugnTdkGrGzJNhRS...</td>\n",
       "      <td>https://ipfs.atomichub.io/ipfs/QmasKbQ2tKugnTd...</td>\n",
       "      <td>...</td>\n",
       "      <td>NaN</td>\n",
       "      <td>NaN</td>\n",
       "      <td>zombiesperks</td>\n",
       "      <td>Atomic</td>\n",
       "      <td>2021-04-11 00:00:00</td>\n",
       "      <td>2021-04-11 20:08:47</td>\n",
       "      <td>NaN</td>\n",
       "      <td>('zombiesperks', '1099523337339')</td>\n",
       "      <td>Zombie</td>\n",
       "      <td>Other</td>\n",
       "    </tr>\n",
       "    <tr>\n",
       "      <th>3287899</th>\n",
       "      <td>atomicassets</td>\n",
       "      <td>1099523337404</td>\n",
       "      <td>NaN</td>\n",
       "      <td>f3ub4.wam</td>\n",
       "      <td>NaN</td>\n",
       "      <td>f11ay.wam</td>\n",
       "      <td>NaN</td>\n",
       "      <td>QmasKbQ2tKugnTdkGrGzJNhRSBL31KzW26BBnwtwWsyojk</td>\n",
       "      <td>https://ipfs.io/ipfs/QmasKbQ2tKugnTdkGrGzJNhRS...</td>\n",
       "      <td>https://ipfs.atomichub.io/ipfs/QmasKbQ2tKugnTd...</td>\n",
       "      <td>...</td>\n",
       "      <td>NaN</td>\n",
       "      <td>NaN</td>\n",
       "      <td>zombiesperks</td>\n",
       "      <td>Atomic</td>\n",
       "      <td>2021-04-11 00:00:00</td>\n",
       "      <td>2021-04-11 20:18:44</td>\n",
       "      <td>NaN</td>\n",
       "      <td>('zombiesperks', '1099523337404')</td>\n",
       "      <td>Zombie</td>\n",
       "      <td>Other</td>\n",
       "    </tr>\n",
       "    <tr>\n",
       "      <th>2062444</th>\n",
       "      <td>atomicassets</td>\n",
       "      <td>1099519817711</td>\n",
       "      <td>NaN</td>\n",
       "      <td>fbvr2.wam</td>\n",
       "      <td>NaN</td>\n",
       "      <td>xhoqy.wam</td>\n",
       "      <td>NaN</td>\n",
       "      <td>QmbvWvsGBSa5JHuqVnkjTPi4TjWPSr3vg8CdivZ2QP5j47</td>\n",
       "      <td>https://ipfs.io/ipfs/QmbvWvsGBSa5JHuqVnkjTPi4T...</td>\n",
       "      <td>https://ipfs.atomichub.io/ipfs/QmbvWvsGBSa5JHu...</td>\n",
       "      <td>...</td>\n",
       "      <td>NaN</td>\n",
       "      <td>NaN</td>\n",
       "      <td>zweihspacert</td>\n",
       "      <td>Atomic</td>\n",
       "      <td>2021-03-18 00:00:00</td>\n",
       "      <td>2021-03-18 07:51:55</td>\n",
       "      <td>NaN</td>\n",
       "      <td>('zweihspacert', '1099519817711')</td>\n",
       "      <td>Zweihspacert</td>\n",
       "      <td>Other</td>\n",
       "    </tr>\n",
       "  </tbody>\n",
       "</table>\n",
       "<p>6071027 rows × 24 columns</p>\n",
       "</div>"
      ],
      "text/plain": [
       "                                     Smart_contract       ID_token  \\\n",
       "5445927  0x4d3f1e20711694c975af89326dee177148f19876             16   \n",
       "5105530  0x4d3f1e20711694c975af89326dee177148f19876              2   \n",
       "5469259  0xab173f5dff2966d83289f047cf4840e15f9d8992             24   \n",
       "5424072  0x001ba7dc2ddfa893c17b6b478c9853b83fc8594c              1   \n",
       "5513935  0x001ba7dc2ddfa893c17b6b478c9853b83fc8594c              6   \n",
       "...                                             ...            ...   \n",
       "3046889                                atomicassets  1099521575043   \n",
       "3288493                                atomicassets  1099521133207   \n",
       "3288105                                atomicassets  1099523337339   \n",
       "3287899                                atomicassets  1099523337404   \n",
       "2062444                                atomicassets  1099519817711   \n",
       "\n",
       "                                          Transaction_hash  \\\n",
       "5445927  0xba017344dca1474d1abfd9dcc10f2cdc8666324b561f...   \n",
       "5105530  0x78cec95dc409293f22e179c18bb8470fb8c1931e314b...   \n",
       "5469259  0xfbc075dc51b55b8a0ec67fd537cba37136aaa55a93d3...   \n",
       "5424072  0xc17eae8a03d4495521fe1e13c0dfc0520feb43ab6488...   \n",
       "5513935  0x573401db22e279e1554126d9e746a7ed8d7c208cd578...   \n",
       "...                                                    ...   \n",
       "3046889                                                NaN   \n",
       "3288493                                                NaN   \n",
       "3288105                                                NaN   \n",
       "3287899                                                NaN   \n",
       "2062444                                                NaN   \n",
       "\n",
       "                                     Seller_address  Seller_username  \\\n",
       "5445927  0x0031a2d5ea5b69bcb8e191f5f0ae7919e9c9f0db  EthereumDomains   \n",
       "5105530  0x0031a2d5ea5b69bcb8e191f5f0ae7919e9c9f0db  EthereumDomains   \n",
       "5469259  0x9327775e225a703125167eb423d246915bdc37e7           Starry   \n",
       "5424072  0x5e9cb317d6ca6de25797a1cccca87849571d7cd4              NaN   \n",
       "5513935  0x5e9cb317d6ca6de25797a1cccca87849571d7cd4              NaN   \n",
       "...                                             ...              ...   \n",
       "3046889                                   xgyaw.wam              NaN   \n",
       "3288493                                   j5pr2.wam              NaN   \n",
       "3288105                                   fuqr4.wam              NaN   \n",
       "3287899                                   f3ub4.wam              NaN   \n",
       "2062444                                   fbvr2.wam              NaN   \n",
       "\n",
       "                                      Buyer_address   Buyer_username  \\\n",
       "5445927  0xadd18b6c8a77cb7a119bfb2d70a29b89bb8ba1a5       DigitalArt   \n",
       "5105530  0x122b0eaa0a4252cefcb877f0bf608bae2cf7ca9e         Wilson83   \n",
       "5469259  0x3e86eac93a2dbb4faeb8709d77d451aeda710ef9          Mercy66   \n",
       "5424072  0x2fec5d8835b39f314187dc1da933b273f32f18c3  theblackfractal   \n",
       "5513935  0x3a2da971984d61759a8a8518e85b9f7feb5d013b              NaN   \n",
       "...                                             ...              ...   \n",
       "3046889                                   ynnra.wam              NaN   \n",
       "3288493                                   czdqw.wam              NaN   \n",
       "3288105                                   f11ay.wam              NaN   \n",
       "3287899                                   f11ay.wam              NaN   \n",
       "2062444                                   xhoqy.wam              NaN   \n",
       "\n",
       "                                               Image_url_1  \\\n",
       "5445927  https://lh3.googleusercontent.com/m2xDPqqjbNrs...   \n",
       "5105530  https://lh3.googleusercontent.com/m2xDPqqjbNrs...   \n",
       "5469259  https://lh3.googleusercontent.com/yJBf5K02dMyT...   \n",
       "5424072  https://lh3.googleusercontent.com/pr_1auWg_BuG...   \n",
       "5513935  https://lh3.googleusercontent.com/cHompyLpfvFs...   \n",
       "...                                                    ...   \n",
       "3046889     QmV5vWVi7EFiNrb63WF52BJPm6f3J3pwS7AXrFxTSJYzsr   \n",
       "3288493     QmNgQTP39KHA9HRobUaM5iivujifeTeDJGiD4MPcu2J68D   \n",
       "3288105     QmasKbQ2tKugnTdkGrGzJNhRSBL31KzW26BBnwtwWsyojk   \n",
       "3287899     QmasKbQ2tKugnTdkGrGzJNhRSBL31KzW26BBnwtwWsyojk   \n",
       "2062444     QmbvWvsGBSa5JHuqVnkjTPi4TjWPSr3vg8CdivZ2QP5j47   \n",
       "\n",
       "                                               Image_url_2  \\\n",
       "5445927                                                NaN   \n",
       "5105530                                                NaN   \n",
       "5469259                                                NaN   \n",
       "5424072  https://ipfs.io/ipfs/QmebtnmaUuU1vpV4uT9erVY5f...   \n",
       "5513935  https://ipfs.io/ipfs/QmQv2kVfDjpKnsKE29yMThNXD...   \n",
       "...                                                    ...   \n",
       "3046889  https://ipfs.io/ipfs/QmV5vWVi7EFiNrb63WF52BJPm...   \n",
       "3288493  https://ipfs.io/ipfs/QmNgQTP39KHA9HRobUaM5iivu...   \n",
       "3288105  https://ipfs.io/ipfs/QmasKbQ2tKugnTdkGrGzJNhRS...   \n",
       "3287899  https://ipfs.io/ipfs/QmasKbQ2tKugnTdkGrGzJNhRS...   \n",
       "2062444  https://ipfs.io/ipfs/QmbvWvsGBSa5JHuqVnkjTPi4T...   \n",
       "\n",
       "                                               Image_url_3  ...  \\\n",
       "5445927  https://lh3.googleusercontent.com/m2xDPqqjbNrs...  ...   \n",
       "5105530  https://lh3.googleusercontent.com/m2xDPqqjbNrs...  ...   \n",
       "5469259  https://lh3.googleusercontent.com/yJBf5K02dMyT...  ...   \n",
       "5424072  https://lh3.googleusercontent.com/pr_1auWg_BuG...  ...   \n",
       "5513935  https://lh3.googleusercontent.com/cHompyLpfvFs...  ...   \n",
       "...                                                    ...  ...   \n",
       "3046889  https://ipfs.atomichub.io/ipfs/QmV5vWVi7EFiNrb...  ...   \n",
       "3288493  https://ipfs.atomichub.io/ipfs/QmNgQTP39KHA9HR...  ...   \n",
       "3288105  https://ipfs.atomichub.io/ipfs/QmasKbQ2tKugnTd...  ...   \n",
       "3287899  https://ipfs.atomichub.io/ipfs/QmasKbQ2tKugnTd...  ...   \n",
       "2062444  https://ipfs.atomichub.io/ipfs/QmbvWvsGBSa5JHu...  ...   \n",
       "\n",
       "                         Name             Description  \\\n",
       "5445927                   o.0                     NaN   \n",
       "5105530                   b.0                     NaN   \n",
       "5469259  0x meets imToken #24                     NaN   \n",
       "5424072        TEXHN GLITCH 1  ネオンの伝説\\nTEXHN GLITCH 1   \n",
       "5513935        攻殻機動隊 KUSANAGI          攻殻機動隊 KUSANAGI   \n",
       "...                       ...                     ...   \n",
       "3046889                   NaN                     NaN   \n",
       "3288493                   NaN                     NaN   \n",
       "3288105                   NaN                     NaN   \n",
       "3287899                   NaN                     NaN   \n",
       "2062444                   NaN                     NaN   \n",
       "\n",
       "                                         Collection   Market  \\\n",
       "5445927                                   0-domains  OpenSea   \n",
       "5105530                                   0-domains  OpenSea   \n",
       "5469259                            0x-meets-imtoken  OpenSea   \n",
       "5424072  0x001ba7dc2ddfa893c17b6b478c9853b83fc8594c  OpenSea   \n",
       "5513935  0x001ba7dc2ddfa893c17b6b478c9853b83fc8594c  OpenSea   \n",
       "...                                             ...      ...   \n",
       "3046889                                zombieartist   Atomic   \n",
       "3288493                                zombiesperks   Atomic   \n",
       "3288105                                zombiesperks   Atomic   \n",
       "3287899                                zombiesperks   Atomic   \n",
       "2062444                                zweihspacert   Atomic   \n",
       "\n",
       "            Datetime_updated Datetime_updated_seconds  \\\n",
       "5445927  2020-11-06 00:00:00      2020-11-06 05:42:28   \n",
       "5105530  2020-04-09 00:00:00      2020-04-09 09:35:34   \n",
       "5469259  2020-12-26 00:00:00      2020-12-26 07:47:28   \n",
       "5424072  2020-11-13 00:00:00      2020-11-13 19:44:51   \n",
       "5513935  2020-12-06 00:00:00      2020-12-06 10:19:44   \n",
       "...                      ...                      ...   \n",
       "3046889  2021-04-02 00:00:00      2021-04-02 03:53:36   \n",
       "3288493  2021-04-11 00:00:00      2021-04-11 20:01:22   \n",
       "3288105  2021-04-11 00:00:00      2021-04-11 20:08:47   \n",
       "3287899  2021-04-11 00:00:00      2021-04-11 20:18:44   \n",
       "2062444  2021-03-18 00:00:00      2021-03-18 07:51:55   \n",
       "\n",
       "                                            Permanent_link  \\\n",
       "5445927  https://opensea.io/assets/0x4d3f1e20711694c975...   \n",
       "5105530  https://opensea.io/assets/0x4d3f1e20711694c975...   \n",
       "5469259  https://opensea.io/assets/0xab173f5dff2966d832...   \n",
       "5424072  https://opensea.io/assets/0x001ba7dc2ddfa893c1...   \n",
       "5513935  https://opensea.io/assets/0x001ba7dc2ddfa893c1...   \n",
       "...                                                    ...   \n",
       "3046889                                                NaN   \n",
       "3288493                                                NaN   \n",
       "3288105                                                NaN   \n",
       "3287899                                                NaN   \n",
       "2062444                                                NaN   \n",
       "\n",
       "                                      Unique_id_collection Collection_cleaned  \\\n",
       "5445927                                ('0-domains', '16')             Domain   \n",
       "5105530                                 ('0-domains', '2')             Domain   \n",
       "5469259                         ('0x-meets-imtoken', '24')      Xmeetsimtoken   \n",
       "5424072  ('0x001ba7dc2ddfa893c17b6b478c9853b83fc8594c',...  Xbadcddfacbbcbfcc   \n",
       "5513935  ('0x001ba7dc2ddfa893c17b6b478c9853b83fc8594c',...  Xbadcddfacbbcbfcc   \n",
       "...                                                    ...                ...   \n",
       "3046889                  ('zombieartist', '1099521575043')             Zombie   \n",
       "3288493                  ('zombiesperks', '1099521133207')             Zombie   \n",
       "3288105                  ('zombiesperks', '1099523337339')             Zombie   \n",
       "3287899                  ('zombiesperks', '1099523337404')             Zombie   \n",
       "2062444                  ('zweihspacert', '1099519817711')       Zweihspacert   \n",
       "\n",
       "        Category  \n",
       "5445927    Other  \n",
       "5105530    Other  \n",
       "5469259    Other  \n",
       "5424072    Other  \n",
       "5513935    Other  \n",
       "...          ...  \n",
       "3046889    Other  \n",
       "3288493    Other  \n",
       "3288105    Other  \n",
       "3287899    Other  \n",
       "2062444    Other  \n",
       "\n",
       "[6071027 rows x 24 columns]"
      ]
     },
     "execution_count": 42,
     "metadata": {},
     "output_type": "execute_result"
    }
   ],
   "source": [
    "X.sort_values(by=\"Unique_id_collection\")"
   ]
  },
  {
   "cell_type": "code",
   "execution_count": 43,
   "metadata": {},
   "outputs": [
    {
     "name": "stdout",
     "output_type": "stream",
     "text": [
      "0x9f9c171afde4cc6bbf6d38ae4012c83633653b85\n",
      "8278\n",
      "0x01e82015814ef3529f9c4ba02d56baa01bf1c6390571bee9548a62b6e4c3c2dd\n",
      "0xdf3ed758ace2b4d7ee520104ff2cbf36bdd0b751\n",
      "dev\n",
      "0x916d82e095ff6ba820d1daef029420c4007b0c08\n",
      "Yuanzi\n",
      "https://lh3.googleusercontent.com/H49Hj3mDG7eCd2PbFFYXrkun3-zzaSGnKqpI5Dc-QrwDCH25uv9WuDAMbiLVFkqsLm0hm9wZT03ZmWHA97H4ahTY\n",
      "https://assets.cargo.build/b05f8083ca4d68f423fd61515cd9a803.png\n",
      "https://lh3.googleusercontent.com/H49Hj3mDG7eCd2PbFFYXrkun3-zzaSGnKqpI5Dc-QrwDCH25uv9WuDAMbiLVFkqsLm0hm9wZT03ZmWHA97H4ahTY=s250\n",
      "https://lh3.googleusercontent.com/H49Hj3mDG7eCd2PbFFYXrkun3-zzaSGnKqpI5Dc-QrwDCH25uv9WuDAMbiLVFkqsLm0hm9wZT03ZmWHA97H4ahTY=s128\n",
      "0.97\n",
      "ETH\n",
      "433.83735\n",
      "Polyient Games Founder's Key\n",
      "Official Membership and Rewards NFT for the Polyient Games Ecosystem\n",
      "Pgfks\n",
      "OpenSea\n",
      "2020-11-10 00:00:00\n",
      "2020-11-10 05:22:43\n",
      "https://opensea.io/assets/0x9f9c171afde4cc6bbf6d38ae4012c83633653b85/8278\n",
      "('Pgfks', '8278')\n",
      "Pgfk\n",
      "Utility\n"
     ]
    }
   ],
   "source": [
    "for col in cols:\n",
    "    print(X.loc[5435445, col])"
   ]
  },
  {
   "cell_type": "code",
   "execution_count": 44,
   "metadata": {},
   "outputs": [
    {
     "data": {
      "text/html": [
       "<div>\n",
       "<style scoped>\n",
       "    .dataframe tbody tr th:only-of-type {\n",
       "        vertical-align: middle;\n",
       "    }\n",
       "\n",
       "    .dataframe tbody tr th {\n",
       "        vertical-align: top;\n",
       "    }\n",
       "\n",
       "    .dataframe thead th {\n",
       "        text-align: right;\n",
       "    }\n",
       "</style>\n",
       "<table border=\"1\" class=\"dataframe\">\n",
       "  <thead>\n",
       "    <tr style=\"text-align: right;\">\n",
       "      <th></th>\n",
       "      <th>Smart_contract</th>\n",
       "      <th>ID_token</th>\n",
       "      <th>Transaction_hash</th>\n",
       "      <th>Seller_address</th>\n",
       "      <th>Seller_username</th>\n",
       "      <th>Buyer_address</th>\n",
       "      <th>Buyer_username</th>\n",
       "      <th>Image_url_1</th>\n",
       "      <th>Image_url_2</th>\n",
       "      <th>Image_url_3</th>\n",
       "      <th>...</th>\n",
       "      <th>Name</th>\n",
       "      <th>Description</th>\n",
       "      <th>Collection</th>\n",
       "      <th>Market</th>\n",
       "      <th>Datetime_updated</th>\n",
       "      <th>Datetime_updated_seconds</th>\n",
       "      <th>Permanent_link</th>\n",
       "      <th>Unique_id_collection</th>\n",
       "      <th>Collection_cleaned</th>\n",
       "      <th>Category</th>\n",
       "    </tr>\n",
       "  </thead>\n",
       "  <tbody>\n",
       "    <tr>\n",
       "      <th>0</th>\n",
       "      <td>NaN</td>\n",
       "      <td>87094722.0</td>\n",
       "      <td>0xed9ff1c311a611e5c457ce0a49bbbb7ed55efca98842...</td>\n",
       "      <td>0x76481caa104b5f6bccb540dae4cefaf1c398ebea</td>\n",
       "      <td>NaN</td>\n",
       "      <td>0xe0fb7622091e3d9ef9b438471b10b9ea88c7cf6b</td>\n",
       "      <td>NaN</td>\n",
       "      <td>https://card.godsunchained.com/?id=33&amp;q=4</td>\n",
       "      <td>NaN</td>\n",
       "      <td>NaN</td>\n",
       "      <td>...</td>\n",
       "      <td>NaN</td>\n",
       "      <td>NaN</td>\n",
       "      <td>Godsunchained</td>\n",
       "      <td>Godsunchained</td>\n",
       "      <td>2019-11-30 00:00:00</td>\n",
       "      <td>2019-11-30 23:59:33</td>\n",
       "      <td>NaN</td>\n",
       "      <td>('Godsunchained', '87094722.0')</td>\n",
       "      <td>Godsunchained</td>\n",
       "      <td>Games</td>\n",
       "    </tr>\n",
       "    <tr>\n",
       "      <th>1</th>\n",
       "      <td>NaN</td>\n",
       "      <td>73044643.0</td>\n",
       "      <td>0xbc8412594ffa7382e8306215ece5b4e041fc641b1813...</td>\n",
       "      <td>0x76481caa104b5f6bccb540dae4cefaf1c398ebea</td>\n",
       "      <td>NaN</td>\n",
       "      <td>0x2c00d05ff7ffe93d77145dfe12aa56e622ae6f40</td>\n",
       "      <td>NaN</td>\n",
       "      <td>https://card.godsunchained.com/?id=79&amp;q=4</td>\n",
       "      <td>NaN</td>\n",
       "      <td>NaN</td>\n",
       "      <td>...</td>\n",
       "      <td>NaN</td>\n",
       "      <td>NaN</td>\n",
       "      <td>Godsunchained</td>\n",
       "      <td>Godsunchained</td>\n",
       "      <td>2019-11-30 00:00:00</td>\n",
       "      <td>2019-11-30 23:59:33</td>\n",
       "      <td>NaN</td>\n",
       "      <td>('Godsunchained', '73044643.0')</td>\n",
       "      <td>Godsunchained</td>\n",
       "      <td>Games</td>\n",
       "    </tr>\n",
       "    <tr>\n",
       "      <th>2</th>\n",
       "      <td>NaN</td>\n",
       "      <td>17107482.0</td>\n",
       "      <td>0x92672baf5e9e23de230dee8e57ddf443ab6d5a336341...</td>\n",
       "      <td>0x76481caa104b5f6bccb540dae4cefaf1c398ebea</td>\n",
       "      <td>NaN</td>\n",
       "      <td>0xe0fb7622091e3d9ef9b438471b10b9ea88c7cf6b</td>\n",
       "      <td>NaN</td>\n",
       "      <td>https://card.godsunchained.com/?id=33&amp;q=4</td>\n",
       "      <td>NaN</td>\n",
       "      <td>NaN</td>\n",
       "      <td>...</td>\n",
       "      <td>NaN</td>\n",
       "      <td>NaN</td>\n",
       "      <td>Godsunchained</td>\n",
       "      <td>Godsunchained</td>\n",
       "      <td>2019-11-30 00:00:00</td>\n",
       "      <td>2019-11-30 23:59:33</td>\n",
       "      <td>NaN</td>\n",
       "      <td>('Godsunchained', '17107482.0')</td>\n",
       "      <td>Godsunchained</td>\n",
       "      <td>Games</td>\n",
       "    </tr>\n",
       "    <tr>\n",
       "      <th>3</th>\n",
       "      <td>NaN</td>\n",
       "      <td>82230857.0</td>\n",
       "      <td>0x3d157249e3083622c2d756f07a05caa3a76687288b32...</td>\n",
       "      <td>0x76481caa104b5f6bccb540dae4cefaf1c398ebea</td>\n",
       "      <td>NaN</td>\n",
       "      <td>0x2c00d05ff7ffe93d77145dfe12aa56e622ae6f40</td>\n",
       "      <td>NaN</td>\n",
       "      <td>https://card.godsunchained.com/?id=227&amp;q=4</td>\n",
       "      <td>NaN</td>\n",
       "      <td>NaN</td>\n",
       "      <td>...</td>\n",
       "      <td>NaN</td>\n",
       "      <td>NaN</td>\n",
       "      <td>Godsunchained</td>\n",
       "      <td>Godsunchained</td>\n",
       "      <td>2019-11-30 00:00:00</td>\n",
       "      <td>2019-11-30 23:59:33</td>\n",
       "      <td>NaN</td>\n",
       "      <td>('Godsunchained', '82230857.0')</td>\n",
       "      <td>Godsunchained</td>\n",
       "      <td>Games</td>\n",
       "    </tr>\n",
       "    <tr>\n",
       "      <th>4</th>\n",
       "      <td>NaN</td>\n",
       "      <td>40925443.0</td>\n",
       "      <td>0xa892b3569dc8e6b3c7db93aade62372637ebbc61fb63...</td>\n",
       "      <td>0x76481caa104b5f6bccb540dae4cefaf1c398ebea</td>\n",
       "      <td>NaN</td>\n",
       "      <td>0x2c00d05ff7ffe93d77145dfe12aa56e622ae6f40</td>\n",
       "      <td>NaN</td>\n",
       "      <td>https://card.godsunchained.com/?id=62&amp;q=4</td>\n",
       "      <td>NaN</td>\n",
       "      <td>NaN</td>\n",
       "      <td>...</td>\n",
       "      <td>NaN</td>\n",
       "      <td>NaN</td>\n",
       "      <td>Godsunchained</td>\n",
       "      <td>Godsunchained</td>\n",
       "      <td>2019-11-30 00:00:00</td>\n",
       "      <td>2019-11-30 23:58:44</td>\n",
       "      <td>NaN</td>\n",
       "      <td>('Godsunchained', '40925443.0')</td>\n",
       "      <td>Godsunchained</td>\n",
       "      <td>Games</td>\n",
       "    </tr>\n",
       "  </tbody>\n",
       "</table>\n",
       "<p>5 rows × 24 columns</p>\n",
       "</div>"
      ],
      "text/plain": [
       "  Smart_contract    ID_token  \\\n",
       "0            NaN  87094722.0   \n",
       "1            NaN  73044643.0   \n",
       "2            NaN  17107482.0   \n",
       "3            NaN  82230857.0   \n",
       "4            NaN  40925443.0   \n",
       "\n",
       "                                    Transaction_hash  \\\n",
       "0  0xed9ff1c311a611e5c457ce0a49bbbb7ed55efca98842...   \n",
       "1  0xbc8412594ffa7382e8306215ece5b4e041fc641b1813...   \n",
       "2  0x92672baf5e9e23de230dee8e57ddf443ab6d5a336341...   \n",
       "3  0x3d157249e3083622c2d756f07a05caa3a76687288b32...   \n",
       "4  0xa892b3569dc8e6b3c7db93aade62372637ebbc61fb63...   \n",
       "\n",
       "                               Seller_address Seller_username  \\\n",
       "0  0x76481caa104b5f6bccb540dae4cefaf1c398ebea             NaN   \n",
       "1  0x76481caa104b5f6bccb540dae4cefaf1c398ebea             NaN   \n",
       "2  0x76481caa104b5f6bccb540dae4cefaf1c398ebea             NaN   \n",
       "3  0x76481caa104b5f6bccb540dae4cefaf1c398ebea             NaN   \n",
       "4  0x76481caa104b5f6bccb540dae4cefaf1c398ebea             NaN   \n",
       "\n",
       "                                Buyer_address Buyer_username  \\\n",
       "0  0xe0fb7622091e3d9ef9b438471b10b9ea88c7cf6b            NaN   \n",
       "1  0x2c00d05ff7ffe93d77145dfe12aa56e622ae6f40            NaN   \n",
       "2  0xe0fb7622091e3d9ef9b438471b10b9ea88c7cf6b            NaN   \n",
       "3  0x2c00d05ff7ffe93d77145dfe12aa56e622ae6f40            NaN   \n",
       "4  0x2c00d05ff7ffe93d77145dfe12aa56e622ae6f40            NaN   \n",
       "\n",
       "                                  Image_url_1 Image_url_2 Image_url_3  ...  \\\n",
       "0   https://card.godsunchained.com/?id=33&q=4         NaN         NaN  ...   \n",
       "1   https://card.godsunchained.com/?id=79&q=4         NaN         NaN  ...   \n",
       "2   https://card.godsunchained.com/?id=33&q=4         NaN         NaN  ...   \n",
       "3  https://card.godsunchained.com/?id=227&q=4         NaN         NaN  ...   \n",
       "4   https://card.godsunchained.com/?id=62&q=4         NaN         NaN  ...   \n",
       "\n",
       "  Name  Description     Collection         Market     Datetime_updated  \\\n",
       "0  NaN          NaN  Godsunchained  Godsunchained  2019-11-30 00:00:00   \n",
       "1  NaN          NaN  Godsunchained  Godsunchained  2019-11-30 00:00:00   \n",
       "2  NaN          NaN  Godsunchained  Godsunchained  2019-11-30 00:00:00   \n",
       "3  NaN          NaN  Godsunchained  Godsunchained  2019-11-30 00:00:00   \n",
       "4  NaN          NaN  Godsunchained  Godsunchained  2019-11-30 00:00:00   \n",
       "\n",
       "  Datetime_updated_seconds Permanent_link             Unique_id_collection  \\\n",
       "0      2019-11-30 23:59:33            NaN  ('Godsunchained', '87094722.0')   \n",
       "1      2019-11-30 23:59:33            NaN  ('Godsunchained', '73044643.0')   \n",
       "2      2019-11-30 23:59:33            NaN  ('Godsunchained', '17107482.0')   \n",
       "3      2019-11-30 23:59:33            NaN  ('Godsunchained', '82230857.0')   \n",
       "4      2019-11-30 23:58:44            NaN  ('Godsunchained', '40925443.0')   \n",
       "\n",
       "  Collection_cleaned Category  \n",
       "0      Godsunchained    Games  \n",
       "1      Godsunchained    Games  \n",
       "2      Godsunchained    Games  \n",
       "3      Godsunchained    Games  \n",
       "4      Godsunchained    Games  \n",
       "\n",
       "[5 rows x 24 columns]"
      ]
     },
     "execution_count": 44,
     "metadata": {},
     "output_type": "execute_result"
    }
   ],
   "source": [
    "X.head()"
   ]
  },
  {
   "cell_type": "code",
   "execution_count": 45,
   "metadata": {},
   "outputs": [],
   "source": [
    "import missingno as msno"
   ]
  },
  {
   "cell_type": "code",
   "execution_count": 46,
   "metadata": {},
   "outputs": [
    {
     "name": "stdout",
     "output_type": "stream",
     "text": [
      "<class 'pandas.core.frame.DataFrame'>\n",
      "RangeIndex: 6071027 entries, 0 to 6071026\n",
      "Data columns (total 24 columns):\n",
      " #   Column                    Dtype  \n",
      "---  ------                    -----  \n",
      " 0   Smart_contract            object \n",
      " 1   ID_token                  object \n",
      " 2   Transaction_hash          object \n",
      " 3   Seller_address            object \n",
      " 4   Seller_username           object \n",
      " 5   Buyer_address             object \n",
      " 6   Buyer_username            object \n",
      " 7   Image_url_1               object \n",
      " 8   Image_url_2               object \n",
      " 9   Image_url_3               object \n",
      " 10  Image_url_4               object \n",
      " 11  Price_Crypto              float64\n",
      " 12  Crypto                    object \n",
      " 13  Price_USD                 float64\n",
      " 14  Name                      object \n",
      " 15  Description               object \n",
      " 16  Collection                object \n",
      " 17  Market                    object \n",
      " 18  Datetime_updated          object \n",
      " 19  Datetime_updated_seconds  object \n",
      " 20  Permanent_link            object \n",
      " 21  Unique_id_collection      object \n",
      " 22  Collection_cleaned        object \n",
      " 23  Category                  object \n",
      "dtypes: float64(2), object(22)\n",
      "memory usage: 1.1+ GB\n"
     ]
    }
   ],
   "source": [
    "X.info()"
   ]
  },
  {
   "cell_type": "markdown",
   "metadata": {},
   "source": [
    "## Missingness"
   ]
  },
  {
   "cell_type": "code",
   "execution_count": 47,
   "metadata": {},
   "outputs": [
    {
     "data": {
      "text/plain": [
       "Smart_contract               961610\n",
       "ID_token                          0\n",
       "Transaction_hash            3185640\n",
       "Seller_address                    0\n",
       "Seller_username             4977773\n",
       "Buyer_address                     0\n",
       "Buyer_username              5178164\n",
       "Image_url_1                   54798\n",
       "Image_url_2                 1122022\n",
       "Image_url_3                 1032330\n",
       "Image_url_4                 1036942\n",
       "Price_Crypto                      0\n",
       "Crypto                            0\n",
       "Price_USD                      8283\n",
       "Name                        4219063\n",
       "Description                 4340298\n",
       "Collection                        0\n",
       "Market                            0\n",
       "Datetime_updated                  0\n",
       "Datetime_updated_seconds          0\n",
       "Permanent_link              4163765\n",
       "Unique_id_collection              0\n",
       "Collection_cleaned                0\n",
       "Category                          0\n",
       "dtype: int64"
      ]
     },
     "execution_count": 47,
     "metadata": {},
     "output_type": "execute_result"
    }
   ],
   "source": [
    "X.isna().sum()"
   ]
  },
  {
   "cell_type": "code",
   "execution_count": 50,
   "metadata": {},
   "outputs": [],
   "source": [
    "missingperc = (X.isna().sum() / X.shape[0])"
   ]
  },
  {
   "cell_type": "code",
   "execution_count": 51,
   "metadata": {},
   "outputs": [
    {
     "data": {
      "text/plain": [
       "Smart_contract              0.158393\n",
       "ID_token                    0.000000\n",
       "Transaction_hash            0.524728\n",
       "Seller_address              0.000000\n",
       "Seller_username             0.819923\n",
       "Buyer_address               0.000000\n",
       "Buyer_username              0.852930\n",
       "Image_url_1                 0.009026\n",
       "Image_url_2                 0.184816\n",
       "Image_url_3                 0.170042\n",
       "Image_url_4                 0.170802\n",
       "Price_Crypto                0.000000\n",
       "Crypto                      0.000000\n",
       "Price_USD                   0.001364\n",
       "Name                        0.694950\n",
       "Description                 0.714920\n",
       "Collection                  0.000000\n",
       "Market                      0.000000\n",
       "Datetime_updated            0.000000\n",
       "Datetime_updated_seconds    0.000000\n",
       "Permanent_link              0.685842\n",
       "Unique_id_collection        0.000000\n",
       "Collection_cleaned          0.000000\n",
       "Category                    0.000000\n",
       "dtype: float64"
      ]
     },
     "execution_count": 51,
     "metadata": {},
     "output_type": "execute_result"
    }
   ],
   "source": [
    "missingperc"
   ]
  },
  {
   "cell_type": "code",
   "execution_count": 52,
   "metadata": {},
   "outputs": [
    {
     "data": {
      "text/plain": [
       "<AxesSubplot:>"
      ]
     },
     "execution_count": 52,
     "metadata": {},
     "output_type": "execute_result"
    },
    {
     "data": {
      "image/png": "[encoded data removed]",
      "text/plain": [
       "<Figure size 432x288 with 1 Axes>"
      ]
     },
     "metadata": {
      "needs_background": "light"
     },
     "output_type": "display_data"
    }
   ],
   "source": [
    "ax = missingperc.sort_values(ascending=False).plot.bar()\n",
    "ax.figure.savefig('../figures/07-missing-perc.jpg', bbox_inches=\"tight\", dpi=300)\n",
    "ax"
   ]
  },
  {
   "cell_type": "code",
   "execution_count": 48,
   "metadata": {},
   "outputs": [
    {
     "data": {
      "text/plain": [
       "<AxesSubplot:>"
      ]
     },
     "execution_count": 48,
     "metadata": {},
     "output_type": "execute_result"
    },
    {
     "data": {
      "image/png": "[encoded data removed]",
      "text/plain": [
       "<Figure size 1800x720 with 3 Axes>"
      ]
     },
     "metadata": {
      "needs_background": "light"
     },
     "output_type": "display_data"
    }
   ],
   "source": [
    "ax = msno.bar(X)\n",
    "ax.figure.savefig('../figures/07-missing-bar.jpg', bbox_inches='tight', dpi=300)\n",
    "ax"
   ]
  },
  {
   "cell_type": "code",
   "execution_count": 55,
   "metadata": {},
   "outputs": [
    {
     "data": {
      "text/plain": [
       "146.3413005469002"
      ]
     },
     "execution_count": 55,
     "metadata": {},
     "output_type": "execute_result"
    }
   ],
   "source": [
    "X['Price_USD'].mean()"
   ]
  },
  {
   "cell_type": "code",
   "execution_count": 56,
   "metadata": {},
   "outputs": [
    {
     "data": {
      "text/plain": [
       "1.42647"
      ]
     },
     "execution_count": 56,
     "metadata": {},
     "output_type": "execute_result"
    }
   ],
   "source": [
    "X['Price_USD'].median()"
   ]
  },
  {
   "cell_type": "code",
   "execution_count": null,
   "metadata": {},
   "outputs": [],
   "source": []
  }
 ],
 "metadata": {
  "kernelspec": {
   "display_name": "Python 3 (ipykernel)",
   "language": "python",
   "name": "python3"
  },
  "language_info": {
   "codemirror_mode": {
    "name": "ipython",
    "version": 3
   },
   "file_extension": ".py",
   "mimetype": "text/x-python",
   "name": "python",
   "nbconvert_exporter": "python",
   "pygments_lexer": "ipython3",
   "version": "3.9.7"
  }
 },
 "nbformat": 4,
 "nbformat_minor": 4
}
