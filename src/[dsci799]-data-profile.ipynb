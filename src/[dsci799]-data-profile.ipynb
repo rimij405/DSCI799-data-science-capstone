{
 "cells": [
  {
   "cell_type": "markdown",
   "metadata": {},
   "source": [
    "Course: DSCI 799\n",
    "Student: Ian Effendi (iae2784@rit.edu)\n",
    "\n",
    "# Data Profile\n",
    "\n",
    "> This notebook is used to perform the data profiling on the NFT marektplace dataset."
   ]
  }
 ],
 "metadata": {
  "language_info": {
   "name": "python"
  },
  "orig_nbformat": 4
 },
 "nbformat": 4,
 "nbformat_minor": 2
}
