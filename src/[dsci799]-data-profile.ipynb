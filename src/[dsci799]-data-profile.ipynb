{
 "cells": [
  {
   "cell_type": "markdown",
   "id": "6b9aa827-4b53-43e6-8e2a-a131a049aaf4",
   "metadata": {
    "tags": []
   },
   "source": [
    "Course: ISTE 782\n",
    "Student: Ian Effendi (iae2784@rit.edu)\n",
    "\n",
    "# Assignment 2: Data Scavenger Hunt\n",
    "\n",
    "> The purpose of this assignment is to give you the opportunity to manipulate, display, and compute features from raw data. Over the course of this assignment, you will be guided through a process of manually finding interesting phenomena in a data set. There is no specific process that will work for all data sets, but this specific process should give you a feel for how you would initially analyze your own data set that you’ll find for your course project."
   ]
  },
  {
   "cell_type": "markdown",
   "id": "4e389d83-fed0-4067-b907-ba12b5bac45d",
   "metadata": {},
   "source": [
    "## Table of Contents\n",
    "\n",
    "- [Part 1: Loading Data in Python](#part1)\n",
    "- [Part 2: Data Manipulation and Visualization](#part2)\n",
    "- [Part 3: Creating, Analyzing, and Selecting Features](#part3)\n",
    "- [Part 4: Analyzing Selected Features](#part4)"
   ]
  },
  {
   "cell_type": "markdown",
   "id": "73fa3803-d92e-4df8-8166-42718a88d4e2",
   "metadata": {},
   "source": [
    "## <a name=\"part1\"> Part 1: Loading Data in Python"
   ]
  },
  {
   "cell_type": "code",
   "execution_count": 1,
   "id": "453a46bb-caeb-44a4-a1ce-b5881fb5f24c",
   "metadata": {},
   "outputs": [],
   "source": [
    "# Import dependencies.\n",
    "import numpy as np\n",
    "import matplotlib.pyplot as plt\n",
    "\n",
    "# Style the graphs.\n",
    "plt.style.use('fivethirtyeight')"
   ]
  },
  {
   "cell_type": "code",
   "execution_count": 2,
   "id": "16ccb340-2386-4e60-98d3-b97a916d1f88",
   "metadata": {},
   "outputs": [],
   "source": [
    "# prepare conversion constants\n",
    "conversion_factor = 1000"
   ]
  },
  {
   "cell_type": "code",
   "execution_count": 3,
   "id": "2cd9fbd4-4173-4602-9bce-f6e882adafc4",
   "metadata": {},
   "outputs": [],
   "source": [
    "# make empty data and time Lists\n",
    "LA_list = []\n",
    "RV_list = []\n",
    "RA_list = []\n",
    "TL_list = []\n",
    "TR_list = []"
   ]
  },
  {
   "cell_type": "code",
   "execution_count": 4,
   "id": "d25ef386-9b6c-45c7-98ce-69ed4b180ae8",
   "metadata": {},
   "outputs": [],
   "source": [
    "# Read in the waveforms dataset.\n",
    "def read_waveforms(LA, RV, RA) :\n",
    "    infile = open('waveforms.csv', 'r')\n",
    "\n",
    "    line = infile.readline()\n",
    "    wf = 0 # which waveform are we trying to read (0 = LA, 1 = RV, 2 = RA)\n",
    "\n",
    "    while line :\n",
    "        line = line.strip()\n",
    "        data = line.split(',')\n",
    "\n",
    "        for i in range(0, len(data)) : \n",
    "            data[i] = float(data[i])\n",
    "\n",
    "        if(wf == 0) :\n",
    "            LA.append(data)\n",
    "        elif(wf == 1) :\n",
    "            RV.append(data)\n",
    "        elif(wf == 2) :\n",
    "            RA.append(data)\n",
    "        \n",
    "        wf = (wf + 1) % 3\n",
    "        line = infile.readline()\n",
    "\n",
    "    infile.close()"
   ]
  },
  {
   "cell_type": "markdown",
   "id": "30a1ed1a-e840-487f-8eea-736cef67f969",
   "metadata": {},
   "source": [
    "We modify the `read_times` function to apply a conversion factor of `x1000` for both the linear and rotational times."
   ]
  },
  {
   "cell_type": "code",
   "execution_count": 5,
   "id": "d4bd0da5-c2bc-4516-b7d3-e37ab6d15f6c",
   "metadata": {},
   "outputs": [],
   "source": [
    "# Read times dataset.\n",
    "def read_times(TL, TR) :\n",
    "    infile = open('times.csv', 'r')\n",
    "    line = infile.readline()\n",
    "    data = line.strip().split(',')\n",
    "\n",
    "    for i in range(0, len(data)) : \n",
    "        data[i] = float(data[i]) * conversion_factor\n",
    "\n",
    "    TL.append(data)\n",
    "\n",
    "    line = infile.readline()\n",
    "    data = line.strip().split(',')\n",
    "\n",
    "    for i in range(0, len(data)) : \n",
    "        data[i] = float(data[i]) * conversion_factor\n",
    "\n",
    "    TR.append(data)\n",
    "    infile.close()"
   ]
  },
  {
   "cell_type": "code",
   "execution_count": 6,
   "id": "23fc1b02-895c-444f-9a0d-2832eb85e0c2",
   "metadata": {},
   "outputs": [],
   "source": [
    "# Read in the datasets.\n",
    "read_waveforms(LA_list, RV_list, RA_list)\n",
    "read_times(TL_list, TR_list)\n",
    "\n",
    "# convert all data and time lists to numpy arrays for plotting\n",
    "LA = np.array(LA_list)\n",
    "RV = np.array(RV_list)\n",
    "RA = np.array(RA_list)\n",
    "TL = np.array(TL_list[0])\n",
    "TR = np.array(TR_list[0])"
   ]
  },
  {
   "cell_type": "markdown",
   "id": "6ca6c0bb-d415-4d3a-b31f-a27f3518634b",
   "metadata": {},
   "source": [
    "## <a name=\"part2\"> Part 2: Data Manipulation and Visualization"
   ]
  },
  {
   "cell_type": "markdown",
   "id": "50f8be4d-7caa-4f35-bd70-4f1fcd222cb8",
   "metadata": {},
   "source": [
    "Let's plot the linear acceleration waveform to see what it looks like."
   ]
  },
  {
   "cell_type": "code",
   "execution_count": 7,
   "id": "708ed0fc-2df2-478d-ad41-b206ebd1df78",
   "metadata": {},
   "outputs": [],
   "source": [
    "# Plot instance helper function.\n",
    "def plot_instance(data, time, title, xlab, ylab, outfile):\n",
    "    plt.plot(time, data)\n",
    "    plt.title(title)\n",
    "    plt.xlabel(xlab)\n",
    "    plt.ylabel(ylab)\n",
    "    plt.xticks(np.arange(0, 55, step=5))\n",
    "    plt.savefig(outfile)\n",
    "    plt.close()    "
   ]
  },
  {
   "cell_type": "code",
   "execution_count": 8,
   "id": "047b477b-6262-4d06-ad45-2db66314cf68",
   "metadata": {},
   "outputs": [],
   "source": [
    "# Create the plot for instance 7 of the LA dataset.\n",
    "plot_instance(\n",
    "    LA[6,:], TL,\n",
    "    \"Linear Acceleration of Instance 7\",\n",
    "    \"Time (ms)\",\n",
    "    \"Lin. Accel. (g)\",\n",
    "    \"Instance 7.png\")"
   ]
  },
  {
   "cell_type": "markdown",
   "id": "3d3d2967-0b4c-43c9-a082-44fe10110020",
   "metadata": {},
   "source": [
    "Using a `for` loop and the `subplot` command, we can create an image file for every data instance that contains all three waveforms (for that instance) in a single image."
   ]
  },
  {
   "cell_type": "code",
   "execution_count": 9,
   "id": "b2be2209-5d9e-40f4-a331-8272306d9393",
   "metadata": {},
   "outputs": [],
   "source": [
    "# Fill the stub function for plotting waveforms.\n",
    "def plot_waveforms(LA, RV, RA, TL, TR) :\n",
    "        \n",
    "    # Function reference for plotting an instance\n",
    "    # of data (an array) time series.\n",
    "    def plot_instance(data, time, ylabel, yticks):\n",
    "        plt.plot(time, data)\n",
    "        plt.ylabel(ylabel)\n",
    "        plt.xticks(np.arange(0, 55, step=5))\n",
    "        plt.yticks(yticks) \n",
    "    \n",
    "    # Get x- or y-axis ticks.\n",
    "    def get_ticks(min_value, max_value):\n",
    "        \n",
    "        # Get the value range.\n",
    "        extents = abs(max_value - min_value)\n",
    "        \n",
    "        # If value range is zero, set steps to 1.\n",
    "        if extents == 0:\n",
    "            return np.arange(min_value - 1, max_value + 2, step=1)\n",
    "        \n",
    "        if extents > 25 and extents <= 40:\n",
    "            step = 5\n",
    "        else:\n",
    "            step = extents / 10\n",
    "        \n",
    "        # If step is zero, default to 1.\n",
    "        if step == 0:\n",
    "            step = 1\n",
    "        \n",
    "        return np.arange(0, max_value + 1, step=step)\n",
    "    \n",
    "    n_samples = len(LA)\n",
    "    for i in range(0, n_samples):\n",
    "        \n",
    "        # Create the outfile name for this chart.\n",
    "        outfile = f\"figures/[{i:02d}]_waveform_instance_{i+1}.png\"\n",
    "        \n",
    "        # Set the figure size.\n",
    "        fig = plt.figure(figsize=(15, 12))\n",
    "        \n",
    "        # Set the title for this batch of charts.\n",
    "        fig.suptitle(f\"Waveforms for Instance {i+1}\", fontsize=16)\n",
    "                \n",
    "        # LA\n",
    "        plt.subplot(311)\n",
    "        plot_instance(LA[i,:], TL, \"Lin. Accel. (g)\", get_ticks(0, np.max(LA[i,:])))\n",
    "        \n",
    "        # RV\n",
    "        plt.subplot(312)\n",
    "        plot_instance(RV[i,:], TR, \"Rot. Vel. (rad/sec)\", get_ticks(0, np.max(RV[i,:])))\n",
    "        \n",
    "        # RA\n",
    "        plt.subplot(313)\n",
    "        plot_instance(RA[i,:], TR, \"Rot. Accel. (rad/sec^2)\",  get_ticks(0, np.max(RA[i,:])))\n",
    "        \n",
    "        # Add x-axis label.\n",
    "        plt.xlabel(\"Time (ms)\")\n",
    "        \n",
    "        # Close this chart after saving it.\n",
    "        plt.savefig(outfile)\n",
    "        plt.close()    "
   ]
  },
  {
   "cell_type": "code",
   "execution_count": 10,
   "id": "769bc063-ba47-4fdd-8c2a-5a1e30e2f4f2",
   "metadata": {},
   "outputs": [
    {
     "name": "stdout",
     "output_type": "stream",
     "text": [
      "CPU times: user 12.5 s, sys: 408 ms, total: 12.9 s\n",
      "Wall time: 12.9 s\n"
     ]
    }
   ],
   "source": [
    "# Execute drawing (and time process) for all charts.\n",
    "%time plot_waveforms(LA, RV, RA, TL, TR)"
   ]
  },
  {
   "cell_type": "markdown",
   "id": "1c75ce6f-f4d4-4b3f-ba18-01876a405207",
   "metadata": {},
   "source": [
    "> Do any of the waveforms standout over the others? Compare the respective individual waveforms from each data instance as you go through the images one at a time. Is there a way to improve the visualizations to make the waveform comparisons more meaningful?\n",
    "\n",
    "- Additional guidelines, rules, and reference lines to identify or highlight interesting points.\n",
    "    - Addition of guidelines showing aggregated summary statistics per instance.\n",
    "    - Addition of guidelines showing aggregated summary statistics across all instances.\n",
    "- Shaded overlap regions of all instances showing the \"hottest\" spots.\n",
    "    - Each line could have a very small alpha value (eg. 1/65).\n",
    "    - If we draw all lines overlapping, the boldest visual area will correspond with the most frequent peaking times across all instances."
   ]
  },
  {
   "cell_type": "markdown",
   "id": "928caf60-211b-49ff-80b3-b7982e53a4ae",
   "metadata": {},
   "source": [
    "## <a name=\"part3\"> Part 3: Creating, Analyzing, and Selecting Features"
   ]
  },
  {
   "cell_type": "markdown",
   "id": "3ab3b72d-64d4-47da-9609-9f3c8775bc0d",
   "metadata": {},
   "source": [
    "> Next, write code that will iterate across the three respective waveform matrices (LA, RV, and RA) and compute the min, max, and mean of each individual waveform. The easiest way to do this is to append the feature values to lists and then convert the lists to numpy arrays. Use the following names for your numpy arrays."
   ]
  },
  {
   "cell_type": "code",
   "execution_count": 11,
   "id": "3a4fc6d6-e58a-471c-8fd8-68c3cd244899",
   "metadata": {},
   "outputs": [],
   "source": [
    "# Generate summary feature using aggregate functions.\n",
    "def aggregate(data, func):\n",
    "    n_rows = np.shape(data)[0] # Calculate the rows.\n",
    "    return np.array([func(data[x,:]) for x in range(n_rows)])"
   ]
  },
  {
   "cell_type": "code",
   "execution_count": 12,
   "id": "a13e3779-795e-4de8-ade1-ef508404e857",
   "metadata": {},
   "outputs": [],
   "source": [
    "def summarize_instance(data):\n",
    "    return {\n",
    "        \"minimum\": aggregate(data, np.min),\n",
    "        \"average\": aggregate(data, np.mean),\n",
    "        \"peak\": aggregate(data, np.max)\n",
    "    };"
   ]
  },
  {
   "cell_type": "code",
   "execution_count": 13,
   "id": "2abd4af5-a69d-4353-ab65-4e2d9af3a2b0",
   "metadata": {},
   "outputs": [],
   "source": [
    "def summarize_waveforms(LA, RV, RA):\n",
    "    return {\n",
    "       \"LA\": LA,\n",
    "       \"MLA\": summarize_instance(LA)['minimum'], # Minimum linear acceleration.\n",
    "       \"ALA\": summarize_instance(LA)['average'], # Average linear acceleration.\n",
    "       \"PLA\": summarize_instance(LA)['peak'],    # Peak linear acceleration.\n",
    "        \n",
    "       \"RV\": RV,\n",
    "       \"MRV\": summarize_instance(RV)['minimum'], # Minimum linear acceleration.\n",
    "       \"ARV\": summarize_instance(RV)['average'], # Average linear acceleration.\n",
    "       \"PRV\": summarize_instance(RV)['peak'],    # Peak linear acceleration.\n",
    "        \n",
    "       \"RA\": RA,\n",
    "       \"MRA\": summarize_instance(RA)['minimum'], # Minimum linear acceleration.\n",
    "       \"ARA\": summarize_instance(RA)['average'], # Average linear acceleration.\n",
    "       \"PRA\": summarize_instance(RA)['peak'],    # Peak linear acceleration.\n",
    "    }"
   ]
  },
  {
   "cell_type": "code",
   "execution_count": 14,
   "id": "0cfc2290-d5d6-4015-bffa-3384818d2f44",
   "metadata": {},
   "outputs": [],
   "source": [
    "# Get waveform summaries.\n",
    "waveform_summary = summarize_waveforms(LA, RV, RA)"
   ]
  },
  {
   "cell_type": "code",
   "execution_count": 15,
   "id": "4904c55c-915d-4ae7-b9ac-2f90d468121a",
   "metadata": {},
   "outputs": [],
   "source": [
    "# Summary function for repeatedly printing aggregate info about a feature column.\n",
    "def summarise(df, feature, view=0):\n",
    "    if not view and feature in df.keys():\n",
    "        df_subset = df\n",
    "    elif view and feature in view and feature in df.keys():\n",
    "        df_subset = { key: value for key, value in df.items() if key in view }\n",
    "    else:\n",
    "        return\n",
    "    field = df_subset[feature]\n",
    "    print(f'{feature}: min = {np.min(field)}, max = {np.max(field)}, avg = {np.mean(field)}')"
   ]
  },
  {
   "cell_type": "code",
   "execution_count": 16,
   "id": "2a004e06-d5a0-4aec-a50d-6ad18f93652c",
   "metadata": {},
   "outputs": [
    {
     "name": "stdout",
     "output_type": "stream",
     "text": [
      "LA: min = 0.0, max = 151.7148, avg = 10.964327359823077\n",
      "MLA: min = 0.0, max = 0.0, avg = 0.0\n",
      "ALA: min = 4.39519404, max = 22.2569035, avg = 10.964327359823077\n",
      "PLA: min = 16.8252, max = 151.7148, avg = 50.71578769230769\n"
     ]
    }
   ],
   "source": [
    "# Summarise the LA features.\n",
    "for feature in waveform_summary.keys():\n",
    "    summarise(waveform_summary, feature, [ 'LA', 'MLA', 'ALA', 'PLA' ] )"
   ]
  },
  {
   "cell_type": "code",
   "execution_count": 17,
   "id": "fcdac7b3-58ca-4e3b-9747-7aa6895e1af9",
   "metadata": {},
   "outputs": [
    {
     "name": "stdout",
     "output_type": "stream",
     "text": [
      "RV: min = 0.0, max = 55.3868, avg = 10.961333207300838\n",
      "MRV: min = 0.0, max = 0.0, avg = 0.0\n",
      "ARV: min = 5.7067274257425735, max = 23.397538128712867, avg = 10.961333207300836\n",
      "PRV: min = 18.1009, max = 55.3868, avg = 35.96904461538462\n"
     ]
    }
   ],
   "source": [
    "# Summarise the RV features.\n",
    "for feature in waveform_summary.keys():\n",
    "    summarise(waveform_summary, feature, [ 'RV', 'MRV', 'ARV', 'PRV' ] )"
   ]
  },
  {
   "cell_type": "code",
   "execution_count": 18,
   "id": "db767939-abb8-4f11-8873-d552540dc76c",
   "metadata": {},
   "outputs": [
    {
     "name": "stdout",
     "output_type": "stream",
     "text": [
      "RA: min = 0.0, max = 44.5424, avg = 2.070695177913176\n",
      "MRA: min = 0.0, max = 0.0, avg = 0.0\n",
      "ARA: min = 1.0092340495049505, max = 4.418352356435643, avg = 2.0706951779131764\n",
      "PRA: min = 10.3132, max = 44.5424, avg = 13.493876923076924\n"
     ]
    }
   ],
   "source": [
    "# Summarise the RA features.\n",
    "for feature in waveform_summary.keys():\n",
    "    summarise(waveform_summary, feature, [ 'RA', 'MRA', 'ARA', 'PRA' ] )"
   ]
  },
  {
   "cell_type": "code",
   "execution_count": 19,
   "id": "90607242-8293-4d74-a45e-5dd22bb1ea7f",
   "metadata": {
    "tags": []
   },
   "outputs": [
    {
     "data": {
      "text/plain": [
       "{'MLA': array([0., 0., 0., 0., 0., 0., 0., 0., 0., 0., 0., 0., 0., 0., 0., 0., 0.,\n",
       "        0., 0., 0., 0., 0., 0., 0., 0., 0., 0., 0., 0., 0., 0., 0., 0., 0.,\n",
       "        0., 0., 0., 0., 0., 0., 0., 0., 0., 0., 0., 0., 0., 0., 0., 0., 0.,\n",
       "        0., 0., 0., 0., 0., 0., 0., 0., 0., 0., 0., 0., 0., 0.]),\n",
       " 'ALA': array([ 9.86977313,  9.17452411,  8.16959799,  8.78846438,  8.25688312,\n",
       "        14.15928976,  8.39712063, 15.92717737, 16.45278075,  6.73995713,\n",
       "        22.2569035 , 18.36913485, 13.06193737, 13.10548129,  7.75157758,\n",
       "         9.31878412,  7.24478211,  5.85639257, 18.11082306, 13.05662022,\n",
       "         8.8751908 ,  9.10981387,  8.16117969, 13.30993375, 12.55893125,\n",
       "        12.92154013, 11.7507689 ,  9.073431  ,  7.16341877, 16.57517157,\n",
       "         7.95070516, 12.05786725,  8.47340575, 12.14093163, 13.10117613,\n",
       "         7.03184212,  5.66922813,  6.24703234, 10.94524884,  7.15529613,\n",
       "        10.96413075, 10.48522083,  5.45479125,  4.39519404,  6.40556837,\n",
       "         9.0184685 , 19.75237338, 11.53966062,  9.72268312,  4.977715  ,\n",
       "        13.89726262,  4.95245875,  8.54215712,  6.25975575, 10.60500256,\n",
       "        12.2534785 , 15.4840775 , 13.16854263, 14.71145725, 18.7947295 ,\n",
       "        21.88945213,  9.08901451, 12.76933136, 12.14617263, 11.06246147]),\n",
       " 'PLA': array([ 31.0846,  42.3851,  39.105 ,  38.055 ,  30.3696,  54.7442,\n",
       "         42.5714, 110.9405, 131.7017,  35.1772, 130.7306,  63.9629,\n",
       "         52.0344,  27.035 ,  20.5185,  42.3097,  39.612 ,  31.1734,\n",
       "        127.1141, 151.7148,  56.7477,  27.3868,  39.6305,  37.1073,\n",
       "         62.057 ,  44.4492,  45.8111,  26.1897,  36.8324,  78.4129,\n",
       "         36.7765,  31.1608,  26.8979,  35.56  ,  76.8883,  33.3552,\n",
       "         35.0214,  33.9518,  70.3428,  48.5514,  36.5491,  69.637 ,\n",
       "         23.076 ,  18.223 ,  21.1446,  30.9266,  75.1122,  68.9492,\n",
       "         29.8736,  31.2138,  73.602 ,  16.8252,  28.7676,  43.1111,\n",
       "         68.0626,  78.3577,  48.6229,  47.0987,  72.9067,  43.7065,\n",
       "         52.2171,  44.8825,  59.8611,  52.5665,  35.7625]),\n",
       " 'MRV': array([0., 0., 0., 0., 0., 0., 0., 0., 0., 0., 0., 0., 0., 0., 0., 0., 0.,\n",
       "        0., 0., 0., 0., 0., 0., 0., 0., 0., 0., 0., 0., 0., 0., 0., 0., 0.,\n",
       "        0., 0., 0., 0., 0., 0., 0., 0., 0., 0., 0., 0., 0., 0., 0., 0., 0.,\n",
       "        0., 0., 0., 0., 0., 0., 0., 0., 0., 0., 0., 0., 0., 0.]),\n",
       " 'ARV': array([11.63802584,  8.74369781,  8.11205535,  7.26610713, 13.43695545,\n",
       "         9.41976356,  8.96973515, 23.39753813, 20.28832089,  7.26403582,\n",
       "        12.00645167, 10.38958881, 14.61630815, 21.36159765,  9.03757723,\n",
       "         8.07522832,  7.52026307, 10.25727911, 10.19325089,  6.71089887,\n",
       "         5.93484579,  7.17341347,  7.45728198, 15.00318879, 20.68361495,\n",
       "        10.46222047, 16.51965505, 14.17650911,  7.83501515,  7.22566303,\n",
       "         5.70672743, 13.37887426, 13.45749253, 15.05832564, 12.30677528,\n",
       "        11.96778673,  9.36211188,  8.3495697 , 10.09250416,  7.87094184,\n",
       "         8.69174287, 12.21040515,  6.76637403,  6.33121832, 13.46269505,\n",
       "        10.33513178, 12.24534168,  6.38989418, 11.15888133,  9.38031287,\n",
       "         8.21082415,  6.27355238, 11.83703307,  7.98929406, 10.35334444,\n",
       "         9.25748644, 14.79397218,  9.90705035, 12.19892832, 21.51418059,\n",
       "        15.79126931,  8.34280594, 10.42535386,  9.27676238, 10.61560762]),\n",
       " 'PRV': array([37.9399, 33.2567, 36.8044, 40.8535, 41.1799, 36.566 , 34.1078,\n",
       "        51.3606, 55.3868, 34.582 , 47.6362, 39.591 , 36.056 , 32.5795,\n",
       "        28.0657, 37.7867, 32.8389, 37.5016, 39.1957, 36.1432, 27.5052,\n",
       "        33.2324, 36.2466, 36.6917, 42.0369, 41.9178, 39.076 , 39.2838,\n",
       "        31.7027, 29.7774, 25.1638, 36.9254, 34.9953, 47.3332, 29.6655,\n",
       "        32.494 , 34.7144, 33.4037, 42.9951, 23.4661, 38.2224, 33.5887,\n",
       "        28.978 , 31.5898, 34.8769, 39.1026, 35.6991, 32.0643, 36.6666,\n",
       "        30.0453, 39.6096, 31.3045, 30.4268, 30.1427, 40.9575, 37.7427,\n",
       "        36.4795, 30.4263, 42.1128, 48.49  , 39.2719, 18.1009, 38.6053,\n",
       "        35.3803, 30.0443]),\n",
       " 'MRA': array([0., 0., 0., 0., 0., 0., 0., 0., 0., 0., 0., 0., 0., 0., 0., 0., 0.,\n",
       "        0., 0., 0., 0., 0., 0., 0., 0., 0., 0., 0., 0., 0., 0., 0., 0., 0.,\n",
       "        0., 0., 0., 0., 0., 0., 0., 0., 0., 0., 0., 0., 0., 0., 0., 0., 0.,\n",
       "        0., 0., 0., 0., 0., 0., 0., 0., 0., 0., 0., 0., 0., 0.]),\n",
       " 'ARA': array([2.58031304, 1.75827458, 1.45132687, 1.56672584, 2.13705727,\n",
       "        2.1689399 , 1.4168758 , 4.10335694, 4.41835236, 1.44794059,\n",
       "        2.68139577, 2.84621366, 2.72256663, 1.96685248, 1.48223073,\n",
       "        2.23253738, 1.35858062, 1.85916426, 2.68625135, 1.86557332,\n",
       "        1.48413609, 2.0109099 , 1.98691363, 2.05507538, 2.33372574,\n",
       "        2.5863005 , 1.5057503 , 2.64808396, 1.58629743, 1.95743668,\n",
       "        1.28323456, 3.35598624, 2.78564901, 3.46639663, 1.51234701,\n",
       "        2.19033704, 1.46622624, 1.64858485, 1.90275119, 1.32425361,\n",
       "        1.8111497 , 1.30470624, 1.67207624, 1.00923405, 1.84123406,\n",
       "        1.52526282, 2.94102838, 1.41682267, 2.2998823 , 1.17635604,\n",
       "        1.62512003, 1.48114301, 2.29592124, 1.5446741 , 1.76534059,\n",
       "        2.24722089, 2.28204831, 2.37068505, 3.03204072, 3.39110425,\n",
       "        2.56008545, 1.49178747, 1.72702604, 1.86115887, 2.08115267]),\n",
       " 'PRA': array([13.1446, 10.8438, 10.5262, 10.3132, 12.6122, 10.9258, 11.2316,\n",
       "        27.9306, 44.5424, 11.0848, 25.1077, 15.1006, 11.025 , 11.2275,\n",
       "        10.6406, 13.1043, 12.3313, 12.8003, 30.2862, 23.0736, 11.8279,\n",
       "        14.6189, 12.7571, 10.4241, 12.8412, 14.3234, 10.7777, 10.3581,\n",
       "        11.9698, 11.339 , 11.5442, 12.5821, 11.91  , 13.3908, 14.2204,\n",
       "        12.1504, 12.2637, 10.7979, 12.0019, 10.325 , 13.07  , 14.0127,\n",
       "        11.3218, 11.6517, 12.1076, 10.5645, 12.1282, 12.8603, 11.3515,\n",
       "        11.9222, 13.3992, 10.4788, 10.8267, 11.3416, 11.6169, 13.1545,\n",
       "        12.7425, 13.5724, 14.4932, 10.9882, 11.1118, 11.8939, 13.4295,\n",
       "        12.2924, 14.494 ])}"
      ]
     },
     "execution_count": 19,
     "metadata": {},
     "output_type": "execute_result"
    }
   ],
   "source": [
    "df_features = { key: value for key, value in waveform_summary.items() if key not in [ 'LA', 'RV', 'RA' ] }\n",
    "df_features"
   ]
  },
  {
   "cell_type": "markdown",
   "id": "7155462a-3402-48b4-abad-f75e030ff768",
   "metadata": {},
   "source": [
    "> Create line plots of each of the features and visually compare them. The plotting you do is up to you."
   ]
  },
  {
   "cell_type": "code",
   "execution_count": 20,
   "id": "1f03b015-6d62-4f6b-b0e9-9b8afbd6da72",
   "metadata": {},
   "outputs": [],
   "source": [
    "# Get the output filename.\n",
    "def get_filename(tag, outdir):\n",
    "    return f\"{outdir}/{tag}.png\""
   ]
  },
  {
   "cell_type": "code",
   "execution_count": 21,
   "id": "517aed21-0364-4675-8953-8efe1230b1ba",
   "metadata": {},
   "outputs": [],
   "source": [
    "# Get the title.\n",
    "def get_title(feature_name):\n",
    "     return {\n",
    "        \"MLA\": \"Minimum Linear Acceleration\",\n",
    "        \"ALA\": \"Average Linear Acceleration\",\n",
    "        \"PLA\": \"Peak Linear Acceleration\",\n",
    "\n",
    "        \"MRV\": \"Minimum Rotational Velocity\",\n",
    "        \"ARV\": \"Average Rotational Velocity\",\n",
    "        \"PRV\": \"Peak Rotational Velocity\",\n",
    "\n",
    "        \"MRA\": \"Minimum Rotational Acceleration\",\n",
    "        \"ARA\": \"Average Rotational Acceleration\",\n",
    "        \"PRA\": \"Peak Rotational Acceleration\",\n",
    "    }[feature_name] "
   ]
  },
  {
   "cell_type": "code",
   "execution_count": 22,
   "id": "7be2768b-5762-4e9b-b649-241cdb04c97a",
   "metadata": {},
   "outputs": [],
   "source": [
    "# Get the xlabel.\n",
    "def get_label(feature_name):\n",
    "    return {\n",
    "        \"MLA\": \"Lin. Accel. (g)\",\n",
    "        \"ALA\": \"Lin. Accel. (g)\",\n",
    "        \"PLA\": \"Lin. Accel. (g)\",\n",
    "\n",
    "        \"MRV\": \"Rot. Vel. (rad/s)\",\n",
    "        \"ARV\": \"Rot. Vel. (rad/s)\",\n",
    "        \"PRV\": \"Rot. Vel. (rad/s)\",\n",
    "\n",
    "        \"MRA\": \"Rot. Accel. (rad/s^2)\",\n",
    "        \"ARA\": \"Rot. Accel. (rad/s^2)\",\n",
    "        \"PRA\": \"Rot. Accel. (rad/s^2)\",\n",
    "    }[feature_name]    "
   ]
  },
  {
   "cell_type": "code",
   "execution_count": 23,
   "id": "c12f3d28-5810-4b10-ac7c-8b72421b3991",
   "metadata": {},
   "outputs": [],
   "source": [
    "# Get x- or y-axis ticks.\n",
    "def get_ticks(min_value, max_value):\n",
    "\n",
    "    # Get the value range.\n",
    "    extents = abs(max_value - min_value)\n",
    "\n",
    "    # If value range is zero, set steps to 1.\n",
    "    if extents == 0:\n",
    "        return np.arange(min_value - 1, max_value + 2, step=1)\n",
    "\n",
    "    if extents > 25 and extents <= 40:\n",
    "        step = 5\n",
    "    else:\n",
    "        step = extents / 10\n",
    "\n",
    "    # If step is zero, default to 1.\n",
    "    if step == 0:\n",
    "        step = 1\n",
    "\n",
    "    return np.arange(0, max_value + 1, step=step)"
   ]
  },
  {
   "cell_type": "code",
   "execution_count": 24,
   "id": "d5ec6ecb-1560-4f1c-8708-80aef2367a9a",
   "metadata": {},
   "outputs": [],
   "source": [
    "# Fill the stub function for plotting waveforms.\n",
    "def plot_features(df) :\n",
    "        \n",
    "    # Function reference for plotting an instance\n",
    "    # of data (an array) time series.\n",
    "    def plot_feature(y, title, xlab, ylab, xticks, yticks, outfile):\n",
    "        plt.plot(y)\n",
    "        plt.title(title)\n",
    "        plt.xlabel(xlab)\n",
    "        plt.ylabel(ylab)\n",
    "        plt.xticks(xticks)\n",
    "        plt.yticks(yticks)\n",
    "        plt.savefig(outfile)\n",
    "        plt.close()    \n",
    "                        \n",
    "    # xlabel is the same.\n",
    "    xlab = \"Instances\"\n",
    "    \n",
    "    # xticks is the same.\n",
    "    xticks = np.arange(0, 66, step=5)\n",
    "        \n",
    "    # Loop through each feature.\n",
    "    for feature in df.keys():\n",
    "        \n",
    "        # Get the data series based on the feature name.\n",
    "        ds = df[feature]\n",
    "\n",
    "        # Create the outfile name for this chart.\n",
    "        f_outfile = get_filename(feature + \"_\", 'figures')\n",
    "        \n",
    "        # Get the title.\n",
    "        f_title = get_title(feature)\n",
    "        \n",
    "        # Get the x label.\n",
    "        f_ylab = get_label(feature)\n",
    "    \n",
    "        # Get the x ticks.\n",
    "        f_yticks = get_ticks(np.min(ds), np.max(ds))\n",
    "    \n",
    "        # Set the figure size.\n",
    "        plt.figure(figsize=(15, 12))        \n",
    "        \n",
    "        # Plot the feature.\n",
    "        plot_feature(ds, f_title, xlab, f_ylab, xticks, f_yticks, f_outfile)"
   ]
  },
  {
   "cell_type": "code",
   "execution_count": 25,
   "id": "68be705d-e491-4db7-b6a6-acc13db34b1b",
   "metadata": {},
   "outputs": [
    {
     "name": "stdout",
     "output_type": "stream",
     "text": [
      "CPU times: user 856 ms, sys: 28.9 ms, total: 884 ms\n",
      "Wall time: 881 ms\n"
     ]
    }
   ],
   "source": [
    "%time plot_features(df_features)"
   ]
  },
  {
   "cell_type": "markdown",
   "id": "c8f7f20f-937e-4523-95bd-8d7d68623ee1",
   "metadata": {},
   "source": [
    "> After visualizing all nine of the features and pondering the summary statistics, three features will appear to be the most useful for differentiating between the 'different' data instances and the rest of them. Make sure that you save all of your features plots for this assignment since you will be investigating three of your selected features by visualizing them in different ways."
   ]
  },
  {
   "cell_type": "markdown",
   "id": "f09d8655-a8e6-40bc-bd43-564e65574010",
   "metadata": {},
   "source": [
    "I selected three features:\n",
    "- `PLA`: Peak Linear Acceleration\n",
    "    - Visually identified outliers near instances `5`, `10`, and `20`.\n",
    "- `PRA`: Peak Rotational Acceleration\n",
    "    - Visually identified significant outliers near instances `5`, `10`, and `20`. May be correlated with `PLA`.\n",
    "- `ARV`: Average Rotational Velocity\n",
    "    - Visually identified outliers near instances `5`, `10`, `20`, `25`, and `60`.\n",
    "    \n",
    "At this stage of analysis, I'm not sure of the exact instances where these high values are extremely different, but these three features' visual representations suggest further investigation is necessary."
   ]
  },
  {
   "cell_type": "markdown",
   "id": "c61a0992-dd4e-4a22-8b7d-03f8ecf8ea71",
   "metadata": {},
   "source": [
    "## <a name=\"part4\"> Part 4: Analyzing Selected Features"
   ]
  },
  {
   "cell_type": "markdown",
   "id": "76a00fc1-dc4e-4b06-b0f1-db6190d3b069",
   "metadata": {},
   "source": [
    "> Using your three selected features, create three separate scatter plots (one for each combination of features)."
   ]
  },
  {
   "cell_type": "code",
   "execution_count": 26,
   "id": "cf7a7162-ba45-41e8-94ba-f431154181e4",
   "metadata": {},
   "outputs": [
    {
     "data": {
      "text/plain": [
       "{'PLA': array([ 31.0846,  42.3851,  39.105 ,  38.055 ,  30.3696,  54.7442,\n",
       "         42.5714, 110.9405, 131.7017,  35.1772, 130.7306,  63.9629,\n",
       "         52.0344,  27.035 ,  20.5185,  42.3097,  39.612 ,  31.1734,\n",
       "        127.1141, 151.7148,  56.7477,  27.3868,  39.6305,  37.1073,\n",
       "         62.057 ,  44.4492,  45.8111,  26.1897,  36.8324,  78.4129,\n",
       "         36.7765,  31.1608,  26.8979,  35.56  ,  76.8883,  33.3552,\n",
       "         35.0214,  33.9518,  70.3428,  48.5514,  36.5491,  69.637 ,\n",
       "         23.076 ,  18.223 ,  21.1446,  30.9266,  75.1122,  68.9492,\n",
       "         29.8736,  31.2138,  73.602 ,  16.8252,  28.7676,  43.1111,\n",
       "         68.0626,  78.3577,  48.6229,  47.0987,  72.9067,  43.7065,\n",
       "         52.2171,  44.8825,  59.8611,  52.5665,  35.7625]),\n",
       " 'ARV': array([11.63802584,  8.74369781,  8.11205535,  7.26610713, 13.43695545,\n",
       "         9.41976356,  8.96973515, 23.39753813, 20.28832089,  7.26403582,\n",
       "        12.00645167, 10.38958881, 14.61630815, 21.36159765,  9.03757723,\n",
       "         8.07522832,  7.52026307, 10.25727911, 10.19325089,  6.71089887,\n",
       "         5.93484579,  7.17341347,  7.45728198, 15.00318879, 20.68361495,\n",
       "        10.46222047, 16.51965505, 14.17650911,  7.83501515,  7.22566303,\n",
       "         5.70672743, 13.37887426, 13.45749253, 15.05832564, 12.30677528,\n",
       "        11.96778673,  9.36211188,  8.3495697 , 10.09250416,  7.87094184,\n",
       "         8.69174287, 12.21040515,  6.76637403,  6.33121832, 13.46269505,\n",
       "        10.33513178, 12.24534168,  6.38989418, 11.15888133,  9.38031287,\n",
       "         8.21082415,  6.27355238, 11.83703307,  7.98929406, 10.35334444,\n",
       "         9.25748644, 14.79397218,  9.90705035, 12.19892832, 21.51418059,\n",
       "        15.79126931,  8.34280594, 10.42535386,  9.27676238, 10.61560762]),\n",
       " 'PRA': array([13.1446, 10.8438, 10.5262, 10.3132, 12.6122, 10.9258, 11.2316,\n",
       "        27.9306, 44.5424, 11.0848, 25.1077, 15.1006, 11.025 , 11.2275,\n",
       "        10.6406, 13.1043, 12.3313, 12.8003, 30.2862, 23.0736, 11.8279,\n",
       "        14.6189, 12.7571, 10.4241, 12.8412, 14.3234, 10.7777, 10.3581,\n",
       "        11.9698, 11.339 , 11.5442, 12.5821, 11.91  , 13.3908, 14.2204,\n",
       "        12.1504, 12.2637, 10.7979, 12.0019, 10.325 , 13.07  , 14.0127,\n",
       "        11.3218, 11.6517, 12.1076, 10.5645, 12.1282, 12.8603, 11.3515,\n",
       "        11.9222, 13.3992, 10.4788, 10.8267, 11.3416, 11.6169, 13.1545,\n",
       "        12.7425, 13.5724, 14.4932, 10.9882, 11.1118, 11.8939, 13.4295,\n",
       "        12.2924, 14.494 ])}"
      ]
     },
     "execution_count": 26,
     "metadata": {},
     "output_type": "execute_result"
    }
   ],
   "source": [
    "# Select analysis features.\n",
    "df_analysis = { key: value for key, value in waveform_summary.items() if key in [ 'PLA', 'PRA', 'ARV' ] }\n",
    "df_analysis"
   ]
  },
  {
   "cell_type": "code",
   "execution_count": 27,
   "id": "dd3d26e6-bbce-444c-ab87-3100b550e4ce",
   "metadata": {},
   "outputs": [],
   "source": [
    "# Plot scatterplots of two series.\n",
    "def plot_matrix(series_x, series_y, title, xlab, ylab, xticks, yticks, outfile, figsize=(15,15), s=100, alpha=1, **kwargs):\n",
    "        \n",
    "    # Set figure size.\n",
    "    plt.figure(figsize=figsize)\n",
    "    \n",
    "    # Make scatterplot.\n",
    "    plt.scatter(series_x, series_y, s=s, alpha=alpha, **kwargs)\n",
    "    \n",
    "    # Annotate plot.    \n",
    "    plt.title(title)\n",
    "    plt.xlabel(xlab)\n",
    "    plt.ylabel(ylab)\n",
    "    plt.xticks(xticks)\n",
    "    plt.yticks(yticks)\n",
    "    plt.savefig(outfile)\n",
    "    plt.close()"
   ]
  },
  {
   "cell_type": "code",
   "execution_count": 28,
   "id": "65b1d5c5-c97b-48af-bfe6-6b5d1fb0ae42",
   "metadata": {},
   "outputs": [],
   "source": [
    "# Get unique combinations of the features.\n",
    "from itertools import combinations\n",
    "\n",
    "# Get unique pairs of feature keys.\n",
    "def get_unique_pairs(df):\n",
    "    return [ pair for pair in combinations(df.keys(), 2) ]\n",
    "\n",
    "# Get series_x and series_y given a data dictionary and tuple of x, y.\n",
    "def get_series(df, x, y):\n",
    "    return df[x], df[y]\n",
    "\n",
    "# Get the title for two keys.\n",
    "def get_matrix_title(x, y):\n",
    "    return f\"{get_title(x)} vs. {get_title(y)}\"\n",
    "\n",
    "# Plot scatterplots for each unique pairing of features.\n",
    "def plot_matrices(df, figsize=(12,12), **kwargs):\n",
    "    \n",
    "    # Loop through each unique pair of keys.\n",
    "    for (x, y) in get_unique_pairs(df):\n",
    "                \n",
    "        # Get matrix title.\n",
    "        mat_title = get_matrix_title(x, y)\n",
    "        \n",
    "        # Get filename.\n",
    "        mat_outfile = get_filename(mat_title, 'figures')\n",
    "        \n",
    "        # Get x label, y label.\n",
    "        mat_xlab = get_label(x)\n",
    "        mat_ylab = get_label(y)\n",
    "        \n",
    "        # Get the data.\n",
    "        series_x, series_y = get_series(df, x, y)\n",
    "        \n",
    "        # Get x ticks, y ticks\n",
    "        mat_xticks = get_ticks(np.min(series_x), np.max(series_x))\n",
    "        mat_yticks = get_ticks(np.min(series_y), np.max(series_y))\n",
    "                \n",
    "        # Plot the matrix.\n",
    "        plot_matrix(series_x, series_y, mat_title, mat_xlab, mat_ylab, mat_xticks, mat_yticks, mat_outfile, figsize=figsize, **kwargs)"
   ]
  },
  {
   "cell_type": "code",
   "execution_count": 29,
   "id": "f053ef2a-65e3-41c6-a75a-e3e75149b344",
   "metadata": {},
   "outputs": [
    {
     "name": "stdout",
     "output_type": "stream",
     "text": [
      "CPU times: user 289 ms, sys: 9.64 ms, total: 298 ms\n",
      "Wall time: 296 ms\n"
     ]
    }
   ],
   "source": [
    "%time plot_matrices(df_analysis, c='red', s=200, alpha=0.5)"
   ]
  },
  {
   "cell_type": "markdown",
   "id": "c72e1ef9-815e-43bd-b694-813e60629ed2",
   "metadata": {},
   "source": [
    "> Now find the “Top 5” largest feature values for each of the features and note which data instances they belong to. For example, if the largest value for feature F1 is at index 2, then that would correspond to Instance 3. Fill out the table below by listing the instance numbers in sorted ascending order."
   ]
  },
  {
   "cell_type": "code",
   "execution_count": 30,
   "id": "0888db97-cd4f-40a7-a5a5-1ee85106987a",
   "metadata": {},
   "outputs": [],
   "source": [
    "# 1. Given an array of values, map to (index, value).\n",
    "# 2. Sort in descending order, so that the first item is the maximum value.\n",
    "# 3. Discover the instance from the indices in the top 5 positions.\n",
    "def sort_instances(series):\n",
    "    # Enumerate instances.    \n",
    "    instances = [ (index, value) for (index, value) in enumerate(series) ]\n",
    "    # Sort in descending order and return.\n",
    "    instances.sort(key=lambda x: x[1], reverse=True)\n",
    "    return instances"
   ]
  },
  {
   "cell_type": "code",
   "execution_count": 31,
   "id": "9310d163-8f17-4d31-bde3-4cec28b63490",
   "metadata": {},
   "outputs": [],
   "source": [
    "# Repeat for each feature.\n",
    "def sort_features(df):\n",
    "    # Sort dictionary data per feature and return.\n",
    "    return {\n",
    "        key: sort_instances(values)\n",
    "        for key, values\n",
    "        in df.items()\n",
    "    }"
   ]
  },
  {
   "cell_type": "code",
   "execution_count": 32,
   "id": "b03f5c08-389c-4821-b20b-d3841017736d",
   "metadata": {},
   "outputs": [],
   "source": [
    "# Get the top 5 instances.\n",
    "def find_top_series(series, n = 5):\n",
    "    return sort_instances(series)[:n]"
   ]
  },
  {
   "cell_type": "code",
   "execution_count": 33,
   "id": "f119b38b-8f68-4c16-be1a-5adfc533e8de",
   "metadata": {},
   "outputs": [],
   "source": [
    "# Get the top 5 instances from each feature.\n",
    "def find_top_instances(df, n = 5):\n",
    "    for key, values in df.items():\n",
    "        top_values = find_top_series(values, n=n)\n",
    "        top_instances = [ f\"[{instance}]={value:.2f}\" for instance, value in top_values ]\n",
    "        title = get_title(key)\n",
    "        print(f\"Top instances for {title} ({key}): {', '.join(top_instances)}\")"
   ]
  },
  {
   "cell_type": "code",
   "execution_count": 34,
   "id": "0ceff36b-1e77-4637-9e43-393bc3878c8e",
   "metadata": {},
   "outputs": [
    {
     "name": "stdout",
     "output_type": "stream",
     "text": [
      "Top instances for Peak Linear Acceleration (PLA): [19]=151.71, [8]=131.70, [10]=130.73, [18]=127.11, [7]=110.94\n",
      "Top instances for Average Rotational Velocity (ARV): [7]=23.40, [59]=21.51, [13]=21.36, [24]=20.68, [8]=20.29\n",
      "Top instances for Peak Rotational Acceleration (PRA): [8]=44.54, [18]=30.29, [7]=27.93, [10]=25.11, [19]=23.07\n"
     ]
    }
   ],
   "source": [
    "# Get the top 5 for each feature.\n",
    "find_top_instances(df_analysis, n = 5)"
   ]
  },
  {
   "cell_type": "markdown",
   "id": "c84d66d3-8959-4d58-ace7-98d941b57235",
   "metadata": {},
   "source": [
    "> Two of the features should have the exact same instance numbers in the table above, which means that these are the five “different” data instances. Based on what you learned from our discussion of visual separability in class, think about how the fact that two features have the same five “different” data instances manifests itself in the scatter plot for those two features, as compared with the other two feature scatter plots."
   ]
  },
  {
   "cell_type": "markdown",
   "id": "a161df8e-8fe7-4612-9c20-51adfe98b080",
   "metadata": {},
   "source": [
    "The two 'different' features are likely correlated with one another. While it may not prove a causual relationship, the implications of association can mean a lot depending on the context of the analysis."
   ]
  }
 ],
 "metadata": {
  "kernelspec": {
   "display_name": "Python 3 (ipykernel)",
   "language": "python",
   "name": "python3"
  },
  "language_info": {
   "codemirror_mode": {
    "name": "ipython",
    "version": 3
   },
   "file_extension": ".py",
   "mimetype": "text/x-python",
   "name": "python",
   "nbconvert_exporter": "python",
   "pygments_lexer": "ipython3",
   "version": "3.9.7"
  }
 },
 "nbformat": 4,
 "nbformat_minor": 5
}
